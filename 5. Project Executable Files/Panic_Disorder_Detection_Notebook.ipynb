{
 "cells": [
  {
   "cell_type": "markdown",
   "id": "95ff19e4-f9c7-4c19-b178-2629d235964e",
   "metadata": {},
   "source": [
    "### Data Collection And Preparation"
   ]
  },
  {
   "cell_type": "markdown",
   "id": "c4897eb5-4531-448f-b65f-4cf10c7b2042",
   "metadata": {},
   "source": [
    "### Importing the libraries"
   ]
  },
  {
   "cell_type": "code",
   "execution_count": 2,
   "id": "f1038cd4-4218-4582-9e98-f77055847834",
   "metadata": {},
   "outputs": [],
   "source": [
    "import pandas as pd \n",
    "import numpy as np \n",
    "import matplotlib.pyplot as plt \n",
    "import seaborn as sns \n",
    "from sklearn.feature_selection import chi2\n",
    "from sklearn.ensemble import RandomForestClassifier, ExtraTreesClassifier \n",
    "from sklearn.neighbors import KNeighborsClassifier\n",
    "from sklearn.metrics import confusion_matrix, classification_report \n",
    "from sklearn.tree import DecisionTreeClassifier \n",
    "from sklearn.preprocessing import LabelEncoder, StandardScaler\n",
    "import xgboost\n",
    "import pickle as pkl\n",
    "from sklearn.model_selection import cross_val_score\n",
    "import warnings\n",
    "warnings.filterwarnings (\"ignore\")"
   ]
  },
  {
   "cell_type": "code",
   "execution_count": 3,
   "id": "2547c000-b632-435f-9b5f-8e149eeedb7e",
   "metadata": {},
   "outputs": [],
   "source": [
    "class MultiColumnLabelEncoder:\n",
    "\n",
    "    def __init__(self, columns=None):\n",
    "        self.columns = columns # array of column names to encode\n",
    "\n",
    "\n",
    "    def fit(self, X, y=None):\n",
    "        self.encoders = {}\n",
    "        columns = X.columns if self.columns is None else self.columns\n",
    "        for col in columns:\n",
    "            self.encoders[col] = LabelEncoder().fit(X[col])\n",
    "        return self\n",
    "\n",
    "\n",
    "    def transform(self, X):\n",
    "        output = X.copy()\n",
    "        columns = X.columns if self.columns is None else self.columns\n",
    "        for col in columns:\n",
    "            output[col] = self.encoders[col].transform(X[col])\n",
    "        return output\n",
    "\n",
    "\n",
    "    def fit_transform(self, X, y=None):\n",
    "        return self.fit(X,y).transform(X)\n",
    "\n",
    "\n",
    "    def inverse_transform(self, X):\n",
    "        output = X.copy()\n",
    "        columns = X.columns if self.columns is None else self.columns\n",
    "        for col in columns:\n",
    "            output[col] = self.encoders[col].inverse_transform(X[col])\n",
    "        return output"
   ]
  },
  {
   "cell_type": "markdown",
   "id": "57c06bd4-da79-404a-b274-264d400facb0",
   "metadata": {},
   "source": [
    "## Read the Datasets"
   ]
  },
  {
   "cell_type": "code",
   "execution_count": 4,
   "id": "0d974c70-aea6-4280-92bb-98d01fb3d881",
   "metadata": {},
   "outputs": [
    {
     "data": {
      "text/html": [
       "<div>\n",
       "<style scoped>\n",
       "    .dataframe tbody tr th:only-of-type {\n",
       "        vertical-align: middle;\n",
       "    }\n",
       "\n",
       "    .dataframe tbody tr th {\n",
       "        vertical-align: top;\n",
       "    }\n",
       "\n",
       "    .dataframe thead th {\n",
       "        text-align: right;\n",
       "    }\n",
       "</style>\n",
       "<table border=\"1\" class=\"dataframe\">\n",
       "  <thead>\n",
       "    <tr style=\"text-align: right;\">\n",
       "      <th></th>\n",
       "      <th>Participant ID</th>\n",
       "      <th>Age</th>\n",
       "      <th>Gender</th>\n",
       "      <th>Family History</th>\n",
       "      <th>Personal History</th>\n",
       "      <th>Current Stressors</th>\n",
       "      <th>Symptoms</th>\n",
       "      <th>Severity</th>\n",
       "      <th>Impact on Life</th>\n",
       "      <th>Demographics</th>\n",
       "      <th>Medical History</th>\n",
       "      <th>Psychiatric History</th>\n",
       "      <th>Substance Use</th>\n",
       "      <th>Coping Mechanisms</th>\n",
       "      <th>Social Support</th>\n",
       "      <th>Lifestyle Factors</th>\n",
       "      <th>Panic Disorder Diagnosis</th>\n",
       "    </tr>\n",
       "  </thead>\n",
       "  <tbody>\n",
       "    <tr>\n",
       "      <th>0</th>\n",
       "      <td>1</td>\n",
       "      <td>38</td>\n",
       "      <td>Male</td>\n",
       "      <td>No</td>\n",
       "      <td>Yes</td>\n",
       "      <td>Moderate</td>\n",
       "      <td>Shortness of breath</td>\n",
       "      <td>Mild</td>\n",
       "      <td>Mild</td>\n",
       "      <td>Rural</td>\n",
       "      <td>Diabetes</td>\n",
       "      <td>Bipolar disorder</td>\n",
       "      <td>NaN</td>\n",
       "      <td>Socializing</td>\n",
       "      <td>High</td>\n",
       "      <td>Sleep quality</td>\n",
       "      <td>0</td>\n",
       "    </tr>\n",
       "    <tr>\n",
       "      <th>1</th>\n",
       "      <td>2</td>\n",
       "      <td>51</td>\n",
       "      <td>Male</td>\n",
       "      <td>No</td>\n",
       "      <td>No</td>\n",
       "      <td>High</td>\n",
       "      <td>Panic attacks</td>\n",
       "      <td>Mild</td>\n",
       "      <td>Mild</td>\n",
       "      <td>Urban</td>\n",
       "      <td>Asthma</td>\n",
       "      <td>Anxiety disorder</td>\n",
       "      <td>Drugs</td>\n",
       "      <td>Exercise</td>\n",
       "      <td>High</td>\n",
       "      <td>Sleep quality</td>\n",
       "      <td>0</td>\n",
       "    </tr>\n",
       "    <tr>\n",
       "      <th>2</th>\n",
       "      <td>3</td>\n",
       "      <td>32</td>\n",
       "      <td>Female</td>\n",
       "      <td>Yes</td>\n",
       "      <td>No</td>\n",
       "      <td>High</td>\n",
       "      <td>Panic attacks</td>\n",
       "      <td>Mild</td>\n",
       "      <td>Significant</td>\n",
       "      <td>Urban</td>\n",
       "      <td>Diabetes</td>\n",
       "      <td>Depressive disorder</td>\n",
       "      <td>NaN</td>\n",
       "      <td>Seeking therapy</td>\n",
       "      <td>Moderate</td>\n",
       "      <td>Exercise</td>\n",
       "      <td>0</td>\n",
       "    </tr>\n",
       "    <tr>\n",
       "      <th>3</th>\n",
       "      <td>4</td>\n",
       "      <td>64</td>\n",
       "      <td>Female</td>\n",
       "      <td>No</td>\n",
       "      <td>No</td>\n",
       "      <td>Moderate</td>\n",
       "      <td>Chest pain</td>\n",
       "      <td>Moderate</td>\n",
       "      <td>Moderate</td>\n",
       "      <td>Rural</td>\n",
       "      <td>Diabetes</td>\n",
       "      <td>NaN</td>\n",
       "      <td>NaN</td>\n",
       "      <td>Meditation</td>\n",
       "      <td>High</td>\n",
       "      <td>Exercise</td>\n",
       "      <td>0</td>\n",
       "    </tr>\n",
       "    <tr>\n",
       "      <th>4</th>\n",
       "      <td>5</td>\n",
       "      <td>31</td>\n",
       "      <td>Male</td>\n",
       "      <td>Yes</td>\n",
       "      <td>No</td>\n",
       "      <td>Moderate</td>\n",
       "      <td>Panic attacks</td>\n",
       "      <td>Mild</td>\n",
       "      <td>Moderate</td>\n",
       "      <td>Rural</td>\n",
       "      <td>Asthma</td>\n",
       "      <td>NaN</td>\n",
       "      <td>Drugs</td>\n",
       "      <td>Seeking therapy</td>\n",
       "      <td>Low</td>\n",
       "      <td>Sleep quality</td>\n",
       "      <td>0</td>\n",
       "    </tr>\n",
       "  </tbody>\n",
       "</table>\n",
       "</div>"
      ],
      "text/plain": [
       "   Participant ID  Age  Gender Family History Personal History  \\\n",
       "0               1   38    Male             No              Yes   \n",
       "1               2   51    Male             No               No   \n",
       "2               3   32  Female            Yes               No   \n",
       "3               4   64  Female             No               No   \n",
       "4               5   31    Male            Yes               No   \n",
       "\n",
       "  Current Stressors             Symptoms  Severity Impact on Life  \\\n",
       "0          Moderate  Shortness of breath      Mild           Mild   \n",
       "1              High        Panic attacks      Mild           Mild   \n",
       "2              High        Panic attacks      Mild    Significant   \n",
       "3          Moderate           Chest pain  Moderate       Moderate   \n",
       "4          Moderate        Panic attacks      Mild       Moderate   \n",
       "\n",
       "  Demographics Medical History  Psychiatric History Substance Use  \\\n",
       "0        Rural        Diabetes     Bipolar disorder           NaN   \n",
       "1        Urban          Asthma     Anxiety disorder         Drugs   \n",
       "2        Urban        Diabetes  Depressive disorder           NaN   \n",
       "3        Rural        Diabetes                  NaN           NaN   \n",
       "4        Rural          Asthma                  NaN         Drugs   \n",
       "\n",
       "  Coping Mechanisms Social Support Lifestyle Factors  Panic Disorder Diagnosis  \n",
       "0       Socializing           High     Sleep quality                         0  \n",
       "1          Exercise           High     Sleep quality                         0  \n",
       "2   Seeking therapy       Moderate          Exercise                         0  \n",
       "3        Meditation           High          Exercise                         0  \n",
       "4   Seeking therapy            Low     Sleep quality                         0  "
      ]
     },
     "execution_count": 4,
     "metadata": {},
     "output_type": "execute_result"
    }
   ],
   "source": [
    "train = pd.read_csv('panic_disorder_dataset_training.csv')\n",
    "train.head()"
   ]
  },
  {
   "cell_type": "code",
   "execution_count": 5,
   "id": "35d33e49-6e05-4bb5-b69e-653b0a925eaa",
   "metadata": {},
   "outputs": [
    {
     "data": {
      "text/html": [
       "<div>\n",
       "<style scoped>\n",
       "    .dataframe tbody tr th:only-of-type {\n",
       "        vertical-align: middle;\n",
       "    }\n",
       "\n",
       "    .dataframe tbody tr th {\n",
       "        vertical-align: top;\n",
       "    }\n",
       "\n",
       "    .dataframe thead th {\n",
       "        text-align: right;\n",
       "    }\n",
       "</style>\n",
       "<table border=\"1\" class=\"dataframe\">\n",
       "  <thead>\n",
       "    <tr style=\"text-align: right;\">\n",
       "      <th></th>\n",
       "      <th>Participant ID</th>\n",
       "      <th>Age</th>\n",
       "      <th>Gender</th>\n",
       "      <th>Family History</th>\n",
       "      <th>Personal History</th>\n",
       "      <th>Current Stressors</th>\n",
       "      <th>Symptoms</th>\n",
       "      <th>Severity</th>\n",
       "      <th>Impact on Life</th>\n",
       "      <th>Demographics</th>\n",
       "      <th>Medical History</th>\n",
       "      <th>Psychiatric History</th>\n",
       "      <th>Substance Use</th>\n",
       "      <th>Coping Mechanisms</th>\n",
       "      <th>Social Support</th>\n",
       "      <th>Lifestyle Factors</th>\n",
       "      <th>Panic Disorder Diagnosis</th>\n",
       "    </tr>\n",
       "  </thead>\n",
       "  <tbody>\n",
       "    <tr>\n",
       "      <th>0</th>\n",
       "      <td>1</td>\n",
       "      <td>41</td>\n",
       "      <td>Male</td>\n",
       "      <td>Yes</td>\n",
       "      <td>No</td>\n",
       "      <td>High</td>\n",
       "      <td>Shortness of breath</td>\n",
       "      <td>Mild</td>\n",
       "      <td>Mild</td>\n",
       "      <td>Urban</td>\n",
       "      <td>Diabetes</td>\n",
       "      <td>Bipolar disorder</td>\n",
       "      <td>Alcohol</td>\n",
       "      <td>Seeking therapy</td>\n",
       "      <td>Low</td>\n",
       "      <td>Exercise</td>\n",
       "      <td>0</td>\n",
       "    </tr>\n",
       "    <tr>\n",
       "      <th>1</th>\n",
       "      <td>2</td>\n",
       "      <td>20</td>\n",
       "      <td>Female</td>\n",
       "      <td>Yes</td>\n",
       "      <td>No</td>\n",
       "      <td>Low</td>\n",
       "      <td>Shortness of breath</td>\n",
       "      <td>Mild</td>\n",
       "      <td>Significant</td>\n",
       "      <td>Urban</td>\n",
       "      <td>Asthma</td>\n",
       "      <td>Anxiety disorder</td>\n",
       "      <td>Drugs</td>\n",
       "      <td>Exercise</td>\n",
       "      <td>High</td>\n",
       "      <td>Diet</td>\n",
       "      <td>0</td>\n",
       "    </tr>\n",
       "    <tr>\n",
       "      <th>2</th>\n",
       "      <td>3</td>\n",
       "      <td>32</td>\n",
       "      <td>Male</td>\n",
       "      <td>Yes</td>\n",
       "      <td>Yes</td>\n",
       "      <td>High</td>\n",
       "      <td>Panic attacks</td>\n",
       "      <td>Severe</td>\n",
       "      <td>Mild</td>\n",
       "      <td>Rural</td>\n",
       "      <td>Heart disease</td>\n",
       "      <td>Bipolar disorder</td>\n",
       "      <td>Drugs</td>\n",
       "      <td>Meditation</td>\n",
       "      <td>Moderate</td>\n",
       "      <td>Exercise</td>\n",
       "      <td>0</td>\n",
       "    </tr>\n",
       "    <tr>\n",
       "      <th>3</th>\n",
       "      <td>4</td>\n",
       "      <td>41</td>\n",
       "      <td>Female</td>\n",
       "      <td>Yes</td>\n",
       "      <td>Yes</td>\n",
       "      <td>Moderate</td>\n",
       "      <td>Shortness of breath</td>\n",
       "      <td>Moderate</td>\n",
       "      <td>Significant</td>\n",
       "      <td>Urban</td>\n",
       "      <td>Heart disease</td>\n",
       "      <td>Anxiety disorder</td>\n",
       "      <td>NaN</td>\n",
       "      <td>Exercise</td>\n",
       "      <td>High</td>\n",
       "      <td>Sleep quality</td>\n",
       "      <td>0</td>\n",
       "    </tr>\n",
       "    <tr>\n",
       "      <th>4</th>\n",
       "      <td>5</td>\n",
       "      <td>36</td>\n",
       "      <td>Female</td>\n",
       "      <td>Yes</td>\n",
       "      <td>No</td>\n",
       "      <td>High</td>\n",
       "      <td>Chest pain</td>\n",
       "      <td>Severe</td>\n",
       "      <td>Significant</td>\n",
       "      <td>Rural</td>\n",
       "      <td>Asthma</td>\n",
       "      <td>Depressive disorder</td>\n",
       "      <td>NaN</td>\n",
       "      <td>Seeking therapy</td>\n",
       "      <td>Low</td>\n",
       "      <td>Exercise</td>\n",
       "      <td>0</td>\n",
       "    </tr>\n",
       "  </tbody>\n",
       "</table>\n",
       "</div>"
      ],
      "text/plain": [
       "   Participant ID  Age  Gender Family History Personal History  \\\n",
       "0               1   41    Male            Yes               No   \n",
       "1               2   20  Female            Yes               No   \n",
       "2               3   32    Male            Yes              Yes   \n",
       "3               4   41  Female            Yes              Yes   \n",
       "4               5   36  Female            Yes               No   \n",
       "\n",
       "  Current Stressors             Symptoms  Severity Impact on Life  \\\n",
       "0              High  Shortness of breath      Mild           Mild   \n",
       "1               Low  Shortness of breath      Mild    Significant   \n",
       "2              High        Panic attacks    Severe           Mild   \n",
       "3          Moderate  Shortness of breath  Moderate    Significant   \n",
       "4              High           Chest pain    Severe    Significant   \n",
       "\n",
       "  Demographics Medical History  Psychiatric History Substance Use  \\\n",
       "0        Urban        Diabetes     Bipolar disorder       Alcohol   \n",
       "1        Urban          Asthma     Anxiety disorder         Drugs   \n",
       "2        Rural   Heart disease     Bipolar disorder         Drugs   \n",
       "3        Urban   Heart disease     Anxiety disorder           NaN   \n",
       "4        Rural          Asthma  Depressive disorder           NaN   \n",
       "\n",
       "  Coping Mechanisms Social Support Lifestyle Factors  Panic Disorder Diagnosis  \n",
       "0   Seeking therapy            Low          Exercise                         0  \n",
       "1          Exercise           High              Diet                         0  \n",
       "2        Meditation       Moderate          Exercise                         0  \n",
       "3          Exercise           High     Sleep quality                         0  \n",
       "4   Seeking therapy            Low          Exercise                         0  "
      ]
     },
     "execution_count": 5,
     "metadata": {},
     "output_type": "execute_result"
    }
   ],
   "source": [
    "test = pd.read_csv('panic_disorder_dataset_testing.csv')\n",
    "test.head()"
   ]
  },
  {
   "cell_type": "code",
   "execution_count": 6,
   "id": "48d2bcda-4386-4827-ac06-674b85d35a25",
   "metadata": {},
   "outputs": [
    {
     "name": "stdout",
     "output_type": "stream",
     "text": [
      "Train data shape: (100000, 17)\n",
      "Test data shape: (20000, 17)\n"
     ]
    }
   ],
   "source": [
    "print('Train data shape:', train.shape)\n",
    "print('Test data shape:', test.shape)"
   ]
  },
  {
   "cell_type": "code",
   "execution_count": 7,
   "id": "5bf8ca1a-c625-4e50-8404-3f532cbb1cb2",
   "metadata": {},
   "outputs": [
    {
     "name": "stdout",
     "output_type": "stream",
     "text": [
      "<class 'pandas.core.frame.DataFrame'>\n",
      "RangeIndex: 100000 entries, 0 to 99999\n",
      "Data columns (total 17 columns):\n",
      " #   Column                    Non-Null Count   Dtype \n",
      "---  ------                    --------------   ----- \n",
      " 0   Participant ID            100000 non-null  int64 \n",
      " 1   Age                       100000 non-null  int64 \n",
      " 2   Gender                    100000 non-null  object\n",
      " 3   Family History            100000 non-null  object\n",
      " 4   Personal History          100000 non-null  object\n",
      " 5   Current Stressors         100000 non-null  object\n",
      " 6   Symptoms                  100000 non-null  object\n",
      " 7   Severity                  100000 non-null  object\n",
      " 8   Impact on Life            100000 non-null  object\n",
      " 9   Demographics              100000 non-null  object\n",
      " 10  Medical History           74827 non-null   object\n",
      " 11  Psychiatric History       75079 non-null   object\n",
      " 12  Substance Use             66626 non-null   object\n",
      " 13  Coping Mechanisms         100000 non-null  object\n",
      " 14  Social Support            100000 non-null  object\n",
      " 15  Lifestyle Factors         100000 non-null  object\n",
      " 16  Panic Disorder Diagnosis  100000 non-null  int64 \n",
      "dtypes: int64(3), object(14)\n",
      "memory usage: 13.0+ MB\n"
     ]
    }
   ],
   "source": [
    "train.info()"
   ]
  },
  {
   "cell_type": "code",
   "execution_count": 8,
   "id": "1918b4ae-ccdb-4560-b13c-4a823f01af89",
   "metadata": {},
   "outputs": [
    {
     "name": "stdout",
     "output_type": "stream",
     "text": [
      "<class 'pandas.core.frame.DataFrame'>\n",
      "RangeIndex: 20000 entries, 0 to 19999\n",
      "Data columns (total 17 columns):\n",
      " #   Column                    Non-Null Count  Dtype \n",
      "---  ------                    --------------  ----- \n",
      " 0   Participant ID            20000 non-null  int64 \n",
      " 1   Age                       20000 non-null  int64 \n",
      " 2   Gender                    20000 non-null  object\n",
      " 3   Family History            20000 non-null  object\n",
      " 4   Personal History          20000 non-null  object\n",
      " 5   Current Stressors         20000 non-null  object\n",
      " 6   Symptoms                  20000 non-null  object\n",
      " 7   Severity                  20000 non-null  object\n",
      " 8   Impact on Life            20000 non-null  object\n",
      " 9   Demographics              20000 non-null  object\n",
      " 10  Medical History           14999 non-null  object\n",
      " 11  Psychiatric History       15011 non-null  object\n",
      " 12  Substance Use             13383 non-null  object\n",
      " 13  Coping Mechanisms         20000 non-null  object\n",
      " 14  Social Support            20000 non-null  object\n",
      " 15  Lifestyle Factors         20000 non-null  object\n",
      " 16  Panic Disorder Diagnosis  20000 non-null  int64 \n",
      "dtypes: int64(3), object(14)\n",
      "memory usage: 2.6+ MB\n"
     ]
    }
   ],
   "source": [
    "test.info()"
   ]
  },
  {
   "cell_type": "markdown",
   "id": "40799061-7a75-4d06-8c6e-c5347c065bec",
   "metadata": {},
   "source": [
    "## Handling Missing Value"
   ]
  },
  {
   "cell_type": "code",
   "execution_count": 9,
   "id": "c5a9f777-c215-4645-aa76-8e3ada5aa5b5",
   "metadata": {},
   "outputs": [
    {
     "data": {
      "text/plain": [
       "Participant ID                  0\n",
       "Age                             0\n",
       "Gender                          0\n",
       "Family History                  0\n",
       "Personal History                0\n",
       "Current Stressors               0\n",
       "Symptoms                        0\n",
       "Severity                        0\n",
       "Impact on Life                  0\n",
       "Demographics                    0\n",
       "Medical History             25173\n",
       "Psychiatric History         24921\n",
       "Substance Use               33374\n",
       "Coping Mechanisms               0\n",
       "Social Support                  0\n",
       "Lifestyle Factors               0\n",
       "Panic Disorder Diagnosis        0\n",
       "dtype: int64"
      ]
     },
     "execution_count": 9,
     "metadata": {},
     "output_type": "execute_result"
    }
   ],
   "source": [
    "train.isnull().sum()"
   ]
  },
  {
   "cell_type": "code",
   "execution_count": 10,
   "id": "bf1e0e5f-6c10-43f5-a577-e7a407d19e66",
   "metadata": {},
   "outputs": [
    {
     "data": {
      "text/plain": [
       "Participant ID                 0\n",
       "Age                            0\n",
       "Gender                         0\n",
       "Family History                 0\n",
       "Personal History               0\n",
       "Current Stressors              0\n",
       "Symptoms                       0\n",
       "Severity                       0\n",
       "Impact on Life                 0\n",
       "Demographics                   0\n",
       "Medical History             5001\n",
       "Psychiatric History         4989\n",
       "Substance Use               6617\n",
       "Coping Mechanisms              0\n",
       "Social Support                 0\n",
       "Lifestyle Factors              0\n",
       "Panic Disorder Diagnosis       0\n",
       "dtype: int64"
      ]
     },
     "execution_count": 10,
     "metadata": {},
     "output_type": "execute_result"
    }
   ],
   "source": [
    "test.isnull().sum()"
   ]
  },
  {
   "cell_type": "code",
   "execution_count": 11,
   "id": "5095eb0e-04d6-435a-9be6-adb0a570c60f",
   "metadata": {},
   "outputs": [
    {
     "data": {
      "text/plain": [
       "Participant ID              False\n",
       "Age                         False\n",
       "Gender                      False\n",
       "Family History              False\n",
       "Personal History            False\n",
       "Current Stressors           False\n",
       "Symptoms                    False\n",
       "Severity                    False\n",
       "Impact on Life              False\n",
       "Demographics                False\n",
       "Medical History              True\n",
       "Psychiatric History          True\n",
       "Substance Use                True\n",
       "Coping Mechanisms           False\n",
       "Social Support              False\n",
       "Lifestyle Factors           False\n",
       "Panic Disorder Diagnosis    False\n",
       "dtype: bool"
      ]
     },
     "execution_count": 11,
     "metadata": {},
     "output_type": "execute_result"
    }
   ],
   "source": [
    "train.isnull().any()"
   ]
  },
  {
   "cell_type": "code",
   "execution_count": 12,
   "id": "f88203a6-351e-4c52-90b1-403f4929dba8",
   "metadata": {},
   "outputs": [
    {
     "data": {
      "text/plain": [
       "Participant ID              False\n",
       "Age                         False\n",
       "Gender                      False\n",
       "Family History              False\n",
       "Personal History            False\n",
       "Current Stressors           False\n",
       "Symptoms                    False\n",
       "Severity                    False\n",
       "Impact on Life              False\n",
       "Demographics                False\n",
       "Medical History              True\n",
       "Psychiatric History          True\n",
       "Substance Use                True\n",
       "Coping Mechanisms           False\n",
       "Social Support              False\n",
       "Lifestyle Factors           False\n",
       "Panic Disorder Diagnosis    False\n",
       "dtype: bool"
      ]
     },
     "execution_count": 12,
     "metadata": {},
     "output_type": "execute_result"
    }
   ],
   "source": [
    "test.isnull().any()"
   ]
  },
  {
   "cell_type": "code",
   "execution_count": 13,
   "id": "2549c54c-372e-461f-b027-217f7978b7f6",
   "metadata": {},
   "outputs": [
    {
     "data": {
      "text/plain": [
       "array(['Diabetes', 'Asthma', nan, 'Heart disease'], dtype=object)"
      ]
     },
     "execution_count": 13,
     "metadata": {},
     "output_type": "execute_result"
    }
   ],
   "source": [
    "train[\"Medical History\"].unique()"
   ]
  },
  {
   "cell_type": "code",
   "execution_count": 14,
   "id": "9f3f204e-cb22-4d24-959c-3fbc88deb181",
   "metadata": {},
   "outputs": [
    {
     "data": {
      "text/plain": [
       "array(['Bipolar disorder', 'Anxiety disorder', 'Depressive disorder', nan],\n",
       "      dtype=object)"
      ]
     },
     "execution_count": 14,
     "metadata": {},
     "output_type": "execute_result"
    }
   ],
   "source": [
    "train[\"Psychiatric History\"].unique()"
   ]
  },
  {
   "cell_type": "code",
   "execution_count": 15,
   "id": "e4f56afe-a837-4f81-83e4-3aa5f8176f75",
   "metadata": {},
   "outputs": [
    {
     "data": {
      "text/plain": [
       "array([nan, 'Drugs', 'Alcohol'], dtype=object)"
      ]
     },
     "execution_count": 15,
     "metadata": {},
     "output_type": "execute_result"
    }
   ],
   "source": [
    "train[\"Substance Use\"].unique()"
   ]
  },
  {
   "cell_type": "code",
   "execution_count": 16,
   "id": "819187b7-3b2a-47d5-b160-6803123c2285",
   "metadata": {},
   "outputs": [
    {
     "data": {
      "text/plain": [
       "array(['Diabetes', 'Asthma', 'Heart disease', nan], dtype=object)"
      ]
     },
     "execution_count": 16,
     "metadata": {},
     "output_type": "execute_result"
    }
   ],
   "source": [
    "test[\"Medical History\"].unique()"
   ]
  },
  {
   "cell_type": "code",
   "execution_count": 17,
   "id": "0859daab-924b-4794-a31c-f62ad95ef68b",
   "metadata": {},
   "outputs": [
    {
     "data": {
      "text/plain": [
       "array(['Bipolar disorder', 'Anxiety disorder', 'Depressive disorder', nan],\n",
       "      dtype=object)"
      ]
     },
     "execution_count": 17,
     "metadata": {},
     "output_type": "execute_result"
    }
   ],
   "source": [
    "test[\"Psychiatric History\"].unique()"
   ]
  },
  {
   "cell_type": "code",
   "execution_count": 18,
   "id": "dd061552-cf8d-4def-871d-ca4653c489d3",
   "metadata": {},
   "outputs": [
    {
     "data": {
      "text/plain": [
       "array(['Alcohol', 'Drugs', nan], dtype=object)"
      ]
     },
     "execution_count": 18,
     "metadata": {},
     "output_type": "execute_result"
    }
   ],
   "source": [
    "test[\"Substance Use\"].unique()"
   ]
  },
  {
   "cell_type": "markdown",
   "id": "e25bd605-356e-4a93-9789-f79569bcf87b",
   "metadata": {},
   "source": [
    "### Fill null values"
   ]
  },
  {
   "cell_type": "code",
   "execution_count": 19,
   "id": "8f3683cc-7133-4b98-85d3-c154155a53a1",
   "metadata": {},
   "outputs": [
    {
     "data": {
      "text/plain": [
       "array(['Diabetes', 'Asthma', 'none', 'Heart disease'], dtype=object)"
      ]
     },
     "execution_count": 19,
     "metadata": {},
     "output_type": "execute_result"
    }
   ],
   "source": [
    "train[\"Medical History\"].fillna(\"none\", inplace=True)\n",
    "train[\"Medical History\"].unique()"
   ]
  },
  {
   "cell_type": "code",
   "execution_count": 20,
   "id": "3122ad51-d03a-4152-b115-b6fd62c274c4",
   "metadata": {},
   "outputs": [
    {
     "data": {
      "text/plain": [
       "array(['Bipolar disorder', 'Anxiety disorder', 'Depressive disorder',\n",
       "       'none'], dtype=object)"
      ]
     },
     "execution_count": 20,
     "metadata": {},
     "output_type": "execute_result"
    }
   ],
   "source": [
    "train[\"Psychiatric History\"].fillna(\"none\", inplace=True)\n",
    "train[\"Psychiatric History\"].unique()"
   ]
  },
  {
   "cell_type": "code",
   "execution_count": 21,
   "id": "bbca9b77-e8ed-4f7f-942c-ef01723b3c26",
   "metadata": {},
   "outputs": [
    {
     "data": {
      "text/plain": [
       "array(['none', 'Drugs', 'Alcohol'], dtype=object)"
      ]
     },
     "execution_count": 21,
     "metadata": {},
     "output_type": "execute_result"
    }
   ],
   "source": [
    "train[\"Substance Use\"].fillna(\"none\", inplace=True)\n",
    "train[\"Substance Use\"].unique()"
   ]
  },
  {
   "cell_type": "code",
   "execution_count": 22,
   "id": "50ff0af1-87b1-4974-bc58-0d09cbdf5552",
   "metadata": {},
   "outputs": [
    {
     "data": {
      "text/plain": [
       "array(['Diabetes', 'Asthma', 'Heart disease', 'none'], dtype=object)"
      ]
     },
     "execution_count": 22,
     "metadata": {},
     "output_type": "execute_result"
    }
   ],
   "source": [
    "test[\"Medical History\"].fillna(\"none\", inplace=True)\n",
    "test[\"Medical History\"].unique()"
   ]
  },
  {
   "cell_type": "code",
   "execution_count": 23,
   "id": "ed83e340-f10a-4f08-b95a-87ed3b1069b1",
   "metadata": {},
   "outputs": [
    {
     "data": {
      "text/plain": [
       "array(['Bipolar disorder', 'Anxiety disorder', 'Depressive disorder',\n",
       "       'none'], dtype=object)"
      ]
     },
     "execution_count": 23,
     "metadata": {},
     "output_type": "execute_result"
    }
   ],
   "source": [
    "test[\"Psychiatric History\"].fillna(\"none\", inplace=True)\n",
    "test[\"Psychiatric History\"].unique()"
   ]
  },
  {
   "cell_type": "code",
   "execution_count": 24,
   "id": "e1840c15-3785-4d0d-8b7b-a3a99fe056a4",
   "metadata": {},
   "outputs": [
    {
     "data": {
      "text/plain": [
       "array(['Alcohol', 'Drugs', 'none'], dtype=object)"
      ]
     },
     "execution_count": 24,
     "metadata": {},
     "output_type": "execute_result"
    }
   ],
   "source": [
    "test[\"Substance Use\"].fillna(\"none\", inplace=True)\n",
    "test[\"Substance Use\"].unique()"
   ]
  },
  {
   "cell_type": "markdown",
   "id": "87c9cf58-0722-4cb6-9b15-af01fa291fb3",
   "metadata": {},
   "source": [
    "### Checking null values again"
   ]
  },
  {
   "cell_type": "code",
   "execution_count": 25,
   "id": "dc4817b6-d73a-49ce-9b51-4c3764fc4265",
   "metadata": {},
   "outputs": [
    {
     "data": {
      "text/plain": [
       "Participant ID              False\n",
       "Age                         False\n",
       "Gender                      False\n",
       "Family History              False\n",
       "Personal History            False\n",
       "Current Stressors           False\n",
       "Symptoms                    False\n",
       "Severity                    False\n",
       "Impact on Life              False\n",
       "Demographics                False\n",
       "Medical History             False\n",
       "Psychiatric History         False\n",
       "Substance Use               False\n",
       "Coping Mechanisms           False\n",
       "Social Support              False\n",
       "Lifestyle Factors           False\n",
       "Panic Disorder Diagnosis    False\n",
       "dtype: bool"
      ]
     },
     "execution_count": 25,
     "metadata": {},
     "output_type": "execute_result"
    }
   ],
   "source": [
    "train.isnull().any()"
   ]
  },
  {
   "cell_type": "code",
   "execution_count": 26,
   "id": "bcc87688-e995-42ad-83c9-7d20b14cf5c8",
   "metadata": {},
   "outputs": [
    {
     "data": {
      "text/plain": [
       "Participant ID              False\n",
       "Age                         False\n",
       "Gender                      False\n",
       "Family History              False\n",
       "Personal History            False\n",
       "Current Stressors           False\n",
       "Symptoms                    False\n",
       "Severity                    False\n",
       "Impact on Life              False\n",
       "Demographics                False\n",
       "Medical History             False\n",
       "Psychiatric History         False\n",
       "Substance Use               False\n",
       "Coping Mechanisms           False\n",
       "Social Support              False\n",
       "Lifestyle Factors           False\n",
       "Panic Disorder Diagnosis    False\n",
       "dtype: bool"
      ]
     },
     "execution_count": 26,
     "metadata": {},
     "output_type": "execute_result"
    }
   ],
   "source": [
    "test.isnull().any()"
   ]
  },
  {
   "cell_type": "markdown",
   "id": "19a28150-7788-46a7-8d82-b9a7ad4920f5",
   "metadata": {},
   "source": [
    "## Handling Categorical Values"
   ]
  },
  {
   "cell_type": "code",
   "execution_count": 27,
   "id": "1d60711c-242f-4a3c-aaed-75afbc4a5eb3",
   "metadata": {},
   "outputs": [
    {
     "data": {
      "text/plain": [
       "['Gender',\n",
       " 'Family History',\n",
       " 'Personal History',\n",
       " 'Current Stressors',\n",
       " 'Symptoms',\n",
       " 'Severity',\n",
       " 'Impact on Life',\n",
       " 'Demographics',\n",
       " 'Medical History',\n",
       " 'Psychiatric History',\n",
       " 'Substance Use',\n",
       " 'Coping Mechanisms',\n",
       " 'Social Support',\n",
       " 'Lifestyle Factors']"
      ]
     },
     "execution_count": 27,
     "metadata": {},
     "output_type": "execute_result"
    }
   ],
   "source": [
    "#categorical values\n",
    "cat_cols=[]\n",
    "for i in train.columns:\n",
    "    if train[i].dtype=='object':\n",
    "        cat_cols.append(i)\n",
    "cat_cols"
   ]
  },
  {
   "cell_type": "code",
   "execution_count": 28,
   "id": "2e8b5559-1eb9-4d2e-97d1-398820a817b7",
   "metadata": {},
   "outputs": [],
   "source": [
    "#Label Encoding\n",
    "multi = MultiColumnLabelEncoder(columns= cat_cols)\n",
    "\n",
    "train = multi.fit_transform(train)\n",
    "\n",
    "test =  multi.fit_transform(test)"
   ]
  },
  {
   "cell_type": "markdown",
   "id": "6084e224-367a-499d-bd82-64160f0c96cf",
   "metadata": {},
   "source": [
    "## SMOTE on Panic Disorder Diagnosis - Over Sampling The Data"
   ]
  },
  {
   "cell_type": "code",
   "execution_count": 29,
   "id": "c7973ee4-1aab-4987-9ea7-e536435533fd",
   "metadata": {},
   "outputs": [
    {
     "name": "stdout",
     "output_type": "stream",
     "text": [
      "Panic Disorder Diagnosis\n",
      "0    95715\n",
      "1     4285\n",
      "Name: count, dtype: int64\n",
      "Panic Disorder Diagnosis\n",
      "0    19159\n",
      "1      841\n",
      "Name: count, dtype: int64\n"
     ]
    }
   ],
   "source": [
    "print(train[\"Panic Disorder Diagnosis\"].value_counts())\n",
    "print(test[\"Panic Disorder Diagnosis\"].value_counts())"
   ]
  },
  {
   "cell_type": "code",
   "execution_count": 30,
   "id": "f51d8769-28b8-418c-9de0-873ba52fde8f",
   "metadata": {},
   "outputs": [],
   "source": [
    "from imblearn.over_sampling import SMOTE\n",
    "smote=SMOTE()"
   ]
  },
  {
   "cell_type": "code",
   "execution_count": 31,
   "id": "04480126-7212-4786-81bc-21b1fc47def2",
   "metadata": {},
   "outputs": [],
   "source": [
    "y_train = train[\"Panic Disorder Diagnosis\"]\n",
    "x_train = train.drop(columns=['Participant ID','Panic Disorder Diagnosis'],axis=1)"
   ]
  },
  {
   "cell_type": "code",
   "execution_count": 32,
   "id": "ca3e4911-e577-4d69-9ae1-4d84f5a1cf48",
   "metadata": {},
   "outputs": [],
   "source": [
    "y_test = test[\"Panic Disorder Diagnosis\"]\n",
    "x_test = test.drop(columns=['Participant ID','Panic Disorder Diagnosis'],axis=1)"
   ]
  },
  {
   "cell_type": "code",
   "execution_count": 33,
   "id": "aafd4c83-c081-4087-a9f6-592c62eb425f",
   "metadata": {},
   "outputs": [],
   "source": [
    "x_res_train,y_res_train = smote.fit_resample(x_train,y_train)"
   ]
  },
  {
   "cell_type": "code",
   "execution_count": 34,
   "id": "2bf0fb43-dc4d-43f8-8418-e6985561e49d",
   "metadata": {},
   "outputs": [
    {
     "name": "stdout",
     "output_type": "stream",
     "text": [
      "Panic Disorder Diagnosis\n",
      "0    95715\n",
      "1     4285\n",
      "Name: count, dtype: int64\n",
      "Panic Disorder Diagnosis\n",
      "0    95715\n",
      "1    95715\n",
      "Name: count, dtype: int64\n"
     ]
    }
   ],
   "source": [
    "print(y_train.value_counts())\n",
    "print(y_res_train.value_counts())"
   ]
  },
  {
   "cell_type": "code",
   "execution_count": 35,
   "id": "244d2b31-ec4c-495c-a9e8-acfdc628da2a",
   "metadata": {},
   "outputs": [
    {
     "data": {
      "text/html": [
       "<div>\n",
       "<style scoped>\n",
       "    .dataframe tbody tr th:only-of-type {\n",
       "        vertical-align: middle;\n",
       "    }\n",
       "\n",
       "    .dataframe tbody tr th {\n",
       "        vertical-align: top;\n",
       "    }\n",
       "\n",
       "    .dataframe thead th {\n",
       "        text-align: right;\n",
       "    }\n",
       "</style>\n",
       "<table border=\"1\" class=\"dataframe\">\n",
       "  <thead>\n",
       "    <tr style=\"text-align: right;\">\n",
       "      <th></th>\n",
       "      <th>Age</th>\n",
       "      <th>Gender</th>\n",
       "      <th>Family History</th>\n",
       "      <th>Personal History</th>\n",
       "      <th>Current Stressors</th>\n",
       "      <th>Symptoms</th>\n",
       "      <th>Severity</th>\n",
       "      <th>Impact on Life</th>\n",
       "      <th>Demographics</th>\n",
       "      <th>Medical History</th>\n",
       "      <th>Psychiatric History</th>\n",
       "      <th>Substance Use</th>\n",
       "      <th>Coping Mechanisms</th>\n",
       "      <th>Social Support</th>\n",
       "      <th>Lifestyle Factors</th>\n",
       "    </tr>\n",
       "  </thead>\n",
       "  <tbody>\n",
       "    <tr>\n",
       "      <th>0</th>\n",
       "      <td>38</td>\n",
       "      <td>1</td>\n",
       "      <td>0</td>\n",
       "      <td>1</td>\n",
       "      <td>2</td>\n",
       "      <td>4</td>\n",
       "      <td>0</td>\n",
       "      <td>0</td>\n",
       "      <td>0</td>\n",
       "      <td>1</td>\n",
       "      <td>1</td>\n",
       "      <td>2</td>\n",
       "      <td>3</td>\n",
       "      <td>0</td>\n",
       "      <td>2</td>\n",
       "    </tr>\n",
       "    <tr>\n",
       "      <th>1</th>\n",
       "      <td>51</td>\n",
       "      <td>1</td>\n",
       "      <td>0</td>\n",
       "      <td>0</td>\n",
       "      <td>0</td>\n",
       "      <td>3</td>\n",
       "      <td>0</td>\n",
       "      <td>0</td>\n",
       "      <td>1</td>\n",
       "      <td>0</td>\n",
       "      <td>0</td>\n",
       "      <td>1</td>\n",
       "      <td>0</td>\n",
       "      <td>0</td>\n",
       "      <td>2</td>\n",
       "    </tr>\n",
       "    <tr>\n",
       "      <th>2</th>\n",
       "      <td>32</td>\n",
       "      <td>0</td>\n",
       "      <td>1</td>\n",
       "      <td>0</td>\n",
       "      <td>0</td>\n",
       "      <td>3</td>\n",
       "      <td>0</td>\n",
       "      <td>2</td>\n",
       "      <td>1</td>\n",
       "      <td>1</td>\n",
       "      <td>2</td>\n",
       "      <td>2</td>\n",
       "      <td>2</td>\n",
       "      <td>2</td>\n",
       "      <td>1</td>\n",
       "    </tr>\n",
       "    <tr>\n",
       "      <th>3</th>\n",
       "      <td>64</td>\n",
       "      <td>0</td>\n",
       "      <td>0</td>\n",
       "      <td>0</td>\n",
       "      <td>2</td>\n",
       "      <td>0</td>\n",
       "      <td>1</td>\n",
       "      <td>1</td>\n",
       "      <td>0</td>\n",
       "      <td>1</td>\n",
       "      <td>3</td>\n",
       "      <td>2</td>\n",
       "      <td>1</td>\n",
       "      <td>0</td>\n",
       "      <td>1</td>\n",
       "    </tr>\n",
       "    <tr>\n",
       "      <th>4</th>\n",
       "      <td>31</td>\n",
       "      <td>1</td>\n",
       "      <td>1</td>\n",
       "      <td>0</td>\n",
       "      <td>2</td>\n",
       "      <td>3</td>\n",
       "      <td>0</td>\n",
       "      <td>1</td>\n",
       "      <td>0</td>\n",
       "      <td>0</td>\n",
       "      <td>3</td>\n",
       "      <td>1</td>\n",
       "      <td>2</td>\n",
       "      <td>1</td>\n",
       "      <td>2</td>\n",
       "    </tr>\n",
       "    <tr>\n",
       "      <th>...</th>\n",
       "      <td>...</td>\n",
       "      <td>...</td>\n",
       "      <td>...</td>\n",
       "      <td>...</td>\n",
       "      <td>...</td>\n",
       "      <td>...</td>\n",
       "      <td>...</td>\n",
       "      <td>...</td>\n",
       "      <td>...</td>\n",
       "      <td>...</td>\n",
       "      <td>...</td>\n",
       "      <td>...</td>\n",
       "      <td>...</td>\n",
       "      <td>...</td>\n",
       "      <td>...</td>\n",
       "    </tr>\n",
       "    <tr>\n",
       "      <th>191425</th>\n",
       "      <td>49</td>\n",
       "      <td>0</td>\n",
       "      <td>1</td>\n",
       "      <td>0</td>\n",
       "      <td>0</td>\n",
       "      <td>4</td>\n",
       "      <td>1</td>\n",
       "      <td>1</td>\n",
       "      <td>0</td>\n",
       "      <td>1</td>\n",
       "      <td>0</td>\n",
       "      <td>0</td>\n",
       "      <td>3</td>\n",
       "      <td>1</td>\n",
       "      <td>2</td>\n",
       "    </tr>\n",
       "    <tr>\n",
       "      <th>191426</th>\n",
       "      <td>39</td>\n",
       "      <td>0</td>\n",
       "      <td>1</td>\n",
       "      <td>0</td>\n",
       "      <td>0</td>\n",
       "      <td>0</td>\n",
       "      <td>0</td>\n",
       "      <td>2</td>\n",
       "      <td>0</td>\n",
       "      <td>2</td>\n",
       "      <td>0</td>\n",
       "      <td>2</td>\n",
       "      <td>2</td>\n",
       "      <td>0</td>\n",
       "      <td>2</td>\n",
       "    </tr>\n",
       "    <tr>\n",
       "      <th>191427</th>\n",
       "      <td>28</td>\n",
       "      <td>1</td>\n",
       "      <td>0</td>\n",
       "      <td>1</td>\n",
       "      <td>0</td>\n",
       "      <td>2</td>\n",
       "      <td>0</td>\n",
       "      <td>2</td>\n",
       "      <td>1</td>\n",
       "      <td>1</td>\n",
       "      <td>2</td>\n",
       "      <td>0</td>\n",
       "      <td>0</td>\n",
       "      <td>0</td>\n",
       "      <td>2</td>\n",
       "    </tr>\n",
       "    <tr>\n",
       "      <th>191428</th>\n",
       "      <td>41</td>\n",
       "      <td>1</td>\n",
       "      <td>1</td>\n",
       "      <td>1</td>\n",
       "      <td>0</td>\n",
       "      <td>3</td>\n",
       "      <td>2</td>\n",
       "      <td>0</td>\n",
       "      <td>1</td>\n",
       "      <td>1</td>\n",
       "      <td>1</td>\n",
       "      <td>0</td>\n",
       "      <td>3</td>\n",
       "      <td>1</td>\n",
       "      <td>2</td>\n",
       "    </tr>\n",
       "    <tr>\n",
       "      <th>191429</th>\n",
       "      <td>46</td>\n",
       "      <td>1</td>\n",
       "      <td>1</td>\n",
       "      <td>0</td>\n",
       "      <td>0</td>\n",
       "      <td>0</td>\n",
       "      <td>0</td>\n",
       "      <td>2</td>\n",
       "      <td>0</td>\n",
       "      <td>0</td>\n",
       "      <td>2</td>\n",
       "      <td>1</td>\n",
       "      <td>2</td>\n",
       "      <td>0</td>\n",
       "      <td>2</td>\n",
       "    </tr>\n",
       "  </tbody>\n",
       "</table>\n",
       "<p>191430 rows × 15 columns</p>\n",
       "</div>"
      ],
      "text/plain": [
       "        Age  Gender  Family History  Personal History  Current Stressors  \\\n",
       "0        38       1               0                 1                  2   \n",
       "1        51       1               0                 0                  0   \n",
       "2        32       0               1                 0                  0   \n",
       "3        64       0               0                 0                  2   \n",
       "4        31       1               1                 0                  2   \n",
       "...     ...     ...             ...               ...                ...   \n",
       "191425   49       0               1                 0                  0   \n",
       "191426   39       0               1                 0                  0   \n",
       "191427   28       1               0                 1                  0   \n",
       "191428   41       1               1                 1                  0   \n",
       "191429   46       1               1                 0                  0   \n",
       "\n",
       "        Symptoms  Severity  Impact on Life  Demographics  Medical History  \\\n",
       "0              4         0               0             0                1   \n",
       "1              3         0               0             1                0   \n",
       "2              3         0               2             1                1   \n",
       "3              0         1               1             0                1   \n",
       "4              3         0               1             0                0   \n",
       "...          ...       ...             ...           ...              ...   \n",
       "191425         4         1               1             0                1   \n",
       "191426         0         0               2             0                2   \n",
       "191427         2         0               2             1                1   \n",
       "191428         3         2               0             1                1   \n",
       "191429         0         0               2             0                0   \n",
       "\n",
       "        Psychiatric History  Substance Use  Coping Mechanisms  Social Support  \\\n",
       "0                         1              2                  3               0   \n",
       "1                         0              1                  0               0   \n",
       "2                         2              2                  2               2   \n",
       "3                         3              2                  1               0   \n",
       "4                         3              1                  2               1   \n",
       "...                     ...            ...                ...             ...   \n",
       "191425                    0              0                  3               1   \n",
       "191426                    0              2                  2               0   \n",
       "191427                    2              0                  0               0   \n",
       "191428                    1              0                  3               1   \n",
       "191429                    2              1                  2               0   \n",
       "\n",
       "        Lifestyle Factors  \n",
       "0                       2  \n",
       "1                       2  \n",
       "2                       1  \n",
       "3                       1  \n",
       "4                       2  \n",
       "...                   ...  \n",
       "191425                  2  \n",
       "191426                  2  \n",
       "191427                  2  \n",
       "191428                  2  \n",
       "191429                  2  \n",
       "\n",
       "[191430 rows x 15 columns]"
      ]
     },
     "execution_count": 35,
     "metadata": {},
     "output_type": "execute_result"
    }
   ],
   "source": [
    "x_res_train"
   ]
  },
  {
   "cell_type": "code",
   "execution_count": 36,
   "id": "82b0eff9-ac63-4cb8-95a7-c685ad958fd5",
   "metadata": {},
   "outputs": [
    {
     "data": {
      "text/plain": [
       "0         0\n",
       "1         0\n",
       "2         0\n",
       "3         0\n",
       "4         0\n",
       "         ..\n",
       "191425    1\n",
       "191426    1\n",
       "191427    1\n",
       "191428    1\n",
       "191429    1\n",
       "Name: Panic Disorder Diagnosis, Length: 191430, dtype: int64"
      ]
     },
     "execution_count": 36,
     "metadata": {},
     "output_type": "execute_result"
    }
   ],
   "source": [
    "y_res_train"
   ]
  },
  {
   "cell_type": "markdown",
   "id": "5dff3e43-0835-42ab-9c61-f5d30ac81981",
   "metadata": {},
   "source": [
    "## Feature Selection"
   ]
  },
  {
   "cell_type": "code",
   "execution_count": 37,
   "id": "38ee025f-a545-448b-bfbe-aade9b3aa976",
   "metadata": {},
   "outputs": [
    {
     "data": {
      "text/plain": [
       "(array([   88.59916712,  2790.96758176,    89.77534216,   399.74304265,\n",
       "        36857.34928076,   318.80342431,  3350.57680519,  4873.53250903,\n",
       "         6344.72625698,  7467.64608001,  5328.66904827,  4861.24873552,\n",
       "          293.9305312 ,  1672.87197518, 35569.11363017]),\n",
       " array([4.83492719e-21, 0.00000000e+00, 2.66798847e-21, 6.26427884e-89,\n",
       "        0.00000000e+00, 2.63962866e-71, 0.00000000e+00, 0.00000000e+00,\n",
       "        0.00000000e+00, 0.00000000e+00, 0.00000000e+00, 0.00000000e+00,\n",
       "        6.92067811e-66, 0.00000000e+00, 0.00000000e+00]))"
      ]
     },
     "execution_count": 37,
     "metadata": {},
     "output_type": "execute_result"
    }
   ],
   "source": [
    "#Calculating Fscore and p value\n",
    "f_p_values=chi2(x_res_train,y_res_train)\n",
    "f_p_values\n",
    "# Here first array has F values and second array has P values."
   ]
  },
  {
   "cell_type": "code",
   "execution_count": 38,
   "id": "ed752e7d-0dc4-4aaf-a7b3-903e507f3c56",
   "metadata": {},
   "outputs": [
    {
     "data": {
      "text/plain": [
       "Age                    4.834927e-21\n",
       "Coping Mechanisms      6.920678e-66\n",
       "Current Stressors      0.000000e+00\n",
       "Demographics           0.000000e+00\n",
       "Family History         2.667988e-21\n",
       "Gender                 0.000000e+00\n",
       "Impact on Life         0.000000e+00\n",
       "Lifestyle Factors      0.000000e+00\n",
       "Medical History        0.000000e+00\n",
       "Personal History       6.264279e-89\n",
       "Psychiatric History    0.000000e+00\n",
       "Severity               0.000000e+00\n",
       "Social Support         0.000000e+00\n",
       "Substance Use          0.000000e+00\n",
       "Symptoms               2.639629e-71\n",
       "dtype: float64"
      ]
     },
     "execution_count": 38,
     "metadata": {},
     "output_type": "execute_result"
    }
   ],
   "source": [
    "#p Values\n",
    "p_values=pd.Series(f_p_values[1])\n",
    "p_values.index= x_train.columns\n",
    "p_values.sort_index(ascending=True)\n",
    "# We sort the P values array based on the Chi scores and select moderately important and least important feature/s."
   ]
  },
  {
   "cell_type": "markdown",
   "id": "3d3960ac-f5bf-4367-9c5a-4fa9ac38f510",
   "metadata": {},
   "source": [
    "## Data Transformation using StandardScaler"
   ]
  },
  {
   "cell_type": "code",
   "execution_count": 39,
   "id": "9ea34ea1-a187-4ae7-8ac3-3c2720b1f8bd",
   "metadata": {},
   "outputs": [],
   "source": [
    "scaler = StandardScaler()\n",
    "x_res_train = pd.DataFrame(scaler.fit_transform(x_res_train), columns=x_train.columns)"
   ]
  },
  {
   "cell_type": "code",
   "execution_count": 40,
   "id": "92cd5e3c-5bae-4574-bfa2-a348a284bbbd",
   "metadata": {},
   "outputs": [
    {
     "data": {
      "text/html": [
       "<div>\n",
       "<style scoped>\n",
       "    .dataframe tbody tr th:only-of-type {\n",
       "        vertical-align: middle;\n",
       "    }\n",
       "\n",
       "    .dataframe tbody tr th {\n",
       "        vertical-align: top;\n",
       "    }\n",
       "\n",
       "    .dataframe thead th {\n",
       "        text-align: right;\n",
       "    }\n",
       "</style>\n",
       "<table border=\"1\" class=\"dataframe\">\n",
       "  <thead>\n",
       "    <tr style=\"text-align: right;\">\n",
       "      <th></th>\n",
       "      <th>Age</th>\n",
       "      <th>Gender</th>\n",
       "      <th>Family History</th>\n",
       "      <th>Personal History</th>\n",
       "      <th>Current Stressors</th>\n",
       "      <th>Symptoms</th>\n",
       "      <th>Severity</th>\n",
       "      <th>Impact on Life</th>\n",
       "      <th>Demographics</th>\n",
       "      <th>Medical History</th>\n",
       "      <th>Psychiatric History</th>\n",
       "      <th>Substance Use</th>\n",
       "      <th>Coping Mechanisms</th>\n",
       "      <th>Social Support</th>\n",
       "      <th>Lifestyle Factors</th>\n",
       "    </tr>\n",
       "  </thead>\n",
       "  <tbody>\n",
       "    <tr>\n",
       "      <th>0</th>\n",
       "      <td>-0.240573</td>\n",
       "      <td>1.170660</td>\n",
       "      <td>-1.017730</td>\n",
       "      <td>0.955090</td>\n",
       "      <td>1.655985</td>\n",
       "      <td>1.454123</td>\n",
       "      <td>-1.348312</td>\n",
       "      <td>-1.383105</td>\n",
       "      <td>-0.797891</td>\n",
       "      <td>-0.273364</td>\n",
       "      <td>-0.289586</td>\n",
       "      <td>1.444544</td>\n",
       "      <td>1.405798</td>\n",
       "      <td>-1.161035</td>\n",
       "      <td>0.677459</td>\n",
       "    </tr>\n",
       "    <tr>\n",
       "      <th>1</th>\n",
       "      <td>0.702144</td>\n",
       "      <td>1.170660</td>\n",
       "      <td>-1.017730</td>\n",
       "      <td>-1.047022</td>\n",
       "      <td>-0.827457</td>\n",
       "      <td>0.711097</td>\n",
       "      <td>-1.348312</td>\n",
       "      <td>-1.383105</td>\n",
       "      <td>1.253305</td>\n",
       "      <td>-1.213064</td>\n",
       "      <td>-1.212265</td>\n",
       "      <td>0.181618</td>\n",
       "      <td>-1.483043</td>\n",
       "      <td>-1.161035</td>\n",
       "      <td>0.677459</td>\n",
       "    </tr>\n",
       "    <tr>\n",
       "      <th>2</th>\n",
       "      <td>-0.675674</td>\n",
       "      <td>-0.854219</td>\n",
       "      <td>0.982579</td>\n",
       "      <td>-1.047022</td>\n",
       "      <td>-0.827457</td>\n",
       "      <td>0.711097</td>\n",
       "      <td>-1.348312</td>\n",
       "      <td>1.024039</td>\n",
       "      <td>1.253305</td>\n",
       "      <td>-0.273364</td>\n",
       "      <td>0.633093</td>\n",
       "      <td>1.444544</td>\n",
       "      <td>0.442851</td>\n",
       "      <td>1.392762</td>\n",
       "      <td>-0.616051</td>\n",
       "    </tr>\n",
       "    <tr>\n",
       "      <th>3</th>\n",
       "      <td>1.644862</td>\n",
       "      <td>-0.854219</td>\n",
       "      <td>-1.017730</td>\n",
       "      <td>-1.047022</td>\n",
       "      <td>1.655985</td>\n",
       "      <td>-1.517981</td>\n",
       "      <td>-0.149619</td>\n",
       "      <td>-0.179533</td>\n",
       "      <td>-0.797891</td>\n",
       "      <td>-0.273364</td>\n",
       "      <td>1.555771</td>\n",
       "      <td>1.444544</td>\n",
       "      <td>-0.520096</td>\n",
       "      <td>-1.161035</td>\n",
       "      <td>-0.616051</td>\n",
       "    </tr>\n",
       "    <tr>\n",
       "      <th>4</th>\n",
       "      <td>-0.748190</td>\n",
       "      <td>1.170660</td>\n",
       "      <td>0.982579</td>\n",
       "      <td>-1.047022</td>\n",
       "      <td>1.655985</td>\n",
       "      <td>0.711097</td>\n",
       "      <td>-1.348312</td>\n",
       "      <td>-0.179533</td>\n",
       "      <td>-0.797891</td>\n",
       "      <td>-1.213064</td>\n",
       "      <td>1.555771</td>\n",
       "      <td>0.181618</td>\n",
       "      <td>0.442851</td>\n",
       "      <td>0.115863</td>\n",
       "      <td>0.677459</td>\n",
       "    </tr>\n",
       "    <tr>\n",
       "      <th>...</th>\n",
       "      <td>...</td>\n",
       "      <td>...</td>\n",
       "      <td>...</td>\n",
       "      <td>...</td>\n",
       "      <td>...</td>\n",
       "      <td>...</td>\n",
       "      <td>...</td>\n",
       "      <td>...</td>\n",
       "      <td>...</td>\n",
       "      <td>...</td>\n",
       "      <td>...</td>\n",
       "      <td>...</td>\n",
       "      <td>...</td>\n",
       "      <td>...</td>\n",
       "      <td>...</td>\n",
       "    </tr>\n",
       "    <tr>\n",
       "      <th>191425</th>\n",
       "      <td>0.557111</td>\n",
       "      <td>-0.854219</td>\n",
       "      <td>0.982579</td>\n",
       "      <td>-1.047022</td>\n",
       "      <td>-0.827457</td>\n",
       "      <td>1.454123</td>\n",
       "      <td>-0.149619</td>\n",
       "      <td>-0.179533</td>\n",
       "      <td>-0.797891</td>\n",
       "      <td>-0.273364</td>\n",
       "      <td>-1.212265</td>\n",
       "      <td>-1.081308</td>\n",
       "      <td>1.405798</td>\n",
       "      <td>0.115863</td>\n",
       "      <td>0.677459</td>\n",
       "    </tr>\n",
       "    <tr>\n",
       "      <th>191426</th>\n",
       "      <td>-0.168056</td>\n",
       "      <td>-0.854219</td>\n",
       "      <td>0.982579</td>\n",
       "      <td>-1.047022</td>\n",
       "      <td>-0.827457</td>\n",
       "      <td>-1.517981</td>\n",
       "      <td>-1.348312</td>\n",
       "      <td>1.024039</td>\n",
       "      <td>-0.797891</td>\n",
       "      <td>0.666336</td>\n",
       "      <td>-1.212265</td>\n",
       "      <td>1.444544</td>\n",
       "      <td>0.442851</td>\n",
       "      <td>-1.161035</td>\n",
       "      <td>0.677459</td>\n",
       "    </tr>\n",
       "    <tr>\n",
       "      <th>191427</th>\n",
       "      <td>-0.965741</td>\n",
       "      <td>1.170660</td>\n",
       "      <td>-1.017730</td>\n",
       "      <td>0.955090</td>\n",
       "      <td>-0.827457</td>\n",
       "      <td>-0.031929</td>\n",
       "      <td>-1.348312</td>\n",
       "      <td>1.024039</td>\n",
       "      <td>1.253305</td>\n",
       "      <td>-0.273364</td>\n",
       "      <td>0.633093</td>\n",
       "      <td>-1.081308</td>\n",
       "      <td>-1.483043</td>\n",
       "      <td>-1.161035</td>\n",
       "      <td>0.677459</td>\n",
       "    </tr>\n",
       "    <tr>\n",
       "      <th>191428</th>\n",
       "      <td>-0.023023</td>\n",
       "      <td>1.170660</td>\n",
       "      <td>0.982579</td>\n",
       "      <td>0.955090</td>\n",
       "      <td>-0.827457</td>\n",
       "      <td>0.711097</td>\n",
       "      <td>1.049074</td>\n",
       "      <td>-1.383105</td>\n",
       "      <td>1.253305</td>\n",
       "      <td>-0.273364</td>\n",
       "      <td>-0.289586</td>\n",
       "      <td>-1.081308</td>\n",
       "      <td>1.405798</td>\n",
       "      <td>0.115863</td>\n",
       "      <td>0.677459</td>\n",
       "    </tr>\n",
       "    <tr>\n",
       "      <th>191429</th>\n",
       "      <td>0.339561</td>\n",
       "      <td>1.170660</td>\n",
       "      <td>0.982579</td>\n",
       "      <td>-1.047022</td>\n",
       "      <td>-0.827457</td>\n",
       "      <td>-1.517981</td>\n",
       "      <td>-1.348312</td>\n",
       "      <td>1.024039</td>\n",
       "      <td>-0.797891</td>\n",
       "      <td>-1.213064</td>\n",
       "      <td>0.633093</td>\n",
       "      <td>0.181618</td>\n",
       "      <td>0.442851</td>\n",
       "      <td>-1.161035</td>\n",
       "      <td>0.677459</td>\n",
       "    </tr>\n",
       "  </tbody>\n",
       "</table>\n",
       "<p>191430 rows × 15 columns</p>\n",
       "</div>"
      ],
      "text/plain": [
       "             Age    Gender  Family History  Personal History  \\\n",
       "0      -0.240573  1.170660       -1.017730          0.955090   \n",
       "1       0.702144  1.170660       -1.017730         -1.047022   \n",
       "2      -0.675674 -0.854219        0.982579         -1.047022   \n",
       "3       1.644862 -0.854219       -1.017730         -1.047022   \n",
       "4      -0.748190  1.170660        0.982579         -1.047022   \n",
       "...          ...       ...             ...               ...   \n",
       "191425  0.557111 -0.854219        0.982579         -1.047022   \n",
       "191426 -0.168056 -0.854219        0.982579         -1.047022   \n",
       "191427 -0.965741  1.170660       -1.017730          0.955090   \n",
       "191428 -0.023023  1.170660        0.982579          0.955090   \n",
       "191429  0.339561  1.170660        0.982579         -1.047022   \n",
       "\n",
       "        Current Stressors  Symptoms  Severity  Impact on Life  Demographics  \\\n",
       "0                1.655985  1.454123 -1.348312       -1.383105     -0.797891   \n",
       "1               -0.827457  0.711097 -1.348312       -1.383105      1.253305   \n",
       "2               -0.827457  0.711097 -1.348312        1.024039      1.253305   \n",
       "3                1.655985 -1.517981 -0.149619       -0.179533     -0.797891   \n",
       "4                1.655985  0.711097 -1.348312       -0.179533     -0.797891   \n",
       "...                   ...       ...       ...             ...           ...   \n",
       "191425          -0.827457  1.454123 -0.149619       -0.179533     -0.797891   \n",
       "191426          -0.827457 -1.517981 -1.348312        1.024039     -0.797891   \n",
       "191427          -0.827457 -0.031929 -1.348312        1.024039      1.253305   \n",
       "191428          -0.827457  0.711097  1.049074       -1.383105      1.253305   \n",
       "191429          -0.827457 -1.517981 -1.348312        1.024039     -0.797891   \n",
       "\n",
       "        Medical History  Psychiatric History  Substance Use  \\\n",
       "0             -0.273364            -0.289586       1.444544   \n",
       "1             -1.213064            -1.212265       0.181618   \n",
       "2             -0.273364             0.633093       1.444544   \n",
       "3             -0.273364             1.555771       1.444544   \n",
       "4             -1.213064             1.555771       0.181618   \n",
       "...                 ...                  ...            ...   \n",
       "191425        -0.273364            -1.212265      -1.081308   \n",
       "191426         0.666336            -1.212265       1.444544   \n",
       "191427        -0.273364             0.633093      -1.081308   \n",
       "191428        -0.273364            -0.289586      -1.081308   \n",
       "191429        -1.213064             0.633093       0.181618   \n",
       "\n",
       "        Coping Mechanisms  Social Support  Lifestyle Factors  \n",
       "0                1.405798       -1.161035           0.677459  \n",
       "1               -1.483043       -1.161035           0.677459  \n",
       "2                0.442851        1.392762          -0.616051  \n",
       "3               -0.520096       -1.161035          -0.616051  \n",
       "4                0.442851        0.115863           0.677459  \n",
       "...                   ...             ...                ...  \n",
       "191425           1.405798        0.115863           0.677459  \n",
       "191426           0.442851       -1.161035           0.677459  \n",
       "191427          -1.483043       -1.161035           0.677459  \n",
       "191428           1.405798        0.115863           0.677459  \n",
       "191429           0.442851       -1.161035           0.677459  \n",
       "\n",
       "[191430 rows x 15 columns]"
      ]
     },
     "execution_count": 40,
     "metadata": {},
     "output_type": "execute_result"
    }
   ],
   "source": [
    "x_res_train"
   ]
  },
  {
   "cell_type": "code",
   "execution_count": 41,
   "id": "e07e378e-dde3-4925-b221-fc9c0f6d790c",
   "metadata": {},
   "outputs": [],
   "source": [
    "x_test = pd.DataFrame(scaler.fit_transform(x_test), columns=x_test.columns)"
   ]
  },
  {
   "cell_type": "code",
   "execution_count": 42,
   "id": "13dd2d58-4b6b-486b-b09a-242845d81eb7",
   "metadata": {},
   "outputs": [
    {
     "data": {
      "text/html": [
       "<div>\n",
       "<style scoped>\n",
       "    .dataframe tbody tr th:only-of-type {\n",
       "        vertical-align: middle;\n",
       "    }\n",
       "\n",
       "    .dataframe tbody tr th {\n",
       "        vertical-align: top;\n",
       "    }\n",
       "\n",
       "    .dataframe thead th {\n",
       "        text-align: right;\n",
       "    }\n",
       "</style>\n",
       "<table border=\"1\" class=\"dataframe\">\n",
       "  <thead>\n",
       "    <tr style=\"text-align: right;\">\n",
       "      <th></th>\n",
       "      <th>Age</th>\n",
       "      <th>Gender</th>\n",
       "      <th>Family History</th>\n",
       "      <th>Personal History</th>\n",
       "      <th>Current Stressors</th>\n",
       "      <th>Symptoms</th>\n",
       "      <th>Severity</th>\n",
       "      <th>Impact on Life</th>\n",
       "      <th>Demographics</th>\n",
       "      <th>Medical History</th>\n",
       "      <th>Psychiatric History</th>\n",
       "      <th>Substance Use</th>\n",
       "      <th>Coping Mechanisms</th>\n",
       "      <th>Social Support</th>\n",
       "      <th>Lifestyle Factors</th>\n",
       "    </tr>\n",
       "  </thead>\n",
       "  <tbody>\n",
       "    <tr>\n",
       "      <th>0</th>\n",
       "      <td>-0.035230</td>\n",
       "      <td>1.00441</td>\n",
       "      <td>1.004309</td>\n",
       "      <td>-1.002704</td>\n",
       "      <td>-1.232680</td>\n",
       "      <td>1.420198</td>\n",
       "      <td>-1.219537</td>\n",
       "      <td>-1.249351</td>\n",
       "      <td>0.991933</td>\n",
       "      <td>-0.447545</td>\n",
       "      <td>-0.448969</td>\n",
       "      <td>-1.222456</td>\n",
       "      <td>0.430382</td>\n",
       "      <td>0.000552</td>\n",
       "      <td>-0.012122</td>\n",
       "    </tr>\n",
       "    <tr>\n",
       "      <th>1</th>\n",
       "      <td>-1.547389</td>\n",
       "      <td>-0.99561</td>\n",
       "      <td>1.004309</td>\n",
       "      <td>-1.002704</td>\n",
       "      <td>-0.006011</td>\n",
       "      <td>1.420198</td>\n",
       "      <td>-1.219537</td>\n",
       "      <td>1.199997</td>\n",
       "      <td>0.991933</td>\n",
       "      <td>-1.341829</td>\n",
       "      <td>-1.344401</td>\n",
       "      <td>0.003924</td>\n",
       "      <td>-1.359521</td>\n",
       "      <td>-1.225128</td>\n",
       "      <td>-1.236559</td>\n",
       "    </tr>\n",
       "    <tr>\n",
       "      <th>2</th>\n",
       "      <td>-0.683298</td>\n",
       "      <td>1.00441</td>\n",
       "      <td>1.004309</td>\n",
       "      <td>0.997304</td>\n",
       "      <td>-1.232680</td>\n",
       "      <td>0.715193</td>\n",
       "      <td>1.234753</td>\n",
       "      <td>-1.249351</td>\n",
       "      <td>-1.008133</td>\n",
       "      <td>0.446740</td>\n",
       "      <td>-0.448969</td>\n",
       "      <td>0.003924</td>\n",
       "      <td>-0.464569</td>\n",
       "      <td>1.226232</td>\n",
       "      <td>-0.012122</td>\n",
       "    </tr>\n",
       "    <tr>\n",
       "      <th>3</th>\n",
       "      <td>-0.035230</td>\n",
       "      <td>-0.99561</td>\n",
       "      <td>1.004309</td>\n",
       "      <td>0.997304</td>\n",
       "      <td>1.220659</td>\n",
       "      <td>1.420198</td>\n",
       "      <td>0.007608</td>\n",
       "      <td>1.199997</td>\n",
       "      <td>0.991933</td>\n",
       "      <td>0.446740</td>\n",
       "      <td>-1.344401</td>\n",
       "      <td>1.230305</td>\n",
       "      <td>-1.359521</td>\n",
       "      <td>-1.225128</td>\n",
       "      <td>1.212315</td>\n",
       "    </tr>\n",
       "    <tr>\n",
       "      <th>4</th>\n",
       "      <td>-0.395268</td>\n",
       "      <td>-0.99561</td>\n",
       "      <td>1.004309</td>\n",
       "      <td>-1.002704</td>\n",
       "      <td>-1.232680</td>\n",
       "      <td>-1.399823</td>\n",
       "      <td>1.234753</td>\n",
       "      <td>1.199997</td>\n",
       "      <td>-1.008133</td>\n",
       "      <td>-1.341829</td>\n",
       "      <td>0.446462</td>\n",
       "      <td>1.230305</td>\n",
       "      <td>0.430382</td>\n",
       "      <td>0.000552</td>\n",
       "      <td>-0.012122</td>\n",
       "    </tr>\n",
       "    <tr>\n",
       "      <th>...</th>\n",
       "      <td>...</td>\n",
       "      <td>...</td>\n",
       "      <td>...</td>\n",
       "      <td>...</td>\n",
       "      <td>...</td>\n",
       "      <td>...</td>\n",
       "      <td>...</td>\n",
       "      <td>...</td>\n",
       "      <td>...</td>\n",
       "      <td>...</td>\n",
       "      <td>...</td>\n",
       "      <td>...</td>\n",
       "      <td>...</td>\n",
       "      <td>...</td>\n",
       "      <td>...</td>\n",
       "    </tr>\n",
       "    <tr>\n",
       "      <th>19995</th>\n",
       "      <td>-0.755306</td>\n",
       "      <td>-0.99561</td>\n",
       "      <td>1.004309</td>\n",
       "      <td>0.997304</td>\n",
       "      <td>-1.232680</td>\n",
       "      <td>-1.399823</td>\n",
       "      <td>0.007608</td>\n",
       "      <td>-0.024677</td>\n",
       "      <td>-1.008133</td>\n",
       "      <td>0.446740</td>\n",
       "      <td>-0.448969</td>\n",
       "      <td>1.230305</td>\n",
       "      <td>-1.359521</td>\n",
       "      <td>1.226232</td>\n",
       "      <td>1.212315</td>\n",
       "    </tr>\n",
       "    <tr>\n",
       "      <th>19996</th>\n",
       "      <td>-1.043336</td>\n",
       "      <td>1.00441</td>\n",
       "      <td>-0.995709</td>\n",
       "      <td>0.997304</td>\n",
       "      <td>-1.232680</td>\n",
       "      <td>0.715193</td>\n",
       "      <td>-1.219537</td>\n",
       "      <td>-0.024677</td>\n",
       "      <td>-1.008133</td>\n",
       "      <td>-1.341829</td>\n",
       "      <td>-0.448969</td>\n",
       "      <td>-1.222456</td>\n",
       "      <td>-1.359521</td>\n",
       "      <td>-1.225128</td>\n",
       "      <td>-1.236559</td>\n",
       "    </tr>\n",
       "    <tr>\n",
       "      <th>19997</th>\n",
       "      <td>-1.475381</td>\n",
       "      <td>-0.99561</td>\n",
       "      <td>-0.995709</td>\n",
       "      <td>-1.002704</td>\n",
       "      <td>-0.006011</td>\n",
       "      <td>-0.694818</td>\n",
       "      <td>0.007608</td>\n",
       "      <td>1.199997</td>\n",
       "      <td>0.991933</td>\n",
       "      <td>-1.341829</td>\n",
       "      <td>-1.344401</td>\n",
       "      <td>-1.222456</td>\n",
       "      <td>1.325334</td>\n",
       "      <td>1.226232</td>\n",
       "      <td>-1.236559</td>\n",
       "    </tr>\n",
       "    <tr>\n",
       "      <th>19998</th>\n",
       "      <td>-0.971328</td>\n",
       "      <td>1.00441</td>\n",
       "      <td>-0.995709</td>\n",
       "      <td>0.997304</td>\n",
       "      <td>1.220659</td>\n",
       "      <td>-0.694818</td>\n",
       "      <td>-1.219537</td>\n",
       "      <td>1.199997</td>\n",
       "      <td>-1.008133</td>\n",
       "      <td>0.446740</td>\n",
       "      <td>-1.344401</td>\n",
       "      <td>1.230305</td>\n",
       "      <td>-0.464569</td>\n",
       "      <td>1.226232</td>\n",
       "      <td>1.212315</td>\n",
       "    </tr>\n",
       "    <tr>\n",
       "      <th>19999</th>\n",
       "      <td>-1.403374</td>\n",
       "      <td>-0.99561</td>\n",
       "      <td>-0.995709</td>\n",
       "      <td>0.997304</td>\n",
       "      <td>-1.232680</td>\n",
       "      <td>-0.694818</td>\n",
       "      <td>1.234753</td>\n",
       "      <td>1.199997</td>\n",
       "      <td>0.991933</td>\n",
       "      <td>-0.447545</td>\n",
       "      <td>-0.448969</td>\n",
       "      <td>-1.222456</td>\n",
       "      <td>0.430382</td>\n",
       "      <td>0.000552</td>\n",
       "      <td>1.212315</td>\n",
       "    </tr>\n",
       "  </tbody>\n",
       "</table>\n",
       "<p>20000 rows × 15 columns</p>\n",
       "</div>"
      ],
      "text/plain": [
       "            Age   Gender  Family History  Personal History  Current Stressors  \\\n",
       "0     -0.035230  1.00441        1.004309         -1.002704          -1.232680   \n",
       "1     -1.547389 -0.99561        1.004309         -1.002704          -0.006011   \n",
       "2     -0.683298  1.00441        1.004309          0.997304          -1.232680   \n",
       "3     -0.035230 -0.99561        1.004309          0.997304           1.220659   \n",
       "4     -0.395268 -0.99561        1.004309         -1.002704          -1.232680   \n",
       "...         ...      ...             ...               ...                ...   \n",
       "19995 -0.755306 -0.99561        1.004309          0.997304          -1.232680   \n",
       "19996 -1.043336  1.00441       -0.995709          0.997304          -1.232680   \n",
       "19997 -1.475381 -0.99561       -0.995709         -1.002704          -0.006011   \n",
       "19998 -0.971328  1.00441       -0.995709          0.997304           1.220659   \n",
       "19999 -1.403374 -0.99561       -0.995709          0.997304          -1.232680   \n",
       "\n",
       "       Symptoms  Severity  Impact on Life  Demographics  Medical History  \\\n",
       "0      1.420198 -1.219537       -1.249351      0.991933        -0.447545   \n",
       "1      1.420198 -1.219537        1.199997      0.991933        -1.341829   \n",
       "2      0.715193  1.234753       -1.249351     -1.008133         0.446740   \n",
       "3      1.420198  0.007608        1.199997      0.991933         0.446740   \n",
       "4     -1.399823  1.234753        1.199997     -1.008133        -1.341829   \n",
       "...         ...       ...             ...           ...              ...   \n",
       "19995 -1.399823  0.007608       -0.024677     -1.008133         0.446740   \n",
       "19996  0.715193 -1.219537       -0.024677     -1.008133        -1.341829   \n",
       "19997 -0.694818  0.007608        1.199997      0.991933        -1.341829   \n",
       "19998 -0.694818 -1.219537        1.199997     -1.008133         0.446740   \n",
       "19999 -0.694818  1.234753        1.199997      0.991933        -0.447545   \n",
       "\n",
       "       Psychiatric History  Substance Use  Coping Mechanisms  Social Support  \\\n",
       "0                -0.448969      -1.222456           0.430382        0.000552   \n",
       "1                -1.344401       0.003924          -1.359521       -1.225128   \n",
       "2                -0.448969       0.003924          -0.464569        1.226232   \n",
       "3                -1.344401       1.230305          -1.359521       -1.225128   \n",
       "4                 0.446462       1.230305           0.430382        0.000552   \n",
       "...                    ...            ...                ...             ...   \n",
       "19995            -0.448969       1.230305          -1.359521        1.226232   \n",
       "19996            -0.448969      -1.222456          -1.359521       -1.225128   \n",
       "19997            -1.344401      -1.222456           1.325334        1.226232   \n",
       "19998            -1.344401       1.230305          -0.464569        1.226232   \n",
       "19999            -0.448969      -1.222456           0.430382        0.000552   \n",
       "\n",
       "       Lifestyle Factors  \n",
       "0              -0.012122  \n",
       "1              -1.236559  \n",
       "2              -0.012122  \n",
       "3               1.212315  \n",
       "4              -0.012122  \n",
       "...                  ...  \n",
       "19995           1.212315  \n",
       "19996          -1.236559  \n",
       "19997          -1.236559  \n",
       "19998           1.212315  \n",
       "19999           1.212315  \n",
       "\n",
       "[20000 rows x 15 columns]"
      ]
     },
     "execution_count": 42,
     "metadata": {},
     "output_type": "execute_result"
    }
   ],
   "source": [
    "x_test"
   ]
  },
  {
   "cell_type": "markdown",
   "id": "c4e16db0-5481-4a0d-b5ec-3d9a1a3be13e",
   "metadata": {},
   "source": [
    "# Exploratory Data Analysis"
   ]
  },
  {
   "cell_type": "markdown",
   "id": "1252e4c7-3ac8-4542-8c7b-8c5cae2fa3f4",
   "metadata": {},
   "source": [
    "## Descriptive Statistical"
   ]
  },
  {
   "cell_type": "code",
   "execution_count": 43,
   "id": "879a214e-1e11-4a99-a013-b2e022fa9320",
   "metadata": {},
   "outputs": [
    {
     "data": {
      "text/html": [
       "<div>\n",
       "<style scoped>\n",
       "    .dataframe tbody tr th:only-of-type {\n",
       "        vertical-align: middle;\n",
       "    }\n",
       "\n",
       "    .dataframe tbody tr th {\n",
       "        vertical-align: top;\n",
       "    }\n",
       "\n",
       "    .dataframe thead th {\n",
       "        text-align: right;\n",
       "    }\n",
       "</style>\n",
       "<table border=\"1\" class=\"dataframe\">\n",
       "  <thead>\n",
       "    <tr style=\"text-align: right;\">\n",
       "      <th></th>\n",
       "      <th>Participant ID</th>\n",
       "      <th>Age</th>\n",
       "      <th>Gender</th>\n",
       "      <th>Family History</th>\n",
       "      <th>Personal History</th>\n",
       "      <th>Current Stressors</th>\n",
       "      <th>Symptoms</th>\n",
       "      <th>Severity</th>\n",
       "      <th>Impact on Life</th>\n",
       "      <th>Demographics</th>\n",
       "      <th>Medical History</th>\n",
       "      <th>Psychiatric History</th>\n",
       "      <th>Substance Use</th>\n",
       "      <th>Coping Mechanisms</th>\n",
       "      <th>Social Support</th>\n",
       "      <th>Lifestyle Factors</th>\n",
       "      <th>Panic Disorder Diagnosis</th>\n",
       "    </tr>\n",
       "  </thead>\n",
       "  <tbody>\n",
       "    <tr>\n",
       "      <th>count</th>\n",
       "      <td>100000.000000</td>\n",
       "      <td>100000.000000</td>\n",
       "      <td>100000</td>\n",
       "      <td>100000</td>\n",
       "      <td>100000</td>\n",
       "      <td>100000</td>\n",
       "      <td>100000</td>\n",
       "      <td>100000</td>\n",
       "      <td>100000</td>\n",
       "      <td>100000</td>\n",
       "      <td>100000</td>\n",
       "      <td>100000</td>\n",
       "      <td>100000</td>\n",
       "      <td>100000</td>\n",
       "      <td>100000</td>\n",
       "      <td>100000</td>\n",
       "      <td>100000.00000</td>\n",
       "    </tr>\n",
       "    <tr>\n",
       "      <th>unique</th>\n",
       "      <td>NaN</td>\n",
       "      <td>NaN</td>\n",
       "      <td>2</td>\n",
       "      <td>2</td>\n",
       "      <td>2</td>\n",
       "      <td>3</td>\n",
       "      <td>5</td>\n",
       "      <td>3</td>\n",
       "      <td>3</td>\n",
       "      <td>2</td>\n",
       "      <td>4</td>\n",
       "      <td>4</td>\n",
       "      <td>3</td>\n",
       "      <td>4</td>\n",
       "      <td>3</td>\n",
       "      <td>3</td>\n",
       "      <td>NaN</td>\n",
       "    </tr>\n",
       "    <tr>\n",
       "      <th>top</th>\n",
       "      <td>NaN</td>\n",
       "      <td>NaN</td>\n",
       "      <td>Male</td>\n",
       "      <td>Yes</td>\n",
       "      <td>No</td>\n",
       "      <td>Low</td>\n",
       "      <td>Fear of losing control</td>\n",
       "      <td>Severe</td>\n",
       "      <td>Mild</td>\n",
       "      <td>Rural</td>\n",
       "      <td>none</td>\n",
       "      <td>Bipolar disorder</td>\n",
       "      <td>Alcohol</td>\n",
       "      <td>Socializing</td>\n",
       "      <td>High</td>\n",
       "      <td>Exercise</td>\n",
       "      <td>NaN</td>\n",
       "    </tr>\n",
       "    <tr>\n",
       "      <th>freq</th>\n",
       "      <td>NaN</td>\n",
       "      <td>NaN</td>\n",
       "      <td>50052</td>\n",
       "      <td>50042</td>\n",
       "      <td>50210</td>\n",
       "      <td>33409</td>\n",
       "      <td>20236</td>\n",
       "      <td>33510</td>\n",
       "      <td>33452</td>\n",
       "      <td>50087</td>\n",
       "      <td>25173</td>\n",
       "      <td>25058</td>\n",
       "      <td>33445</td>\n",
       "      <td>25197</td>\n",
       "      <td>33453</td>\n",
       "      <td>33597</td>\n",
       "      <td>NaN</td>\n",
       "    </tr>\n",
       "    <tr>\n",
       "      <th>mean</th>\n",
       "      <td>50000.500000</td>\n",
       "      <td>41.454300</td>\n",
       "      <td>NaN</td>\n",
       "      <td>NaN</td>\n",
       "      <td>NaN</td>\n",
       "      <td>NaN</td>\n",
       "      <td>NaN</td>\n",
       "      <td>NaN</td>\n",
       "      <td>NaN</td>\n",
       "      <td>NaN</td>\n",
       "      <td>NaN</td>\n",
       "      <td>NaN</td>\n",
       "      <td>NaN</td>\n",
       "      <td>NaN</td>\n",
       "      <td>NaN</td>\n",
       "      <td>NaN</td>\n",
       "      <td>0.04285</td>\n",
       "    </tr>\n",
       "    <tr>\n",
       "      <th>std</th>\n",
       "      <td>28867.657797</td>\n",
       "      <td>13.839204</td>\n",
       "      <td>NaN</td>\n",
       "      <td>NaN</td>\n",
       "      <td>NaN</td>\n",
       "      <td>NaN</td>\n",
       "      <td>NaN</td>\n",
       "      <td>NaN</td>\n",
       "      <td>NaN</td>\n",
       "      <td>NaN</td>\n",
       "      <td>NaN</td>\n",
       "      <td>NaN</td>\n",
       "      <td>NaN</td>\n",
       "      <td>NaN</td>\n",
       "      <td>NaN</td>\n",
       "      <td>NaN</td>\n",
       "      <td>0.20252</td>\n",
       "    </tr>\n",
       "    <tr>\n",
       "      <th>min</th>\n",
       "      <td>1.000000</td>\n",
       "      <td>18.000000</td>\n",
       "      <td>NaN</td>\n",
       "      <td>NaN</td>\n",
       "      <td>NaN</td>\n",
       "      <td>NaN</td>\n",
       "      <td>NaN</td>\n",
       "      <td>NaN</td>\n",
       "      <td>NaN</td>\n",
       "      <td>NaN</td>\n",
       "      <td>NaN</td>\n",
       "      <td>NaN</td>\n",
       "      <td>NaN</td>\n",
       "      <td>NaN</td>\n",
       "      <td>NaN</td>\n",
       "      <td>NaN</td>\n",
       "      <td>0.00000</td>\n",
       "    </tr>\n",
       "    <tr>\n",
       "      <th>25%</th>\n",
       "      <td>25000.750000</td>\n",
       "      <td>29.000000</td>\n",
       "      <td>NaN</td>\n",
       "      <td>NaN</td>\n",
       "      <td>NaN</td>\n",
       "      <td>NaN</td>\n",
       "      <td>NaN</td>\n",
       "      <td>NaN</td>\n",
       "      <td>NaN</td>\n",
       "      <td>NaN</td>\n",
       "      <td>NaN</td>\n",
       "      <td>NaN</td>\n",
       "      <td>NaN</td>\n",
       "      <td>NaN</td>\n",
       "      <td>NaN</td>\n",
       "      <td>NaN</td>\n",
       "      <td>0.00000</td>\n",
       "    </tr>\n",
       "    <tr>\n",
       "      <th>50%</th>\n",
       "      <td>50000.500000</td>\n",
       "      <td>41.000000</td>\n",
       "      <td>NaN</td>\n",
       "      <td>NaN</td>\n",
       "      <td>NaN</td>\n",
       "      <td>NaN</td>\n",
       "      <td>NaN</td>\n",
       "      <td>NaN</td>\n",
       "      <td>NaN</td>\n",
       "      <td>NaN</td>\n",
       "      <td>NaN</td>\n",
       "      <td>NaN</td>\n",
       "      <td>NaN</td>\n",
       "      <td>NaN</td>\n",
       "      <td>NaN</td>\n",
       "      <td>NaN</td>\n",
       "      <td>0.00000</td>\n",
       "    </tr>\n",
       "    <tr>\n",
       "      <th>75%</th>\n",
       "      <td>75000.250000</td>\n",
       "      <td>53.000000</td>\n",
       "      <td>NaN</td>\n",
       "      <td>NaN</td>\n",
       "      <td>NaN</td>\n",
       "      <td>NaN</td>\n",
       "      <td>NaN</td>\n",
       "      <td>NaN</td>\n",
       "      <td>NaN</td>\n",
       "      <td>NaN</td>\n",
       "      <td>NaN</td>\n",
       "      <td>NaN</td>\n",
       "      <td>NaN</td>\n",
       "      <td>NaN</td>\n",
       "      <td>NaN</td>\n",
       "      <td>NaN</td>\n",
       "      <td>0.00000</td>\n",
       "    </tr>\n",
       "    <tr>\n",
       "      <th>max</th>\n",
       "      <td>100000.000000</td>\n",
       "      <td>65.000000</td>\n",
       "      <td>NaN</td>\n",
       "      <td>NaN</td>\n",
       "      <td>NaN</td>\n",
       "      <td>NaN</td>\n",
       "      <td>NaN</td>\n",
       "      <td>NaN</td>\n",
       "      <td>NaN</td>\n",
       "      <td>NaN</td>\n",
       "      <td>NaN</td>\n",
       "      <td>NaN</td>\n",
       "      <td>NaN</td>\n",
       "      <td>NaN</td>\n",
       "      <td>NaN</td>\n",
       "      <td>NaN</td>\n",
       "      <td>1.00000</td>\n",
       "    </tr>\n",
       "  </tbody>\n",
       "</table>\n",
       "</div>"
      ],
      "text/plain": [
       "        Participant ID            Age  Gender Family History Personal History  \\\n",
       "count    100000.000000  100000.000000  100000         100000           100000   \n",
       "unique             NaN            NaN       2              2                2   \n",
       "top                NaN            NaN    Male            Yes               No   \n",
       "freq               NaN            NaN   50052          50042            50210   \n",
       "mean      50000.500000      41.454300     NaN            NaN              NaN   \n",
       "std       28867.657797      13.839204     NaN            NaN              NaN   \n",
       "min           1.000000      18.000000     NaN            NaN              NaN   \n",
       "25%       25000.750000      29.000000     NaN            NaN              NaN   \n",
       "50%       50000.500000      41.000000     NaN            NaN              NaN   \n",
       "75%       75000.250000      53.000000     NaN            NaN              NaN   \n",
       "max      100000.000000      65.000000     NaN            NaN              NaN   \n",
       "\n",
       "       Current Stressors                Symptoms Severity Impact on Life  \\\n",
       "count             100000                  100000   100000         100000   \n",
       "unique                 3                       5        3              3   \n",
       "top                  Low  Fear of losing control   Severe           Mild   \n",
       "freq               33409                   20236    33510          33452   \n",
       "mean                 NaN                     NaN      NaN            NaN   \n",
       "std                  NaN                     NaN      NaN            NaN   \n",
       "min                  NaN                     NaN      NaN            NaN   \n",
       "25%                  NaN                     NaN      NaN            NaN   \n",
       "50%                  NaN                     NaN      NaN            NaN   \n",
       "75%                  NaN                     NaN      NaN            NaN   \n",
       "max                  NaN                     NaN      NaN            NaN   \n",
       "\n",
       "       Demographics Medical History Psychiatric History Substance Use  \\\n",
       "count        100000          100000              100000        100000   \n",
       "unique            2               4                   4             3   \n",
       "top           Rural            none    Bipolar disorder       Alcohol   \n",
       "freq          50087           25173               25058         33445   \n",
       "mean            NaN             NaN                 NaN           NaN   \n",
       "std             NaN             NaN                 NaN           NaN   \n",
       "min             NaN             NaN                 NaN           NaN   \n",
       "25%             NaN             NaN                 NaN           NaN   \n",
       "50%             NaN             NaN                 NaN           NaN   \n",
       "75%             NaN             NaN                 NaN           NaN   \n",
       "max             NaN             NaN                 NaN           NaN   \n",
       "\n",
       "       Coping Mechanisms Social Support Lifestyle Factors  \\\n",
       "count             100000         100000            100000   \n",
       "unique                 4              3                 3   \n",
       "top          Socializing           High          Exercise   \n",
       "freq               25197          33453             33597   \n",
       "mean                 NaN            NaN               NaN   \n",
       "std                  NaN            NaN               NaN   \n",
       "min                  NaN            NaN               NaN   \n",
       "25%                  NaN            NaN               NaN   \n",
       "50%                  NaN            NaN               NaN   \n",
       "75%                  NaN            NaN               NaN   \n",
       "max                  NaN            NaN               NaN   \n",
       "\n",
       "        Panic Disorder Diagnosis  \n",
       "count               100000.00000  \n",
       "unique                       NaN  \n",
       "top                          NaN  \n",
       "freq                         NaN  \n",
       "mean                     0.04285  \n",
       "std                      0.20252  \n",
       "min                      0.00000  \n",
       "25%                      0.00000  \n",
       "50%                      0.00000  \n",
       "75%                      0.00000  \n",
       "max                      1.00000  "
      ]
     },
     "execution_count": 43,
     "metadata": {},
     "output_type": "execute_result"
    }
   ],
   "source": [
    "# reverse transforming train dataframe\n",
    "train_invt = multi.inverse_transform(train)\n",
    "\n",
    "train_invt.describe(include='all')"
   ]
  },
  {
   "cell_type": "markdown",
   "id": "196d0294-391a-4a92-81f8-d499651dcd52",
   "metadata": {},
   "source": [
    "## Age"
   ]
  },
  {
   "cell_type": "code",
   "execution_count": 44,
   "id": "2470933e-e3ff-43a2-aaee-a10a4c139007",
   "metadata": {},
   "outputs": [
    {
     "data": {
      "text/plain": [
       "(array([10521., 10303., 10488.,  8310., 10415., 10537.,  8275., 10564.,\n",
       "        10255., 10332.]),\n",
       " array([18. , 22.7, 27.4, 32.1, 36.8, 41.5, 46.2, 50.9, 55.6, 60.3, 65. ]),\n",
       " <BarContainer object of 10 artists>)"
      ]
     },
     "execution_count": 44,
     "metadata": {},
     "output_type": "execute_result"
    },
    {
     "data": {
      "image/png": "[encoded data removed]",
      "text/plain": [
       "<Figure size 640x480 with 1 Axes>"
      ]
     },
     "metadata": {},
     "output_type": "display_data"
    }
   ],
   "source": [
    "plt.hist(train_invt['Age'])"
   ]
  },
  {
   "cell_type": "code",
   "execution_count": 45,
   "id": "0edb116b-d053-4507-a08a-78115aabf8f4",
   "metadata": {},
   "outputs": [
    {
     "data": {
      "text/plain": [
       "<Axes: xlabel='Age', ylabel='Density'>"
      ]
     },
     "execution_count": 45,
     "metadata": {},
     "output_type": "execute_result"
    },
    {
     "data": {
      "image/png": "[encoded data removed]",
      "text/plain": [
       "<Figure size 640x480 with 1 Axes>"
      ]
     },
     "metadata": {},
     "output_type": "display_data"
    }
   ],
   "source": [
    "sns.distplot(train_invt.Age)"
   ]
  },
  {
   "cell_type": "markdown",
   "id": "ca69a400-1450-4072-8af5-6ec78a7b478a",
   "metadata": {},
   "source": [
    "## Gender"
   ]
  },
  {
   "cell_type": "code",
   "execution_count": 46,
   "id": "6c33d66f-95a9-4faf-9cf2-8d22ae1b5ed9",
   "metadata": {},
   "outputs": [
    {
     "data": {
      "text/plain": [
       "[Text(0, 0, '50052'), Text(0, 0, '49948')]"
      ]
     },
     "execution_count": 46,
     "metadata": {},
     "output_type": "execute_result"
    },
    {
     "data": {
      "image/png": "[encoded data removed]",
      "text/plain": [
       "<Figure size 640x480 with 1 Axes>"
      ]
     },
     "metadata": {},
     "output_type": "display_data"
    }
   ],
   "source": [
    "y_axis = train_invt['Gender'].value_counts()\n",
    "x_axis = y_axis.index.values\n",
    "bars = plt.bar(x_axis,y_axis)\n",
    "plt.bar_label(bars)"
   ]
  },
  {
   "cell_type": "markdown",
   "id": "f60c97ed-1152-4b32-bd81-e25cf859f663",
   "metadata": {},
   "source": [
    "## Family History"
   ]
  },
  {
   "cell_type": "code",
   "execution_count": 47,
   "id": "ea607ebe-9548-49cd-825e-976e34c12f8a",
   "metadata": {},
   "outputs": [
    {
     "data": {
      "text/plain": [
       "[Text(0, 0, '50042'), Text(0, 0, '49958')]"
      ]
     },
     "execution_count": 47,
     "metadata": {},
     "output_type": "execute_result"
    },
    {
     "data": {
      "image/png": "[encoded data removed]",
      "text/plain": [
       "<Figure size 640x480 with 1 Axes>"
      ]
     },
     "metadata": {},
     "output_type": "display_data"
    }
   ],
   "source": [
    "y_axis = train_invt['Family History'].value_counts()\n",
    "x_axis = y_axis.index.values\n",
    "bars = plt.bar(x_axis,y_axis)\n",
    "plt.bar_label(bars)"
   ]
  },
  {
   "cell_type": "markdown",
   "id": "7f2a6fc5-a397-4494-962f-0a66604c504f",
   "metadata": {},
   "source": [
    "## Personal History"
   ]
  },
  {
   "cell_type": "code",
   "execution_count": 48,
   "id": "6a403d66-c204-4caf-9c3a-ddc142bd3672",
   "metadata": {},
   "outputs": [
    {
     "data": {
      "text/plain": [
       "[Text(0, 0, '50210'), Text(0, 0, '49790')]"
      ]
     },
     "execution_count": 48,
     "metadata": {},
     "output_type": "execute_result"
    },
    {
     "data": {
      "image/png": "[encoded data removed]",
      "text/plain": [
       "<Figure size 640x480 with 1 Axes>"
      ]
     },
     "metadata": {},
     "output_type": "display_data"
    }
   ],
   "source": [
    "y_axis = train_invt['Personal History'].value_counts()\n",
    "x_axis = y_axis.index.values\n",
    "bars = plt.bar(x_axis,y_axis)\n",
    "plt.bar_label(bars)"
   ]
  },
  {
   "cell_type": "markdown",
   "id": "2419c68e-79ec-40ab-87dd-edb2b842d6c7",
   "metadata": {},
   "source": [
    "## Current Stressors"
   ]
  },
  {
   "cell_type": "code",
   "execution_count": 49,
   "id": "59c1a018-6b92-4a9e-9585-ce3e801b258c",
   "metadata": {},
   "outputs": [
    {
     "data": {
      "text/plain": [
       "[Text(0, 0, '33409'), Text(0, 0, '33369'), Text(0, 0, '33222')]"
      ]
     },
     "execution_count": 49,
     "metadata": {},
     "output_type": "execute_result"
    },
    {
     "data": {
      "image/png": "[encoded data removed]",
      "text/plain": [
       "<Figure size 640x480 with 1 Axes>"
      ]
     },
     "metadata": {},
     "output_type": "display_data"
    }
   ],
   "source": [
    "y_axis = train_invt['Current Stressors'].value_counts()\n",
    "x_axis = y_axis.index.values\n",
    "bars = plt.bar(x_axis,y_axis)\n",
    "plt.bar_label(bars)"
   ]
  },
  {
   "cell_type": "markdown",
   "id": "0a4c5b11-f48f-4f07-9b31-6c31920f2720",
   "metadata": {},
   "source": [
    "## Symptoms"
   ]
  },
  {
   "cell_type": "code",
   "execution_count": 50,
   "id": "c28bbead-6580-44f9-9e29-2af48c054fc4",
   "metadata": {},
   "outputs": [
    {
     "data": {
      "text/plain": [
       "[Text(0, 0, '20236'),\n",
       " Text(0, 0, '20138'),\n",
       " Text(0, 0, '19949'),\n",
       " Text(0, 0, '19893'),\n",
       " Text(0, 0, '19784')]"
      ]
     },
     "execution_count": 50,
     "metadata": {},
     "output_type": "execute_result"
    },
    {
     "data": {
      "image/png": "[encoded data removed]",
      "text/plain": [
       "<Figure size 640x480 with 1 Axes>"
      ]
     },
     "metadata": {},
     "output_type": "display_data"
    }
   ],
   "source": [
    "y_axis = train_invt['Symptoms'].value_counts()\n",
    "x_axis = y_axis.index.values\n",
    "bars = plt.bar(x_axis,y_axis)\n",
    "plt.bar_label(bars)"
   ]
  },
  {
   "cell_type": "markdown",
   "id": "1b9d8757-f68f-4b4a-92be-b4c8ad32c87a",
   "metadata": {},
   "source": [
    "## Severity"
   ]
  },
  {
   "cell_type": "code",
   "execution_count": 51,
   "id": "87334146-25ba-4afb-b7fa-38ce688bd616",
   "metadata": {},
   "outputs": [
    {
     "data": {
      "text/plain": [
       "[Text(0, 0, '33510'), Text(0, 0, '33365'), Text(0, 0, '33125')]"
      ]
     },
     "execution_count": 51,
     "metadata": {},
     "output_type": "execute_result"
    },
    {
     "data": {
      "image/png": "[encoded data removed]",
      "text/plain": [
       "<Figure size 640x480 with 1 Axes>"
      ]
     },
     "metadata": {},
     "output_type": "display_data"
    }
   ],
   "source": [
    "y_axis = train_invt['Severity'].value_counts()\n",
    "x_axis = y_axis.index.values\n",
    "bars = plt.bar(x_axis,y_axis)\n",
    "plt.bar_label(bars)"
   ]
  },
  {
   "cell_type": "markdown",
   "id": "c06fafa7-3645-47d0-8182-e183806c48bc",
   "metadata": {},
   "source": [
    "## Impact on Life"
   ]
  },
  {
   "cell_type": "code",
   "execution_count": 52,
   "id": "216aafc0-794a-4b3d-a41b-dc6808d604cd",
   "metadata": {},
   "outputs": [
    {
     "data": {
      "text/plain": [
       "[Text(0, 0, '33452'), Text(0, 0, '33333'), Text(0, 0, '33215')]"
      ]
     },
     "execution_count": 52,
     "metadata": {},
     "output_type": "execute_result"
    },
    {
     "data": {
      "image/png": "[encoded data removed]",
      "text/plain": [
       "<Figure size 640x480 with 1 Axes>"
      ]
     },
     "metadata": {},
     "output_type": "display_data"
    }
   ],
   "source": [
    "y_axis = train_invt['Impact on Life'].value_counts()\n",
    "x_axis = y_axis.index.values\n",
    "bars = plt.bar(x_axis,y_axis)\n",
    "plt.bar_label(bars)"
   ]
  },
  {
   "cell_type": "markdown",
   "id": "6a16517b-1e78-4430-9bb8-163449415aa0",
   "metadata": {},
   "source": [
    "## Demographics"
   ]
  },
  {
   "cell_type": "code",
   "execution_count": 53,
   "id": "54a61d6b-1c51-463d-b23d-83f8c8d16f9d",
   "metadata": {},
   "outputs": [
    {
     "data": {
      "text/plain": [
       "[Text(0, 0, '50087'), Text(0, 0, '49913')]"
      ]
     },
     "execution_count": 53,
     "metadata": {},
     "output_type": "execute_result"
    },
    {
     "data": {
      "image/png": "[encoded data removed]",
      "text/plain": [
       "<Figure size 640x480 with 1 Axes>"
      ]
     },
     "metadata": {},
     "output_type": "display_data"
    }
   ],
   "source": [
    "y_axis = train_invt['Demographics'].value_counts()\n",
    "x_axis = y_axis.index.values\n",
    "bars = plt.bar(x_axis,y_axis)\n",
    "plt.bar_label(bars)"
   ]
  },
  {
   "cell_type": "markdown",
   "id": "0eb72cac-e199-4528-920f-8de65ec137c6",
   "metadata": {},
   "source": [
    "## Medical History"
   ]
  },
  {
   "cell_type": "code",
   "execution_count": 54,
   "id": "28385619-3294-4cc2-bff8-8212045a26cd",
   "metadata": {},
   "outputs": [
    {
     "data": {
      "text/plain": [
       "[Text(0, 0, '25173'),\n",
       " Text(0, 0, '25074'),\n",
       " Text(0, 0, '24993'),\n",
       " Text(0, 0, '24760')]"
      ]
     },
     "execution_count": 54,
     "metadata": {},
     "output_type": "execute_result"
    },
    {
     "data": {
      "image/png": "[encoded data removed]",
      "text/plain": [
       "<Figure size 640x480 with 1 Axes>"
      ]
     },
     "metadata": {},
     "output_type": "display_data"
    }
   ],
   "source": [
    "y_axis = train_invt['Medical History'].value_counts()\n",
    "x_axis = y_axis.index.values\n",
    "bars = plt.bar(x_axis,y_axis)\n",
    "plt.bar_label(bars)"
   ]
  },
  {
   "cell_type": "markdown",
   "id": "e0c4efea-d7de-4f65-b4a5-56a28429e440",
   "metadata": {},
   "source": [
    "## Psychiatric History"
   ]
  },
  {
   "cell_type": "code",
   "execution_count": 55,
   "id": "6386eab9-e100-4f41-ae47-d1fb12962813",
   "metadata": {},
   "outputs": [
    {
     "data": {
      "text/plain": [
       "[Text(0, 0, '25058'),\n",
       " Text(0, 0, '25025'),\n",
       " Text(0, 0, '24996'),\n",
       " Text(0, 0, '24921')]"
      ]
     },
     "execution_count": 55,
     "metadata": {},
     "output_type": "execute_result"
    },
    {
     "data": {
      "image/png": "[encoded data removed]",
      "text/plain": [
       "<Figure size 640x480 with 1 Axes>"
      ]
     },
     "metadata": {},
     "output_type": "display_data"
    }
   ],
   "source": [
    "y_axis = train_invt['Psychiatric History'].value_counts()\n",
    "x_axis = y_axis.index.values\n",
    "bars = plt.bar(x_axis,y_axis)\n",
    "plt.bar_label(bars)"
   ]
  },
  {
   "cell_type": "markdown",
   "id": "338ad995-d981-4da8-93dd-3a5a98db3a6f",
   "metadata": {},
   "source": [
    "## Substance Use"
   ]
  },
  {
   "cell_type": "code",
   "execution_count": 56,
   "id": "95ec5893-bef5-47b6-ac89-f43871b47027",
   "metadata": {},
   "outputs": [
    {
     "data": {
      "text/plain": [
       "[Text(0, 0, '33445'), Text(0, 0, '33374'), Text(0, 0, '33181')]"
      ]
     },
     "execution_count": 56,
     "metadata": {},
     "output_type": "execute_result"
    },
    {
     "data": {
      "image/png": "[encoded data removed]",
      "text/plain": [
       "<Figure size 640x480 with 1 Axes>"
      ]
     },
     "metadata": {},
     "output_type": "display_data"
    }
   ],
   "source": [
    "y_axis = train_invt['Substance Use'].value_counts()\n",
    "x_axis = y_axis.index.values\n",
    "bars = plt.bar(x_axis,y_axis)\n",
    "plt.bar_label(bars)"
   ]
  },
  {
   "cell_type": "markdown",
   "id": "7e957f2d-0411-4966-9470-c2bffe0c4daf",
   "metadata": {},
   "source": [
    "## Coping Mechanisms"
   ]
  },
  {
   "cell_type": "code",
   "execution_count": 57,
   "id": "4e6c84da-858d-45f5-84d6-62617027695c",
   "metadata": {},
   "outputs": [
    {
     "data": {
      "text/plain": [
       "[Text(0, 0, '25197'),\n",
       " Text(0, 0, '25037'),\n",
       " Text(0, 0, '24925'),\n",
       " Text(0, 0, '24841')]"
      ]
     },
     "execution_count": 57,
     "metadata": {},
     "output_type": "execute_result"
    },
    {
     "data": {
      "image/png": "[encoded data removed]",
      "text/plain": [
       "<Figure size 640x480 with 1 Axes>"
      ]
     },
     "metadata": {},
     "output_type": "display_data"
    }
   ],
   "source": [
    "y_axis = train_invt['Coping Mechanisms'].value_counts()\n",
    "x_axis = y_axis.index.values\n",
    "bars = plt.bar(x_axis,y_axis)\n",
    "plt.bar_label(bars)"
   ]
  },
  {
   "cell_type": "markdown",
   "id": "86da02ac-dfd9-4e43-8c52-6d2741c069f9",
   "metadata": {},
   "source": [
    "## Social Support"
   ]
  },
  {
   "cell_type": "code",
   "execution_count": 58,
   "id": "a5dcb2a0-6d7a-438e-8662-10066bda18e4",
   "metadata": {},
   "outputs": [
    {
     "data": {
      "text/plain": [
       "[Text(0, 0, '33453'), Text(0, 0, '33353'), Text(0, 0, '33194')]"
      ]
     },
     "execution_count": 58,
     "metadata": {},
     "output_type": "execute_result"
    },
    {
     "data": {
      "image/png": "[encoded data removed]",
      "text/plain": [
       "<Figure size 640x480 with 1 Axes>"
      ]
     },
     "metadata": {},
     "output_type": "display_data"
    }
   ],
   "source": [
    "y_axis = train_invt['Social Support'].value_counts()\n",
    "x_axis = y_axis.index.values\n",
    "bars = plt.bar(x_axis,y_axis)\n",
    "plt.bar_label(bars)"
   ]
  },
  {
   "cell_type": "markdown",
   "id": "c24816cc-e5f1-4c78-aabd-7d155f5c6021",
   "metadata": {},
   "source": [
    "## Lifestyle Factors"
   ]
  },
  {
   "cell_type": "code",
   "execution_count": 59,
   "id": "7a3662d4-a5c7-4893-806d-a811ca4fbf01",
   "metadata": {},
   "outputs": [
    {
     "data": {
      "text/plain": [
       "[Text(0, 0, '33597'), Text(0, 0, '33331'), Text(0, 0, '33072')]"
      ]
     },
     "execution_count": 59,
     "metadata": {},
     "output_type": "execute_result"
    },
    {
     "data": {
      "image/png": "[encoded data removed]",
      "text/plain": [
       "<Figure size 640x480 with 1 Axes>"
      ]
     },
     "metadata": {},
     "output_type": "display_data"
    }
   ],
   "source": [
    "y_axis = train_invt['Lifestyle Factors'].value_counts()\n",
    "x_axis = y_axis.index.values\n",
    "bars = plt.bar(x_axis,y_axis)\n",
    "plt.bar_label(bars)"
   ]
  },
  {
   "cell_type": "markdown",
   "id": "53426e33-de63-4a77-8ad8-d28bee8e5f98",
   "metadata": {},
   "source": [
    "## Panic Disorder Diagnosis"
   ]
  },
  {
   "cell_type": "code",
   "execution_count": 60,
   "id": "29f9ffb5-e7f2-490b-8247-73d753cae6ba",
   "metadata": {},
   "outputs": [
    {
     "data": {
      "text/plain": [
       "[Text(0, 0, '95715'), Text(0, 0, '4285')]"
      ]
     },
     "execution_count": 60,
     "metadata": {},
     "output_type": "execute_result"
    },
    {
     "data": {
      "image/png": "[encoded data removed]",
      "text/plain": [
       "<Figure size 640x480 with 1 Axes>"
      ]
     },
     "metadata": {},
     "output_type": "display_data"
    }
   ],
   "source": [
    "y_axis = train_invt['Panic Disorder Diagnosis'].value_counts()\n",
    "x_axis = y_axis.index.values\n",
    "bars = plt.bar(x_axis,y_axis)\n",
    "plt.bar_label(bars)"
   ]
  },
  {
   "cell_type": "code",
   "execution_count": 61,
   "id": "3e70dd22-47d8-42e8-af75-597c755c77ec",
   "metadata": {},
   "outputs": [
    {
     "data": {
      "text/plain": [
       "<Axes: xlabel='Panic Disorder Diagnosis', ylabel='count'>"
      ]
     },
     "execution_count": 61,
     "metadata": {},
     "output_type": "execute_result"
    },
    {
     "data": {
      "image/png": "[encoded data removed]",
      "text/plain": [
       "<Figure size 640x480 with 1 Axes>"
      ]
     },
     "metadata": {},
     "output_type": "display_data"
    }
   ],
   "source": [
    "sns.countplot(data=train_invt,x='Panic Disorder Diagnosis',palette=['green','red'])"
   ]
  },
  {
   "cell_type": "markdown",
   "id": "e7ebaa87-4097-4f79-92f6-ba04927f727f",
   "metadata": {},
   "source": [
    "\n",
    "### Bivariate Variables "
   ]
  },
  {
   "cell_type": "code",
   "execution_count": 62,
   "id": "2bcb1163-5561-4227-a6c1-60c42f7c1ea9",
   "metadata": {},
   "outputs": [
    {
     "data": {
      "text/plain": [
       "Text(0.5, 1.0, 'Lifestyle Factors')"
      ]
     },
     "execution_count": 62,
     "metadata": {},
     "output_type": "execute_result"
    },
    {
     "data": {
      "image/png": "[encoded data removed]",
      "text/plain": [
       "<Figure size 2000x2000 with 15 Axes>"
      ]
     },
     "metadata": {},
     "output_type": "display_data"
    }
   ],
   "source": [
    "plt.figure(figsize=(20,20))\n",
    "\n",
    "plt.subplot(5,3,1)\n",
    "y_axis = train_invt['Age'].value_counts()\n",
    "plt.hist(train['Age'])\n",
    "plt.title('Age')\n",
    "\n",
    "plt.subplot(5,3,2)\n",
    "y_axis = train_invt['Gender']\n",
    "plt.hist(y_axis)\n",
    "plt.title('Gender')\n",
    "\n",
    "\n",
    "plt.subplot(5,3,3)\n",
    "y_axis = train_invt['Family History']\n",
    "plt.hist(y_axis)\n",
    "plt.title('Family History')\n",
    "\n",
    "\n",
    "plt.subplot(5,3,4)\n",
    "y_axis = train_invt['Personal History']\n",
    "plt.hist(y_axis)\n",
    "plt.title('Personal History')\n",
    "\n",
    "\n",
    "plt.subplot(5,3,5)\n",
    "y_axis = train_invt['Current Stressors'].value_counts()\n",
    "plt.pie(y_axis, labels = y_axis.index)\n",
    "plt.title('Current Stressors')\n",
    "\n",
    "\n",
    "plt.subplot(5,3,6)\n",
    "y_axis = train_invt['Symptoms'].value_counts()\n",
    "plt.pie(y_axis, labels = y_axis.index)\n",
    "plt.title('Symptoms')\n",
    "\n",
    "\n",
    "plt.subplot(5,3,7)\n",
    "y_axis = train_invt['Severity'].value_counts()\n",
    "plt.pie(y_axis, labels = y_axis.index)\n",
    "plt.title('Age')\n",
    "\n",
    "\n",
    "plt.subplot(5,3,8)\n",
    "y_axis = train_invt['Impact on Life'].value_counts()\n",
    "plt.pie(y_axis, labels = y_axis.index)\n",
    "plt.title('Severity')\n",
    "\n",
    "\n",
    "plt.subplot(5,3,9)\n",
    "y_axis = train_invt['Demographics'].value_counts()\n",
    "plt.pie(y_axis, labels = y_axis.index)\n",
    "plt.title('Demographics')\n",
    "\n",
    "\n",
    "plt.subplot(5,3,10)\n",
    "y_axis = train_invt['Medical History'].value_counts()\n",
    "plt.pie(y_axis, labels = y_axis.index)\n",
    "plt.title('Medical History')\n",
    "\n",
    "\n",
    "plt.subplot(5,3,11)\n",
    "y_axis = train_invt['Psychiatric History'].value_counts()\n",
    "plt.pie(y_axis, labels = y_axis.index)\n",
    "plt.title('Psychiatric History')\n",
    "\n",
    "\n",
    "plt.subplot(5,3,12)\n",
    "y_axis = train_invt['Substance Use'].value_counts()\n",
    "plt.pie(y_axis, labels = y_axis.index)\n",
    "plt.title('Substance Use')\n",
    "\n",
    "\n",
    "plt.subplot(5,3,13)\n",
    "y_axis = train_invt['Coping Mechanisms'].value_counts()\n",
    "plt.pie(y_axis, labels=y_axis.index)\n",
    "plt.title('Coping Mechanisms')\n",
    "\n",
    "\n",
    "plt.subplot(5,3,14)\n",
    "y_axis = train_invt['Social Support'].value_counts()\n",
    "plt.pie(y_axis, labels=y_axis.index)\n",
    "plt.title('Social Support')\n",
    "\n",
    "\n",
    "plt.subplot(5,3,15)\n",
    "y_axis = train_invt['Lifestyle Factors'].value_counts()\n",
    "plt.pie(y_axis, labels = y_axis.index)\n",
    "plt.title('Lifestyle Factors')\n",
    "\n"
   ]
  },
  {
   "cell_type": "markdown",
   "id": "39571874-aab1-4cb6-b4d4-7a1ff2fbaa65",
   "metadata": {},
   "source": [
    "## Splitting the Data"
   ]
  },
  {
   "cell_type": "code",
   "execution_count": 63,
   "id": "a698f296-751c-4981-8895-541db208964a",
   "metadata": {},
   "outputs": [
    {
     "name": "stdout",
     "output_type": "stream",
     "text": [
      "(191430, 15) (191430,)\n",
      "(20000, 15) (20000,)\n"
     ]
    }
   ],
   "source": [
    "print(x_res_train.shape,y_res_train.shape)\n",
    "print(x_test.shape,y_test.shape)"
   ]
  },
  {
   "cell_type": "markdown",
   "id": "8fa0e7c2-c9b8-45aa-b92f-45e386a5ecc3",
   "metadata": {},
   "source": [
    "## Writing Function to Train the Models "
   ]
  },
  {
   "cell_type": "code",
   "execution_count": 66,
   "id": "b00017e9-8c5b-4d4d-9053-266d8a7f85a7",
   "metadata": {},
   "outputs": [],
   "source": [
    "#temp_x = x_res_train\n",
    "#temp_y = y_res_train\n",
    "\n",
    "def train_models_eval(x_res_train,y_res_train,fts):\n",
    "    print(\"\\n---›RANDOM FOREST\" )\n",
    "    rf = RandomForestClassifier(random_state=1234)\n",
    "    rf.fit(x_res_train[fts], y_res_train)\n",
    "    y_pred=rf.predict(x_test[fts])\n",
    "    print(confusion_matrix(y_test,y_pred))\n",
    "    print(classification_report(y_test,y_pred))\n",
    "    print(\"SCORE:\",rf.score(x_test[fts],y_test))\n",
    "    \n",
    "    print(\"\\n---›DECISION TREE\")\n",
    "    dtf = DecisionTreeClassifier(random_state=1234)\n",
    "    dtf.fit(x_res_train[fts], y_res_train)\n",
    "    y_pred=dtf.predict(x_test[fts])\n",
    "    print(confusion_matrix(y_test,y_pred))\n",
    "    print(classification_report(y_test,y_pred))\n",
    "    print(\"SCORE:\",dtf.score(x_test[fts],y_test))\n",
    "    \n",
    "    print(\" \\n--->KNN\")\n",
    "    knn = KNeighborsClassifier()\n",
    "    knn.fit(x_res_train[fts], y_res_train)\n",
    "    y_pred=knn.predict(x_test[fts])\n",
    "    print(confusion_matrix(y_test,y_pred))\n",
    "    print(classification_report(y_test,y_pred))\n",
    "    print(\"SCORE:\",knn.score(x_test[fts],y_test))\n",
    "    \n",
    "    print(\"\\n---›EXTRAS TREES CLASSIFIER\")\n",
    "    etc = ExtraTreesClassifier(random_state=1234)\n",
    "    etc.fit(x_res_train[fts],y_res_train)\n",
    "    y_pred=etc.predict(x_test[fts])\n",
    "    print(confusion_matrix(y_test,y_pred))\n",
    "    print(classification_report(y_test,y_pred))\n",
    "    print(\"SCORE:\",etc.score(x_test[fts],y_test))\n",
    "    \n",
    "    print(\"\\n---›XGBOOST\" )\n",
    "    xgb = xgboost.XGBClassifier ()\n",
    "    xgb.fit(x_res_train[fts], y_res_train)\n",
    "    y_pred=xgb.predict(x_test[fts])\n",
    "    print(confusion_matrix(y_test,y_pred))\n",
    "    print(classification_report(y_test,y_pred))\n",
    "    print(\"SCORE:\", xgb.score(x_test[fts],y_test))\n",
    "    \n",
    "    return rf,dtf,knn,etc,xgb"
   ]
  },
  {
   "cell_type": "code",
   "execution_count": 67,
   "id": "2a795c39-8f22-4484-8058-b82b0e99c311",
   "metadata": {},
   "outputs": [
    {
     "name": "stdout",
     "output_type": "stream",
     "text": [
      "\n",
      "---›RANDOM FOREST\n",
      "[[18851   308]\n",
      " [   17   824]]\n",
      "              precision    recall  f1-score   support\n",
      "\n",
      "           0       1.00      0.98      0.99     19159\n",
      "           1       0.73      0.98      0.84       841\n",
      "\n",
      "    accuracy                           0.98     20000\n",
      "   macro avg       0.86      0.98      0.91     20000\n",
      "weighted avg       0.99      0.98      0.98     20000\n",
      "\n",
      "SCORE: 0.98375\n",
      "\n",
      "---›DECISION TREE\n",
      "[[18906   253]\n",
      " [    5   836]]\n",
      "              precision    recall  f1-score   support\n",
      "\n",
      "           0       1.00      0.99      0.99     19159\n",
      "           1       0.77      0.99      0.87       841\n",
      "\n",
      "    accuracy                           0.99     20000\n",
      "   macro avg       0.88      0.99      0.93     20000\n",
      "weighted avg       0.99      0.99      0.99     20000\n",
      "\n",
      "SCORE: 0.9871\n",
      " \n",
      "--->KNN\n",
      "[[14665  4494]\n",
      " [   34   807]]\n",
      "              precision    recall  f1-score   support\n",
      "\n",
      "           0       1.00      0.77      0.87     19159\n",
      "           1       0.15      0.96      0.26       841\n",
      "\n",
      "    accuracy                           0.77     20000\n",
      "   macro avg       0.57      0.86      0.56     20000\n",
      "weighted avg       0.96      0.77      0.84     20000\n",
      "\n",
      "SCORE: 0.7736\n",
      "\n",
      "---›EXTRAS TREES CLASSIFIER\n",
      "[[18790   369]\n",
      " [   10   831]]\n",
      "              precision    recall  f1-score   support\n",
      "\n",
      "           0       1.00      0.98      0.99     19159\n",
      "           1       0.69      0.99      0.81       841\n",
      "\n",
      "    accuracy                           0.98     20000\n",
      "   macro avg       0.85      0.98      0.90     20000\n",
      "weighted avg       0.99      0.98      0.98     20000\n",
      "\n",
      "SCORE: 0.98105\n",
      "\n",
      "---›XGBOOST\n",
      "[[16480  2679]\n",
      " [    2   839]]\n",
      "              precision    recall  f1-score   support\n",
      "\n",
      "           0       1.00      0.86      0.92     19159\n",
      "           1       0.24      1.00      0.38       841\n",
      "\n",
      "    accuracy                           0.87     20000\n",
      "   macro avg       0.62      0.93      0.65     20000\n",
      "weighted avg       0.97      0.87      0.90     20000\n",
      "\n",
      "SCORE: 0.86595\n"
     ]
    }
   ],
   "source": [
    "fts = ['Gender',\n",
    " 'Family History',\n",
    " 'Personal History',\n",
    " 'Current Stressors',\n",
    " 'Symptoms',\n",
    " 'Severity',\n",
    " 'Impact on Life',\n",
    " 'Demographics',\n",
    " 'Medical History',\n",
    " 'Psychiatric History',\n",
    " 'Substance Use',\n",
    " 'Coping Mechanisms',\n",
    " 'Social Support',\n",
    " 'Lifestyle Factors']\n",
    "rf,dtf,knn,etc,xgb = train_models_eval(x_res_train,y_res_train,fts)"
   ]
  },
  {
   "cell_type": "code",
   "execution_count": 66,
   "id": "ad29d9b5-ce27-495d-9d50-28618423010d",
   "metadata": {},
   "outputs": [
    {
     "data": {
      "text/plain": [
       "array([0])"
      ]
     },
     "execution_count": 66,
     "metadata": {},
     "output_type": "execute_result"
    }
   ],
   "source": [
    "knn.predict([x_res_train[fts].iloc[60,:]])"
   ]
  },
  {
   "cell_type": "code",
   "execution_count": 67,
   "id": "76763aa1-a7a4-4fcc-90b2-4481ba9be1c0",
   "metadata": {},
   "outputs": [
    {
     "data": {
      "text/plain": [
       "0"
      ]
     },
     "execution_count": 67,
     "metadata": {},
     "output_type": "execute_result"
    }
   ],
   "source": [
    "y_test[60]"
   ]
  },
  {
   "cell_type": "markdown",
   "id": "25ac0438-8cc6-4548-821c-ad3cc5643416",
   "metadata": {},
   "source": [
    "## Hyperparameter Tuning"
   ]
  },
  {
   "cell_type": "markdown",
   "id": "5796b07d-0f18-4bea-9a67-657906418158",
   "metadata": {},
   "source": [
    "### Decision Tree "
   ]
  },
  {
   "cell_type": "code",
   "execution_count": 68,
   "id": "9a8f6a0a-1b73-47a3-863a-9eec15f49b51",
   "metadata": {},
   "outputs": [
    {
     "data": {
      "text/plain": [
       "{'ccp_alpha': 0.0,\n",
       " 'class_weight': None,\n",
       " 'criterion': 'gini',\n",
       " 'max_depth': None,\n",
       " 'max_features': None,\n",
       " 'max_leaf_nodes': None,\n",
       " 'min_impurity_decrease': 0.0,\n",
       " 'min_samples_leaf': 1,\n",
       " 'min_samples_split': 2,\n",
       " 'min_weight_fraction_leaf': 0.0,\n",
       " 'monotonic_cst': None,\n",
       " 'random_state': 1234,\n",
       " 'splitter': 'best'}"
      ]
     },
     "execution_count": 68,
     "metadata": {},
     "output_type": "execute_result"
    }
   ],
   "source": [
    "dtf.get_params()"
   ]
  },
  {
   "cell_type": "code",
   "execution_count": 70,
   "id": "9a754182-dff6-46d5-ad84-095fd621b066",
   "metadata": {},
   "outputs": [],
   "source": [
    "from sklearn.model_selection import GridSearchCV"
   ]
  },
  {
   "cell_type": "code",
   "execution_count": 70,
   "id": "8e5727af-9e50-4213-bbf1-9cf5e1926360",
   "metadata": {},
   "outputs": [
    {
     "name": "stdout",
     "output_type": "stream",
     "text": [
      "Fitting 5 folds for each of 216 candidates, totalling 1080 fits\n",
      "Best Hyperparameters: {'criterion': 'gini', 'max_depth': None, 'max_features': None, 'min_samples_leaf': 1, 'min_samples_split': 2}\n",
      "Best Score 0.9914015567048008\n"
     ]
    }
   ],
   "source": [
    "param_grid = {\n",
    "    'criterion': ['gini', 'entropy'],\n",
    "    'max_depth': [None, 5,10,15],\n",
    "    'min_samples_split': [2,3,10],\n",
    "    'min_samples_leaf': [1,2,3],\n",
    "    'max_features': [None, 'sqrt', 'log2']\n",
    "}\n",
    "\n",
    "#creating a decision tree classifier\n",
    "dt_classifier = DecisionTreeClassifier(random_state=1234)\n",
    "\n",
    "#Create GridSearchCV object\n",
    "grid_search = GridSearchCV(dt_classifier, param_grid, cv=5, verbose = 1, n_jobs=-1)\n",
    "\n",
    "#Fit the data to perform grid search\n",
    "grid_search.fit(x_res_train[fts], y_res_train)\n",
    "\n",
    "#Print the best hyperparameteers\n",
    "print(\"Best Hyperparameters:\", grid_search.best_params_)\n",
    "print(\"Best Score\", grid_search.best_score_)\n"
   ]
  },
  {
   "cell_type": "code",
   "execution_count": 71,
   "id": "3fc5dc98-3ada-4c15-a837-d30719583d26",
   "metadata": {},
   "outputs": [
    {
     "name": "stdout",
     "output_type": "stream",
     "text": [
      "[[18898   261]\n",
      " [    4   837]]\n",
      "              precision    recall  f1-score   support\n",
      "\n",
      "           0       1.00      0.99      0.99     19159\n",
      "           1       0.76      1.00      0.86       841\n",
      "\n",
      "    accuracy                           0.99     20000\n",
      "   macro avg       0.88      0.99      0.93     20000\n",
      "weighted avg       0.99      0.99      0.99     20000\n",
      "\n",
      "SCORE: 0.98675\n"
     ]
    }
   ],
   "source": [
    "y_pred = grid_search.best_estimator_.predict(x_test[fts])\n",
    "print(confusion_matrix(y_test,y_pred))\n",
    "print(classification_report(y_test,y_pred))\n",
    "print(\"SCORE:\",grid_search.best_estimator_.score(x_test[fts],y_test))"
   ]
  },
  {
   "cell_type": "markdown",
   "id": "3f75a3dc-11d7-4e9e-9f23-d6fb0bf37d0a",
   "metadata": {},
   "source": [
    "### Random Forest "
   ]
  },
  {
   "cell_type": "code",
   "execution_count": 72,
   "id": "d10af7f2-46c8-452b-b2ab-8ae88d514a36",
   "metadata": {},
   "outputs": [
    {
     "data": {
      "text/plain": [
       "{'bootstrap': True,\n",
       " 'ccp_alpha': 0.0,\n",
       " 'class_weight': None,\n",
       " 'criterion': 'gini',\n",
       " 'max_depth': None,\n",
       " 'max_features': 'sqrt',\n",
       " 'max_leaf_nodes': None,\n",
       " 'max_samples': None,\n",
       " 'min_impurity_decrease': 0.0,\n",
       " 'min_samples_leaf': 1,\n",
       " 'min_samples_split': 2,\n",
       " 'min_weight_fraction_leaf': 0.0,\n",
       " 'monotonic_cst': None,\n",
       " 'n_estimators': 100,\n",
       " 'n_jobs': None,\n",
       " 'oob_score': False,\n",
       " 'random_state': 1234,\n",
       " 'verbose': 0,\n",
       " 'warm_start': False}"
      ]
     },
     "execution_count": 72,
     "metadata": {},
     "output_type": "execute_result"
    }
   ],
   "source": [
    "rf.get_params()"
   ]
  },
  {
   "cell_type": "code",
   "execution_count": 73,
   "id": "94787720-e486-4436-8df7-efbc582fe69d",
   "metadata": {},
   "outputs": [
    {
     "name": "stdout",
     "output_type": "stream",
     "text": [
      "Fitting 5 folds for each of 162 candidates, totalling 810 fits\n",
      "Best Hyperparameters: {'max_depth': None, 'max_features': 'sqrt', 'min_samples_leaf': 1, 'min_samples_split': 2, 'n_estimators': 200}\n",
      "Best Score 0.9909784255341378\n"
     ]
    }
   ],
   "source": [
    "param_grid = {\n",
    "    'n_estimators': [50,100,200],\n",
    "    'max_depth': [None, 5,10],\n",
    "    'min_samples_split': [2,5,10],\n",
    "    'min_samples_leaf': [1,2,4],\n",
    "    'max_features': ['sqrt', 'log2']\n",
    "}\n",
    "\n",
    "#creating a Ramdom Forest Classifier\n",
    "rf_classifier = RandomForestClassifier(random_state=1234)\n",
    "\n",
    "#Create GridSearchCV object\n",
    "grid_search = GridSearchCV(rf_classifier, param_grid=param_grid, cv=5, verbose = 1, n_jobs=4)\n",
    "\n",
    "#Fit the data to perform grid search\n",
    "grid_search.fit(x_res_train[fts], y_res_train)\n",
    "\n",
    "#Print the best hyperparameteers\n",
    "print(\"Best Hyperparameters:\", grid_search.best_params_)\n",
    "print(\"Best Score\", grid_search.best_score_)\n"
   ]
  },
  {
   "cell_type": "code",
   "execution_count": 74,
   "id": "6ab1b49a-3979-484b-82f6-20174ea17f4d",
   "metadata": {},
   "outputs": [
    {
     "name": "stdout",
     "output_type": "stream",
     "text": [
      "[[18848   311]\n",
      " [   14   827]]\n",
      "              precision    recall  f1-score   support\n",
      "\n",
      "           0       1.00      0.98      0.99     19159\n",
      "           1       0.73      0.98      0.84       841\n",
      "\n",
      "    accuracy                           0.98     20000\n",
      "   macro avg       0.86      0.98      0.91     20000\n",
      "weighted avg       0.99      0.98      0.98     20000\n",
      "\n",
      "SCORE: 0.98375\n"
     ]
    }
   ],
   "source": [
    "y_pred = grid_search.best_estimator_.predict(x_test[fts])\n",
    "print(confusion_matrix(y_test,y_pred))\n",
    "print(classification_report(y_test,y_pred))\n",
    "print(\"SCORE:\",grid_search.best_estimator_.score(x_test[fts],y_test))"
   ]
  },
  {
   "cell_type": "markdown",
   "id": "dee67a6e-d1a6-426a-a5eb-e17e7358d65a",
   "metadata": {},
   "source": [
    "### XGBoost "
   ]
  },
  {
   "cell_type": "code",
   "execution_count": 68,
   "id": "b6b7614a-d306-4323-b234-8f353ef5bdfc",
   "metadata": {},
   "outputs": [
    {
     "data": {
      "text/plain": [
       "{'objective': 'binary:logistic',\n",
       " 'base_score': None,\n",
       " 'booster': None,\n",
       " 'callbacks': None,\n",
       " 'colsample_bylevel': None,\n",
       " 'colsample_bynode': None,\n",
       " 'colsample_bytree': None,\n",
       " 'device': None,\n",
       " 'early_stopping_rounds': None,\n",
       " 'enable_categorical': False,\n",
       " 'eval_metric': None,\n",
       " 'feature_types': None,\n",
       " 'gamma': None,\n",
       " 'grow_policy': None,\n",
       " 'importance_type': None,\n",
       " 'interaction_constraints': None,\n",
       " 'learning_rate': None,\n",
       " 'max_bin': None,\n",
       " 'max_cat_threshold': None,\n",
       " 'max_cat_to_onehot': None,\n",
       " 'max_delta_step': None,\n",
       " 'max_depth': None,\n",
       " 'max_leaves': None,\n",
       " 'min_child_weight': None,\n",
       " 'missing': nan,\n",
       " 'monotone_constraints': None,\n",
       " 'multi_strategy': None,\n",
       " 'n_estimators': None,\n",
       " 'n_jobs': None,\n",
       " 'num_parallel_tree': None,\n",
       " 'random_state': None,\n",
       " 'reg_alpha': None,\n",
       " 'reg_lambda': None,\n",
       " 'sampling_method': None,\n",
       " 'scale_pos_weight': None,\n",
       " 'subsample': None,\n",
       " 'tree_method': None,\n",
       " 'validate_parameters': None,\n",
       " 'verbosity': None}"
      ]
     },
     "execution_count": 68,
     "metadata": {},
     "output_type": "execute_result"
    }
   ],
   "source": [
    "xgb.get_params()"
   ]
  },
  {
   "cell_type": "code",
   "execution_count": 71,
   "id": "6b265659-73b3-4409-b308-8bd3aea2e5f0",
   "metadata": {},
   "outputs": [
    {
     "name": "stdout",
     "output_type": "stream",
     "text": [
      "Fitting 5 folds for each of 54 candidates, totalling 270 fits\n",
      "Best Hyperparameters: {'colsample_bytree': 0.9, 'gamma': 0, 'max_depth': 6, 'min_child_weight': 10}\n",
      "Best Score 0.9890926187118007\n"
     ]
    }
   ],
   "source": [
    "param_grid = {\n",
    "    'min_child_weight': [10,20],\n",
    "    'gamma': [0,1.5,2.0],\n",
    "    'colsample_bytree': [0.6,0.8,0.9],\n",
    "    'max_depth': [4,5,6],\n",
    "}\n",
    "\n",
    "xgb = xgboost.XGBClassifier(learning_rate=0.5, n_estimators=100, objective='binary:logistic', nthread=3)\n",
    "\n",
    "fitmodel = GridSearchCV(xgb, param_grid=param_grid, cv=5, refit=True, scoring = 'accuracy', n_jobs=4, verbose=3)\n",
    "\n",
    "#Fit the data to perform grid search\n",
    "fitmodel.fit(x_res_train[fts], y_res_train)\n",
    "\n",
    "#Print the best hyperparameteers\n",
    "print(\"Best Hyperparameters:\", fitmodel.best_params_)\n",
    "print(\"Best Score\", fitmodel.best_score_)\n"
   ]
  },
  {
   "cell_type": "code",
   "execution_count": 72,
   "id": "2955785f-f053-47e1-99d5-4eb914ff706b",
   "metadata": {},
   "outputs": [
    {
     "name": "stdout",
     "output_type": "stream",
     "text": [
      "[[16546  2613]\n",
      " [    7   834]]\n",
      "              precision    recall  f1-score   support\n",
      "\n",
      "           0       1.00      0.86      0.93     19159\n",
      "           1       0.24      0.99      0.39       841\n",
      "\n",
      "    accuracy                           0.87     20000\n",
      "   macro avg       0.62      0.93      0.66     20000\n",
      "weighted avg       0.97      0.87      0.90     20000\n",
      "\n",
      "SCORE: 0.869\n"
     ]
    }
   ],
   "source": [
    "y_pred = fitmodel.best_estimator_.predict(x_test[fts])\n",
    "print(confusion_matrix(y_test,y_pred))\n",
    "print(classification_report(y_test,y_pred))\n",
    "print(\"SCORE:\",fitmodel.best_estimator_.score(x_test[fts],y_test))"
   ]
  },
  {
   "cell_type": "markdown",
   "id": "edf40c56-91d6-445a-bba9-d547f18e0388",
   "metadata": {},
   "source": [
    "### KNN"
   ]
  },
  {
   "cell_type": "code",
   "execution_count": 73,
   "id": "ec03638f-0ef2-4df7-84ee-200f45d75078",
   "metadata": {},
   "outputs": [
    {
     "data": {
      "text/plain": [
       "{'algorithm': 'auto',\n",
       " 'leaf_size': 30,\n",
       " 'metric': 'minkowski',\n",
       " 'metric_params': None,\n",
       " 'n_jobs': None,\n",
       " 'n_neighbors': 5,\n",
       " 'p': 2,\n",
       " 'weights': 'uniform'}"
      ]
     },
     "execution_count": 73,
     "metadata": {},
     "output_type": "execute_result"
    }
   ],
   "source": [
    "knn.get_params()"
   ]
  },
  {
   "cell_type": "code",
   "execution_count": null,
   "id": "1a67aa1c-eadf-4479-8f16-3a5087c01e06",
   "metadata": {},
   "outputs": [
    {
     "name": "stdout",
     "output_type": "stream",
     "text": [
      "Fitting 5 folds for each of 144 candidates, totalling 720 fits\n"
     ]
    }
   ],
   "source": [
    "param_grid = {\n",
    "    'n_neighbors': [3,5,7],\n",
    "    'weights': ['uniform', 'distance'],\n",
    "    'algorithm': ['auto', 'ball_tree', 'kd_tree', 'brute'],\n",
    "    'leaf_size': [20,30,40],\n",
    "    'p': [1,2]\n",
    "}\n",
    "\n",
    "knn = KNeighborsClassifier()\n",
    "\n",
    "#Create GridSearchCV object\n",
    "grid_search = GridSearchCV(estimator=knn, param_grid=param_grid, cv=5, verbose = 1, n_jobs=4)\n",
    "\n",
    "#Fit the data to perform grid search\n",
    "grid_search.fit(x_res_train[fts], y_res_train)\n",
    "\n",
    "#Print the best hyperparameteers\n",
    "print(\"Best Hyperparameters:\", grid_search.best_params_)\n",
    "print(\"Best Score\", grid_search.best_score_)\n"
   ]
  },
  {
   "cell_type": "code",
   "execution_count": null,
   "id": "02b924ed-8fa9-46ba-b109-7611fb378019",
   "metadata": {},
   "outputs": [],
   "source": [
    "y_pred = grid_search.best_estimator_.predict(x_test[fts])\n",
    "print(confusion_matrix(y_test,y_pred))\n",
    "print(classification_report(y_test,y_pred))\n",
    "print(\"SCORE:\",grid_search.best_estimator_.score(x_test[fts],y_test))"
   ]
  },
  {
   "cell_type": "markdown",
   "id": "d8f87892-3a5a-4a2d-8d2e-ce19b489f371",
   "metadata": {},
   "source": [
    "## Save Model"
   ]
  },
  {
   "cell_type": "code",
   "execution_count": null,
   "id": "15ab65be-0424-4839-b2b9-6412b8087f30",
   "metadata": {},
   "outputs": [],
   "source": [
    "pkl.dump(dtf, open('dtf.pkl','wb'))"
   ]
  }
 ],
 "metadata": {
  "kernelspec": {
   "display_name": "Python 3 (ipykernel)",
   "language": "python",
   "name": "python3"
  },
  "language_info": {
   "codemirror_mode": {
    "name": "ipython",
    "version": 3
   },
   "file_extension": ".py",
   "mimetype": "text/x-python",
   "name": "python",
   "nbconvert_exporter": "python",
   "pygments_lexer": "ipython3",
   "version": "3.11.3"
  },
  "widgets": {
   "application/vnd.jupyter.widget-state+json": {
    "state": {},
    "version_major": 2,
    "version_minor": 0
   }
  }
 },
 "nbformat": 4,
 "nbformat_minor": 5
}
