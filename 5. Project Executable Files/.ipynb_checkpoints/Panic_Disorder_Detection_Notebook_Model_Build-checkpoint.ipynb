{
 "cells": [
  {
   "cell_type": "markdown",
   "id": "95ff19e4-f9c7-4c19-b178-2629d235964e",
   "metadata": {},
   "source": [
    "### Data Collection And Preparation"
   ]
  },
  {
   "cell_type": "markdown",
   "id": "c4897eb5-4531-448f-b65f-4cf10c7b2042",
   "metadata": {},
   "source": [
    "### Importing the libraries"
   ]
  },
  {
   "cell_type": "code",
   "execution_count": null,
   "id": "f1038cd4-4218-4582-9e98-f77055847834",
   "metadata": {},
   "outputs": [],
   "source": [
    "import pandas as pd \n",
    "import numpy as np \n",
    "import matplotlib.pyplot as plt \n",
    "import seaborn as sns \n",
    "from sklearn.feature_selection import chi2\n",
    "from sklearn.ensemble import RandomForestClassifier, ExtraTreesClassifier \n",
    "from sklearn.neighbors import KNeighborsClassifier\n",
    "from sklearn.metrics import confusion_matrix, classification_report \n",
    "from sklearn.tree import DecisionTreeClassifier \n",
    "from sklearn.preprocessing import LabelEncoder, StandardScaler\n",
    "import xgboost\n",
    "import pickle as pkl\n",
    "from sklearn.model_selection import cross_val_score, GridSearchCV\n",
    "from imblearn.over_sampling import SMOTE\n",
    "import warnings\n",
    "warnings.filterwarnings (\"ignore\")"
   ]
  },
  {
   "cell_type": "code",
   "execution_count": null,
   "id": "2547c000-b632-435f-9b5f-8e149eeedb7e",
   "metadata": {},
   "outputs": [],
   "source": [
    "class MultiColumnLabelEncoder:\n",
    "\n",
    "    def __init__(self, columns=None):\n",
    "        self.columns = columns # array of column names to encode\n",
    "\n",
    "\n",
    "    def fit(self, X, y=None):\n",
    "        self.encoders = {}\n",
    "        columns = X.columns if self.columns is None else self.columns\n",
    "        for col in columns:\n",
    "            self.encoders[col] = LabelEncoder().fit(X[col])\n",
    "        return self\n",
    "\n",
    "\n",
    "    def transform(self, X):\n",
    "        output = X.copy()\n",
    "        columns = X.columns if self.columns is None else self.columns\n",
    "        for col in columns:\n",
    "            output[col] = self.encoders[col].transform(X[col])\n",
    "        return output\n",
    "\n",
    "\n",
    "    def fit_transform(self, X, y=None):\n",
    "        return self.fit(X,y).transform(X)\n",
    "\n",
    "\n",
    "    def inverse_transform(self, X):\n",
    "        output = X.copy()\n",
    "        columns = X.columns if self.columns is None else self.columns\n",
    "        for col in columns:\n",
    "            output[col] = self.encoders[col].inverse_transform(X[col])\n",
    "        return output"
   ]
  },
  {
   "cell_type": "markdown",
   "id": "57c06bd4-da79-404a-b274-264d400facb0",
   "metadata": {},
   "source": [
    "## Read the Datasets"
   ]
  },
  {
   "cell_type": "code",
   "execution_count": null,
   "id": "0d974c70-aea6-4280-92bb-98d01fb3d881",
   "metadata": {},
   "outputs": [],
   "source": [
    "train = pd.read_csv('panic_disorder_dataset_training.csv')\n",
    "train.head()"
   ]
  },
  {
   "cell_type": "code",
   "execution_count": null,
   "id": "35d33e49-6e05-4bb5-b69e-653b0a925eaa",
   "metadata": {},
   "outputs": [],
   "source": [
    "test = pd.read_csv('panic_disorder_dataset_testing.csv')\n",
    "test.head()"
   ]
  },
  {
   "cell_type": "code",
   "execution_count": null,
   "id": "48d2bcda-4386-4827-ac06-674b85d35a25",
   "metadata": {},
   "outputs": [],
   "source": [
    "print('Train data shape:', train.shape)\n",
    "print('Test data shape:', test.shape)"
   ]
  },
  {
   "cell_type": "code",
   "execution_count": null,
   "id": "5bf8ca1a-c625-4e50-8404-3f532cbb1cb2",
   "metadata": {},
   "outputs": [],
   "source": [
    "train.info()"
   ]
  },
  {
   "cell_type": "code",
   "execution_count": null,
   "id": "1918b4ae-ccdb-4560-b13c-4a823f01af89",
   "metadata": {},
   "outputs": [],
   "source": [
    "test.info()"
   ]
  },
  {
   "cell_type": "markdown",
   "id": "40799061-7a75-4d06-8c6e-c5347c065bec",
   "metadata": {},
   "source": [
    "## Handling Missing Value"
   ]
  },
  {
   "cell_type": "code",
   "execution_count": null,
   "id": "c5a9f777-c215-4645-aa76-8e3ada5aa5b5",
   "metadata": {},
   "outputs": [],
   "source": [
    "train.isnull().sum()"
   ]
  },
  {
   "cell_type": "code",
   "execution_count": null,
   "id": "bf1e0e5f-6c10-43f5-a577-e7a407d19e66",
   "metadata": {},
   "outputs": [],
   "source": [
    "test.isnull().sum()"
   ]
  },
  {
   "cell_type": "code",
   "execution_count": null,
   "id": "5095eb0e-04d6-435a-9be6-adb0a570c60f",
   "metadata": {},
   "outputs": [],
   "source": [
    "train.isnull().any()"
   ]
  },
  {
   "cell_type": "code",
   "execution_count": null,
   "id": "f88203a6-351e-4c52-90b1-403f4929dba8",
   "metadata": {},
   "outputs": [],
   "source": [
    "test.isnull().any()"
   ]
  },
  {
   "cell_type": "code",
   "execution_count": null,
   "id": "2549c54c-372e-461f-b027-217f7978b7f6",
   "metadata": {},
   "outputs": [],
   "source": [
    "train[\"Medical History\"].unique()"
   ]
  },
  {
   "cell_type": "code",
   "execution_count": null,
   "id": "9f3f204e-cb22-4d24-959c-3fbc88deb181",
   "metadata": {},
   "outputs": [],
   "source": [
    "train[\"Psychiatric History\"].unique()"
   ]
  },
  {
   "cell_type": "code",
   "execution_count": null,
   "id": "e4f56afe-a837-4f81-83e4-3aa5f8176f75",
   "metadata": {},
   "outputs": [],
   "source": [
    "train[\"Substance Use\"].unique()"
   ]
  },
  {
   "cell_type": "code",
   "execution_count": null,
   "id": "819187b7-3b2a-47d5-b160-6803123c2285",
   "metadata": {},
   "outputs": [],
   "source": [
    "test[\"Medical History\"].unique()"
   ]
  },
  {
   "cell_type": "code",
   "execution_count": null,
   "id": "0859daab-924b-4794-a31c-f62ad95ef68b",
   "metadata": {},
   "outputs": [],
   "source": [
    "test[\"Psychiatric History\"].unique()"
   ]
  },
  {
   "cell_type": "code",
   "execution_count": null,
   "id": "dd061552-cf8d-4def-871d-ca4653c489d3",
   "metadata": {},
   "outputs": [],
   "source": [
    "test[\"Substance Use\"].unique()"
   ]
  },
  {
   "cell_type": "markdown",
   "id": "e25bd605-356e-4a93-9789-f79569bcf87b",
   "metadata": {},
   "source": [
    "### Fill null values"
   ]
  },
  {
   "cell_type": "code",
   "execution_count": null,
   "id": "8f3683cc-7133-4b98-85d3-c154155a53a1",
   "metadata": {},
   "outputs": [],
   "source": [
    "train[\"Medical History\"].fillna(\"none\", inplace=True)\n",
    "train[\"Medical History\"].unique()"
   ]
  },
  {
   "cell_type": "code",
   "execution_count": null,
   "id": "3122ad51-d03a-4152-b115-b6fd62c274c4",
   "metadata": {},
   "outputs": [],
   "source": [
    "train[\"Psychiatric History\"].fillna(\"none\", inplace=True)\n",
    "train[\"Psychiatric History\"].unique()"
   ]
  },
  {
   "cell_type": "code",
   "execution_count": null,
   "id": "bbca9b77-e8ed-4f7f-942c-ef01723b3c26",
   "metadata": {},
   "outputs": [],
   "source": [
    "train[\"Substance Use\"].fillna(\"none\", inplace=True)\n",
    "train[\"Substance Use\"].unique()"
   ]
  },
  {
   "cell_type": "code",
   "execution_count": null,
   "id": "50ff0af1-87b1-4974-bc58-0d09cbdf5552",
   "metadata": {},
   "outputs": [],
   "source": [
    "test[\"Medical History\"].fillna(\"none\", inplace=True)\n",
    "test[\"Medical History\"].unique()"
   ]
  },
  {
   "cell_type": "code",
   "execution_count": null,
   "id": "ed83e340-f10a-4f08-b95a-87ed3b1069b1",
   "metadata": {},
   "outputs": [],
   "source": [
    "test[\"Psychiatric History\"].fillna(\"none\", inplace=True)\n",
    "test[\"Psychiatric History\"].unique()"
   ]
  },
  {
   "cell_type": "code",
   "execution_count": null,
   "id": "e1840c15-3785-4d0d-8b7b-a3a99fe056a4",
   "metadata": {},
   "outputs": [],
   "source": [
    "test[\"Substance Use\"].fillna(\"none\", inplace=True)\n",
    "test[\"Substance Use\"].unique()"
   ]
  },
  {
   "cell_type": "markdown",
   "id": "87c9cf58-0722-4cb6-9b15-af01fa291fb3",
   "metadata": {},
   "source": [
    "### Checking null values again"
   ]
  },
  {
   "cell_type": "code",
   "execution_count": null,
   "id": "dc4817b6-d73a-49ce-9b51-4c3764fc4265",
   "metadata": {},
   "outputs": [],
   "source": [
    "train.isnull().any()"
   ]
  },
  {
   "cell_type": "code",
   "execution_count": null,
   "id": "bcc87688-e995-42ad-83c9-7d20b14cf5c8",
   "metadata": {},
   "outputs": [],
   "source": [
    "test.isnull().any()"
   ]
  },
  {
   "cell_type": "markdown",
   "id": "19a28150-7788-46a7-8d82-b9a7ad4920f5",
   "metadata": {},
   "source": [
    "## Handling Categorical Values"
   ]
  },
  {
   "cell_type": "code",
   "execution_count": null,
   "id": "1d60711c-242f-4a3c-aaed-75afbc4a5eb3",
   "metadata": {},
   "outputs": [],
   "source": [
    "#categorical values\n",
    "cat_cols=[]\n",
    "for i in train.columns:\n",
    "    if train[i].dtype=='object':\n",
    "        cat_cols.append(i)\n",
    "cat_cols"
   ]
  },
  {
   "cell_type": "code",
   "execution_count": null,
   "id": "2e8b5559-1eb9-4d2e-97d1-398820a817b7",
   "metadata": {},
   "outputs": [],
   "source": [
    "#Label Encoding\n",
    "multi = MultiColumnLabelEncoder(columns= cat_cols)\n",
    "\n",
    "train = multi.fit_transform(train)\n",
    "\n",
    "test =  multi.fit_transform(test)"
   ]
  },
  {
   "cell_type": "markdown",
   "id": "6084e224-367a-499d-bd82-64160f0c96cf",
   "metadata": {},
   "source": [
    "## SMOTE on Panic Disorder Diagnosis - Over Sampling The Data"
   ]
  },
  {
   "cell_type": "code",
   "execution_count": null,
   "id": "c7973ee4-1aab-4987-9ea7-e536435533fd",
   "metadata": {},
   "outputs": [],
   "source": [
    "print(train[\"Panic Disorder Diagnosis\"].value_counts())\n",
    "print(test[\"Panic Disorder Diagnosis\"].value_counts())"
   ]
  },
  {
   "cell_type": "code",
   "execution_count": null,
   "id": "f51d8769-28b8-418c-9de0-873ba52fde8f",
   "metadata": {},
   "outputs": [],
   "source": [
    "smote=SMOTE()"
   ]
  },
  {
   "cell_type": "code",
   "execution_count": null,
   "id": "04480126-7212-4786-81bc-21b1fc47def2",
   "metadata": {},
   "outputs": [],
   "source": [
    "y_train = train[\"Panic Disorder Diagnosis\"]\n",
    "x_train = train.drop(columns=['Participant ID','Panic Disorder Diagnosis'],axis=1)"
   ]
  },
  {
   "cell_type": "code",
   "execution_count": null,
   "id": "ca3e4911-e577-4d69-9ae1-4d84f5a1cf48",
   "metadata": {},
   "outputs": [],
   "source": [
    "y_test = test[\"Panic Disorder Diagnosis\"]\n",
    "x_test = test.drop(columns=['Participant ID','Panic Disorder Diagnosis'],axis=1)"
   ]
  },
  {
   "cell_type": "code",
   "execution_count": null,
   "id": "aafd4c83-c081-4087-a9f6-592c62eb425f",
   "metadata": {},
   "outputs": [],
   "source": [
    "x_res_train,y_res_train = smote.fit_resample(x_train,y_train)"
   ]
  },
  {
   "cell_type": "code",
   "execution_count": null,
   "id": "2bf0fb43-dc4d-43f8-8418-e6985561e49d",
   "metadata": {},
   "outputs": [],
   "source": [
    "print(y_train.value_counts())\n",
    "print(y_res_train.value_counts())"
   ]
  },
  {
   "cell_type": "code",
   "execution_count": null,
   "id": "244d2b31-ec4c-495c-a9e8-acfdc628da2a",
   "metadata": {},
   "outputs": [],
   "source": [
    "x_res_train"
   ]
  },
  {
   "cell_type": "code",
   "execution_count": null,
   "id": "82b0eff9-ac63-4cb8-95a7-c685ad958fd5",
   "metadata": {},
   "outputs": [],
   "source": [
    "y_res_train"
   ]
  },
  {
   "cell_type": "markdown",
   "id": "5dff3e43-0835-42ab-9c61-f5d30ac81981",
   "metadata": {},
   "source": [
    "## Feature Selection"
   ]
  },
  {
   "cell_type": "code",
   "execution_count": null,
   "id": "38ee025f-a545-448b-bfbe-aade9b3aa976",
   "metadata": {},
   "outputs": [],
   "source": [
    "#Calculating Fscore and p value\n",
    "f_p_values=chi2(x_res_train,y_res_train)\n",
    "f_p_values\n",
    "# Here first array has F values and second array has P values."
   ]
  },
  {
   "cell_type": "code",
   "execution_count": null,
   "id": "ed752e7d-0dc4-4aaf-a7b3-903e507f3c56",
   "metadata": {},
   "outputs": [],
   "source": [
    "#p Values\n",
    "p_values=pd.Series(f_p_values[1])\n",
    "p_values.index= x_train.columns\n",
    "p_values.sort_index(ascending=True)\n",
    "# We sort the P values array based on the Chi scores and select moderately important and least important feature/s."
   ]
  },
  {
   "cell_type": "markdown",
   "id": "c4e16db0-5481-4a0d-b5ec-3d9a1a3be13e",
   "metadata": {},
   "source": [
    "# Exploratory Data Analysis"
   ]
  },
  {
   "cell_type": "markdown",
   "id": "1252e4c7-3ac8-4542-8c7b-8c5cae2fa3f4",
   "metadata": {},
   "source": [
    "## Descriptive Statistical"
   ]
  },
  {
   "cell_type": "code",
   "execution_count": null,
   "id": "879a214e-1e11-4a99-a013-b2e022fa9320",
   "metadata": {},
   "outputs": [],
   "source": [
    "# reverse transforming train dataframe\n",
    "train_invt = multi.inverse_transform(train)\n",
    "\n",
    "train_invt.describe(include='all')"
   ]
  },
  {
   "cell_type": "markdown",
   "id": "196d0294-391a-4a92-81f8-d499651dcd52",
   "metadata": {},
   "source": [
    "## Age"
   ]
  },
  {
   "cell_type": "code",
   "execution_count": null,
   "id": "2470933e-e3ff-43a2-aaee-a10a4c139007",
   "metadata": {},
   "outputs": [],
   "source": [
    "plt.hist(train_invt['Age'])"
   ]
  },
  {
   "cell_type": "code",
   "execution_count": null,
   "id": "0edb116b-d053-4507-a08a-78115aabf8f4",
   "metadata": {},
   "outputs": [],
   "source": [
    "sns.distplot(train_invt.Age)"
   ]
  },
  {
   "cell_type": "markdown",
   "id": "ca69a400-1450-4072-8af5-6ec78a7b478a",
   "metadata": {},
   "source": [
    "## Gender"
   ]
  },
  {
   "cell_type": "code",
   "execution_count": null,
   "id": "6c33d66f-95a9-4faf-9cf2-8d22ae1b5ed9",
   "metadata": {},
   "outputs": [],
   "source": [
    "y_axis = train_invt['Gender'].value_counts()\n",
    "x_axis = y_axis.index.values\n",
    "bars = plt.bar(x_axis,y_axis)\n",
    "plt.bar_label(bars)"
   ]
  },
  {
   "cell_type": "markdown",
   "id": "f60c97ed-1152-4b32-bd81-e25cf859f663",
   "metadata": {},
   "source": [
    "## Family History"
   ]
  },
  {
   "cell_type": "code",
   "execution_count": null,
   "id": "ea607ebe-9548-49cd-825e-976e34c12f8a",
   "metadata": {},
   "outputs": [],
   "source": [
    "y_axis = train_invt['Family History'].value_counts()\n",
    "x_axis = y_axis.index.values\n",
    "bars = plt.bar(x_axis,y_axis)\n",
    "plt.bar_label(bars)"
   ]
  },
  {
   "cell_type": "markdown",
   "id": "7f2a6fc5-a397-4494-962f-0a66604c504f",
   "metadata": {},
   "source": [
    "## Personal History"
   ]
  },
  {
   "cell_type": "code",
   "execution_count": null,
   "id": "6a403d66-c204-4caf-9c3a-ddc142bd3672",
   "metadata": {},
   "outputs": [],
   "source": [
    "y_axis = train_invt['Personal History'].value_counts()\n",
    "x_axis = y_axis.index.values\n",
    "bars = plt.bar(x_axis,y_axis)\n",
    "plt.bar_label(bars)"
   ]
  },
  {
   "cell_type": "markdown",
   "id": "2419c68e-79ec-40ab-87dd-edb2b842d6c7",
   "metadata": {},
   "source": [
    "## Current Stressors"
   ]
  },
  {
   "cell_type": "code",
   "execution_count": null,
   "id": "59c1a018-6b92-4a9e-9585-ce3e801b258c",
   "metadata": {},
   "outputs": [],
   "source": [
    "y_axis = train_invt['Current Stressors'].value_counts()\n",
    "x_axis = y_axis.index.values\n",
    "bars = plt.bar(x_axis,y_axis)\n",
    "plt.bar_label(bars)"
   ]
  },
  {
   "cell_type": "markdown",
   "id": "0a4c5b11-f48f-4f07-9b31-6c31920f2720",
   "metadata": {},
   "source": [
    "## Symptoms"
   ]
  },
  {
   "cell_type": "code",
   "execution_count": null,
   "id": "c28bbead-6580-44f9-9e29-2af48c054fc4",
   "metadata": {},
   "outputs": [],
   "source": [
    "y_axis = train_invt['Symptoms'].value_counts()\n",
    "x_axis = y_axis.index.values\n",
    "bars = plt.bar(x_axis,y_axis)\n",
    "plt.bar_label(bars)"
   ]
  },
  {
   "cell_type": "markdown",
   "id": "1b9d8757-f68f-4b4a-92be-b4c8ad32c87a",
   "metadata": {},
   "source": [
    "## Severity"
   ]
  },
  {
   "cell_type": "code",
   "execution_count": null,
   "id": "87334146-25ba-4afb-b7fa-38ce688bd616",
   "metadata": {},
   "outputs": [],
   "source": [
    "y_axis = train_invt['Severity'].value_counts()\n",
    "x_axis = y_axis.index.values\n",
    "bars = plt.bar(x_axis,y_axis)\n",
    "plt.bar_label(bars)"
   ]
  },
  {
   "cell_type": "markdown",
   "id": "c06fafa7-3645-47d0-8182-e183806c48bc",
   "metadata": {},
   "source": [
    "## Impact on Life"
   ]
  },
  {
   "cell_type": "code",
   "execution_count": null,
   "id": "216aafc0-794a-4b3d-a41b-dc6808d604cd",
   "metadata": {},
   "outputs": [],
   "source": [
    "y_axis = train_invt['Impact on Life'].value_counts()\n",
    "x_axis = y_axis.index.values\n",
    "bars = plt.bar(x_axis,y_axis)\n",
    "plt.bar_label(bars)"
   ]
  },
  {
   "cell_type": "markdown",
   "id": "6a16517b-1e78-4430-9bb8-163449415aa0",
   "metadata": {},
   "source": [
    "## Demographics"
   ]
  },
  {
   "cell_type": "code",
   "execution_count": null,
   "id": "54a61d6b-1c51-463d-b23d-83f8c8d16f9d",
   "metadata": {},
   "outputs": [],
   "source": [
    "y_axis = train_invt['Demographics'].value_counts()\n",
    "x_axis = y_axis.index.values\n",
    "bars = plt.bar(x_axis,y_axis)\n",
    "plt.bar_label(bars)"
   ]
  },
  {
   "cell_type": "markdown",
   "id": "0eb72cac-e199-4528-920f-8de65ec137c6",
   "metadata": {},
   "source": [
    "## Medical History"
   ]
  },
  {
   "cell_type": "code",
   "execution_count": null,
   "id": "28385619-3294-4cc2-bff8-8212045a26cd",
   "metadata": {},
   "outputs": [],
   "source": [
    "y_axis = train_invt['Medical History'].value_counts()\n",
    "x_axis = y_axis.index.values\n",
    "bars = plt.bar(x_axis,y_axis)\n",
    "plt.bar_label(bars)"
   ]
  },
  {
   "cell_type": "markdown",
   "id": "e0c4efea-d7de-4f65-b4a5-56a28429e440",
   "metadata": {},
   "source": [
    "## Psychiatric History"
   ]
  },
  {
   "cell_type": "code",
   "execution_count": null,
   "id": "6386eab9-e100-4f41-ae47-d1fb12962813",
   "metadata": {},
   "outputs": [],
   "source": [
    "y_axis = train_invt['Psychiatric History'].value_counts()\n",
    "x_axis = y_axis.index.values\n",
    "bars = plt.bar(x_axis,y_axis)\n",
    "plt.bar_label(bars)"
   ]
  },
  {
   "cell_type": "markdown",
   "id": "338ad995-d981-4da8-93dd-3a5a98db3a6f",
   "metadata": {},
   "source": [
    "## Substance Use"
   ]
  },
  {
   "cell_type": "code",
   "execution_count": null,
   "id": "95ec5893-bef5-47b6-ac89-f43871b47027",
   "metadata": {},
   "outputs": [],
   "source": [
    "y_axis = train_invt['Substance Use'].value_counts()\n",
    "x_axis = y_axis.index.values\n",
    "bars = plt.bar(x_axis,y_axis)\n",
    "plt.bar_label(bars)"
   ]
  },
  {
   "cell_type": "markdown",
   "id": "7e957f2d-0411-4966-9470-c2bffe0c4daf",
   "metadata": {},
   "source": [
    "## Coping Mechanisms"
   ]
  },
  {
   "cell_type": "code",
   "execution_count": null,
   "id": "4e6c84da-858d-45f5-84d6-62617027695c",
   "metadata": {},
   "outputs": [],
   "source": [
    "y_axis = train_invt['Coping Mechanisms'].value_counts()\n",
    "x_axis = y_axis.index.values\n",
    "bars = plt.bar(x_axis,y_axis)\n",
    "plt.bar_label(bars)"
   ]
  },
  {
   "cell_type": "markdown",
   "id": "86da02ac-dfd9-4e43-8c52-6d2741c069f9",
   "metadata": {},
   "source": [
    "## Social Support"
   ]
  },
  {
   "cell_type": "code",
   "execution_count": null,
   "id": "a5dcb2a0-6d7a-438e-8662-10066bda18e4",
   "metadata": {},
   "outputs": [],
   "source": [
    "y_axis = train_invt['Social Support'].value_counts()\n",
    "x_axis = y_axis.index.values\n",
    "bars = plt.bar(x_axis,y_axis)\n",
    "plt.bar_label(bars)"
   ]
  },
  {
   "cell_type": "markdown",
   "id": "c24816cc-e5f1-4c78-aabd-7d155f5c6021",
   "metadata": {},
   "source": [
    "## Lifestyle Factors"
   ]
  },
  {
   "cell_type": "code",
   "execution_count": null,
   "id": "7a3662d4-a5c7-4893-806d-a811ca4fbf01",
   "metadata": {},
   "outputs": [],
   "source": [
    "y_axis = train_invt['Lifestyle Factors'].value_counts()\n",
    "x_axis = y_axis.index.values\n",
    "bars = plt.bar(x_axis,y_axis)\n",
    "plt.bar_label(bars)"
   ]
  },
  {
   "cell_type": "markdown",
   "id": "53426e33-de63-4a77-8ad8-d28bee8e5f98",
   "metadata": {},
   "source": [
    "## Panic Disorder Diagnosis"
   ]
  },
  {
   "cell_type": "code",
   "execution_count": null,
   "id": "29f9ffb5-e7f2-490b-8247-73d753cae6ba",
   "metadata": {},
   "outputs": [],
   "source": [
    "y_axis = train_invt['Panic Disorder Diagnosis'].value_counts()\n",
    "x_axis = y_axis.index.values\n",
    "bars = plt.bar(x_axis,y_axis)\n",
    "plt.bar_label(bars)"
   ]
  },
  {
   "cell_type": "code",
   "execution_count": null,
   "id": "3e70dd22-47d8-42e8-af75-597c755c77ec",
   "metadata": {},
   "outputs": [],
   "source": [
    "sns.countplot(data=train_invt,x='Panic Disorder Diagnosis',palette=['green','red'])"
   ]
  },
  {
   "cell_type": "markdown",
   "id": "e7ebaa87-4097-4f79-92f6-ba04927f727f",
   "metadata": {},
   "source": [
    "\n",
    "### Bivariate Variables "
   ]
  },
  {
   "cell_type": "code",
   "execution_count": null,
   "id": "2bcb1163-5561-4227-a6c1-60c42f7c1ea9",
   "metadata": {},
   "outputs": [],
   "source": [
    "plt.figure(figsize=(20,20))\n",
    "\n",
    "plt.subplot(5,3,1)\n",
    "y_axis = train_invt['Age'].value_counts()\n",
    "plt.hist(train['Age'])\n",
    "plt.title('Age')\n",
    "\n",
    "plt.subplot(5,3,2)\n",
    "y_axis = train_invt['Gender']\n",
    "plt.hist(y_axis)\n",
    "plt.title('Gender')\n",
    "\n",
    "\n",
    "plt.subplot(5,3,3)\n",
    "y_axis = train_invt['Family History']\n",
    "plt.hist(y_axis)\n",
    "plt.title('Family History')\n",
    "\n",
    "\n",
    "plt.subplot(5,3,4)\n",
    "y_axis = train_invt['Personal History']\n",
    "plt.hist(y_axis)\n",
    "plt.title('Personal History')\n",
    "\n",
    "\n",
    "plt.subplot(5,3,5)\n",
    "y_axis = train_invt['Current Stressors'].value_counts()\n",
    "plt.pie(y_axis, labels = y_axis.index)\n",
    "plt.title('Current Stressors')\n",
    "\n",
    "\n",
    "plt.subplot(5,3,6)\n",
    "y_axis = train_invt['Symptoms'].value_counts()\n",
    "plt.pie(y_axis, labels = y_axis.index)\n",
    "plt.title('Symptoms')\n",
    "\n",
    "\n",
    "plt.subplot(5,3,7)\n",
    "y_axis = train_invt['Severity'].value_counts()\n",
    "plt.pie(y_axis, labels = y_axis.index)\n",
    "plt.title('Age')\n",
    "\n",
    "\n",
    "plt.subplot(5,3,8)\n",
    "y_axis = train_invt['Impact on Life'].value_counts()\n",
    "plt.pie(y_axis, labels = y_axis.index)\n",
    "plt.title('Severity')\n",
    "\n",
    "\n",
    "plt.subplot(5,3,9)\n",
    "y_axis = train_invt['Demographics'].value_counts()\n",
    "plt.pie(y_axis, labels = y_axis.index)\n",
    "plt.title('Demographics')\n",
    "\n",
    "\n",
    "plt.subplot(5,3,10)\n",
    "y_axis = train_invt['Medical History'].value_counts()\n",
    "plt.pie(y_axis, labels = y_axis.index)\n",
    "plt.title('Medical History')\n",
    "\n",
    "\n",
    "plt.subplot(5,3,11)\n",
    "y_axis = train_invt['Psychiatric History'].value_counts()\n",
    "plt.pie(y_axis, labels = y_axis.index)\n",
    "plt.title('Psychiatric History')\n",
    "\n",
    "\n",
    "plt.subplot(5,3,12)\n",
    "y_axis = train_invt['Substance Use'].value_counts()\n",
    "plt.pie(y_axis, labels = y_axis.index)\n",
    "plt.title('Substance Use')\n",
    "\n",
    "\n",
    "plt.subplot(5,3,13)\n",
    "y_axis = train_invt['Coping Mechanisms'].value_counts()\n",
    "plt.pie(y_axis, labels=y_axis.index)\n",
    "plt.title('Coping Mechanisms')\n",
    "\n",
    "\n",
    "plt.subplot(5,3,14)\n",
    "y_axis = train_invt['Social Support'].value_counts()\n",
    "plt.pie(y_axis, labels=y_axis.index)\n",
    "plt.title('Social Support')\n",
    "\n",
    "\n",
    "plt.subplot(5,3,15)\n",
    "y_axis = train_invt['Lifestyle Factors'].value_counts()\n",
    "plt.pie(y_axis, labels = y_axis.index)\n",
    "plt.title('Lifestyle Factors')\n",
    "\n"
   ]
  },
  {
   "cell_type": "markdown",
   "id": "39571874-aab1-4cb6-b4d4-7a1ff2fbaa65",
   "metadata": {},
   "source": [
    "## Splitting the Data"
   ]
  },
  {
   "cell_type": "code",
   "execution_count": null,
   "id": "a698f296-751c-4981-8895-541db208964a",
   "metadata": {},
   "outputs": [],
   "source": [
    "print(x_res_train.shape,y_res_train.shape)\n",
    "print(x_test.shape,y_test.shape)"
   ]
  },
  {
   "cell_type": "code",
   "execution_count": null,
   "id": "79056262-3255-47f1-9528-2e4de33c75e7",
   "metadata": {},
   "outputs": [],
   "source": [
    "x_res_train"
   ]
  },
  {
   "cell_type": "code",
   "execution_count": null,
   "id": "872952a8-7079-4c31-9468-6f59792a46f9",
   "metadata": {},
   "outputs": [],
   "source": [
    "y_res_train"
   ]
  },
  {
   "cell_type": "markdown",
   "id": "8fa0e7c2-c9b8-45aa-b92f-45e386a5ecc3",
   "metadata": {},
   "source": [
    "## Writing Function to Train the Models "
   ]
  },
  {
   "cell_type": "code",
   "execution_count": null,
   "id": "b00017e9-8c5b-4d4d-9053-266d8a7f85a7",
   "metadata": {},
   "outputs": [],
   "source": [
    "#temp_x = x_res_train\n",
    "#temp_y = y_res_train\n",
    "\n",
    "def train_models_eval(x_res_train,y_res_train,fts):\n",
    "    print(\"\\n---›RANDOM FOREST\" )\n",
    "    rf = RandomForestClassifier(random_state=1234)\n",
    "    rf.fit(x_res_train[fts], y_res_train)\n",
    "    y_pred=rf.predict(x_test[fts])\n",
    "    print(confusion_matrix(y_test,y_pred))\n",
    "    print(classification_report(y_test,y_pred))\n",
    "    print(\"SCORE:\",rf.score(x_test[fts],y_test))\n",
    "    \n",
    "    print(\"\\n---›DECISION TREE\")\n",
    "    dtf = DecisionTreeClassifier(random_state=1234)\n",
    "    dtf.fit(x_res_train[fts], y_res_train)\n",
    "    y_pred=dtf.predict(x_test[fts])\n",
    "    print(confusion_matrix(y_test,y_pred))\n",
    "    print(classification_report(y_test,y_pred))\n",
    "    print(\"SCORE:\",dtf.score(x_test[fts],y_test))\n",
    "    \n",
    "    print(\" \\n--->KNN\")\n",
    "    knn = KNeighborsClassifier()\n",
    "    knn.fit(x_res_train[fts], y_res_train)\n",
    "    y_pred=knn.predict(x_test[fts])\n",
    "    print(confusion_matrix(y_test,y_pred))\n",
    "    print(classification_report(y_test,y_pred))\n",
    "    print(\"SCORE:\",knn.score(x_test[fts],y_test))\n",
    "    \n",
    "    print(\"\\n---›EXTRAS TREES CLASSIFIER\")\n",
    "    etc = ExtraTreesClassifier(random_state=1234)\n",
    "    etc.fit(x_res_train[fts],y_res_train)\n",
    "    y_pred=etc.predict(x_test[fts])\n",
    "    print(confusion_matrix(y_test,y_pred))\n",
    "    print(classification_report(y_test,y_pred))\n",
    "    print(\"SCORE:\",etc.score(x_test[fts],y_test))\n",
    "    \n",
    "    print(\"\\n---›XGBOOST\" )\n",
    "    xgb = xgboost.XGBClassifier ()\n",
    "    xgb.fit(x_res_train[fts], y_res_train)\n",
    "    y_pred=xgb.predict(x_test[fts])\n",
    "    print(confusion_matrix(y_test,y_pred))\n",
    "    print(classification_report(y_test,y_pred))\n",
    "    print(\"SCORE:\", xgb.score(x_test[fts],y_test))\n",
    "    \n",
    "    return rf,dtf,knn,etc,xgb"
   ]
  },
  {
   "cell_type": "code",
   "execution_count": null,
   "id": "2a795c39-8f22-4484-8058-b82b0e99c311",
   "metadata": {},
   "outputs": [],
   "source": [
    "fts = ['Gender',\n",
    " 'Family History',\n",
    " 'Personal History',\n",
    " 'Current Stressors',\n",
    " 'Symptoms',\n",
    " 'Severity',\n",
    " 'Impact on Life',\n",
    " 'Demographics',\n",
    " 'Medical History',\n",
    " 'Psychiatric History',\n",
    " 'Substance Use',\n",
    " 'Coping Mechanisms',\n",
    " 'Social Support',\n",
    " 'Lifestyle Factors']\n",
    "rf,dtf,knn,etc,xgb = train_models_eval(x_res_train,y_res_train,fts)"
   ]
  },
  {
   "cell_type": "code",
   "execution_count": null,
   "id": "ad29d9b5-ce27-495d-9d50-28618423010d",
   "metadata": {},
   "outputs": [],
   "source": [
    "knn.predict([x_test[fts].iloc[7,:]])"
   ]
  },
  {
   "cell_type": "code",
   "execution_count": null,
   "id": "76763aa1-a7a4-4fcc-90b2-4481ba9be1c0",
   "metadata": {},
   "outputs": [],
   "source": [
    "y_test[7]"
   ]
  },
  {
   "cell_type": "markdown",
   "id": "04a6a7ff-c159-4a41-8453-3ae8c9eeb406",
   "metadata": {},
   "source": [
    "## Build Model"
   ]
  },
  {
   "cell_type": "code",
   "execution_count": null,
   "id": "15ab65be-0424-4839-b2b9-6412b8087f30",
   "metadata": {},
   "outputs": [],
   "source": [
    "pkl.dump(dtf, open('dtf.pkl','wb'))"
   ]
  },
  {
   "cell_type": "markdown",
   "id": "e7a11b39-da85-438a-a84d-3bd09e72f612",
   "metadata": {},
   "source": [
    "# Hyperparameter Tuning"
   ]
  },
  {
   "cell_type": "markdown",
   "id": "9621b8a8-2dd8-4109-95aa-fca9d9f6b592",
   "metadata": {},
   "source": [
    "### Decision Tree"
   ]
  },
  {
   "cell_type": "code",
   "execution_count": null,
   "id": "86e05d53-8b0c-434f-a4a2-d445b4d22653",
   "metadata": {},
   "outputs": [],
   "source": [
    "dtf.get_params()"
   ]
  },
  {
   "cell_type": "code",
   "execution_count": null,
   "id": "6ee81452-1a65-4140-8f70-9b4de2e3340e",
   "metadata": {},
   "outputs": [],
   "source": [
    "param_grid = {\n",
    "    'criterion': ['gini', 'entropy'],\n",
    "    'max_depth': [None, 5,10,15],\n",
    "    'min_samples_split': [2,3,10],\n",
    "    'min_samples_leaf': [1,2,3],\n",
    "    'max_features': [None, 'sqrt', 'log2']\n",
    "}\n",
    "\n",
    "#creating a decision tree classifier\n",
    "dt_classifier = DecisionTreeClassifier(random_state=1234)\n",
    "\n",
    "#Create GridSearchCV object\n",
    "grid_search = GridSearchCV(dt_classifier, param_grid, cv=5, verbose = 1, n_jobs=-1)\n",
    "\n",
    "#Fit the data to perform grid search\n",
    "grid_search.fit(x_res_train[fts], y_res_train)\n",
    "\n",
    "#Print the best hyperparameteers\n",
    "print(\"Best Hyperparameters:\", grid_search.best_params_)\n",
    "print(\"Best Score\", grid_search.best_score_)\n"
   ]
  },
  {
   "cell_type": "code",
   "execution_count": null,
   "id": "53db1db9-a359-4fb9-92b4-f36730d4c457",
   "metadata": {},
   "outputs": [],
   "source": [
    "y_pred = grid_search.best_estimator_.predict(x_test[fts])\n",
    "print(confusion_matrix(y_test,y_pred))\n",
    "print(classification_report(y_test,y_pred))\n",
    "print(\"SCORE:\",grid_search.best_estimator_.score(x_test[fts],y_test))"
   ]
  },
  {
   "cell_type": "markdown",
   "id": "30783cab-f6fa-43bc-b3bf-cb7e35beedb8",
   "metadata": {},
   "source": [
    "### Random Forest"
   ]
  },
  {
   "cell_type": "code",
   "execution_count": null,
   "id": "1ce8a339-9674-4331-9cda-ef4f6d606c5d",
   "metadata": {},
   "outputs": [],
   "source": [
    "rf.get_params()"
   ]
  },
  {
   "cell_type": "code",
   "execution_count": null,
   "id": "7fb70468-2873-4e81-9cd0-446f887ee5fd",
   "metadata": {},
   "outputs": [],
   "source": [
    "param_grid = {\n",
    "    'n_estimators': [50,100,200],\n",
    "    'max_depth': [None, 5,10],\n",
    "    'min_samples_split': [2,5,10],\n",
    "    'min_samples_leaf': [1,2,4],\n",
    "    'max_features': ['sqrt', 'log2']\n",
    "}\n",
    "\n",
    "#creating a Ramdom Forest Classifier\n",
    "rf_classifier = RandomForestClassifier(random_state=1234)\n",
    "\n",
    "#Create GridSearchCV object\n",
    "grid_search = GridSearchCV(rf_classifier, param_grid=param_grid, cv=5, verbose = 1, n_jobs=4)\n",
    "\n",
    "#Fit the data to perform grid search\n",
    "grid_search.fit(x_res_train[fts], y_res_train)\n",
    "\n",
    "#Print the best hyperparameteers\n",
    "print(\"Best Hyperparameters:\", grid_search.best_params_)\n",
    "print(\"Best Score\", grid_search.best_score_)\n"
   ]
  },
  {
   "cell_type": "code",
   "execution_count": null,
   "id": "687da944-f371-4f51-874f-872bec1f1889",
   "metadata": {},
   "outputs": [],
   "source": [
    "y_pred = grid_search.best_estimator_.predict(x_test[fts])\n",
    "print(confusion_matrix(y_test,y_pred))\n",
    "print(classification_report(y_test,y_pred))\n",
    "print(\"SCORE:\",grid_search.best_estimator_.score(x_test[fts],y_test))"
   ]
  },
  {
   "cell_type": "markdown",
   "id": "726afe52-fde4-45c3-b124-7f7717bd5097",
   "metadata": {},
   "source": [
    "### XGBoost"
   ]
  },
  {
   "cell_type": "code",
   "execution_count": null,
   "id": "ab0f36c3-370d-4ea3-94e3-25bf4aea50f6",
   "metadata": {},
   "outputs": [],
   "source": [
    "xgb.get_params()"
   ]
  },
  {
   "cell_type": "code",
   "execution_count": null,
   "id": "12f04842-45fa-439f-9555-078e250be01e",
   "metadata": {},
   "outputs": [],
   "source": [
    "param_grid = {\n",
    "    'min_child_weight': [10,20],\n",
    "    'gamma': [0,1.5,2.0],\n",
    "    'colsample_bytree': [0.6,0.8,0.9],\n",
    "    'max_depth': [4,5,6],\n",
    "}\n",
    "\n",
    "xgb = xgboost.XGBClassifier(learning_rate=0.5, n_estimators=100, objective='binary:logistic', nthread=3)\n",
    "\n",
    "fitmodel = GridSearchCV(xgb, param_grid=param_grid, cv=5, refit=True, scoring = 'accuracy', n_jobs=4, verbose=3)\n",
    "\n",
    "#Fit the data to perform grid search\n",
    "fitmodel.fit(x_res_train[fts], y_res_train)\n",
    "\n",
    "#Print the best hyperparameteers\n",
    "print(\"Best Hyperparameters:\", fitmodel.best_params_)\n",
    "print(\"Best Score\", fitmodel.best_score_)\n"
   ]
  },
  {
   "cell_type": "code",
   "execution_count": null,
   "id": "dadc1841-9f3d-413b-8559-cc50cb76e7ec",
   "metadata": {},
   "outputs": [],
   "source": [
    "y_pred = fitmodel.best_estimator_.predict(x_test[fts])\n",
    "print(confusion_matrix(y_test,y_pred))\n",
    "print(classification_report(y_test,y_pred))\n",
    "print(\"SCORE:\",fitmodel.best_estimator_.score(x_test[fts],y_test))"
   ]
  },
  {
   "cell_type": "code",
   "execution_count": null,
   "id": "dfaa155c-516e-472c-a656-cc84b8f2b919",
   "metadata": {},
   "outputs": [],
   "source": [
    "y_pred = grid_search.best_estimator_.predict(x_test[fts])\n",
    "print(confusion_matrix(y_test,y_pred))\n",
    "print(classification_report(y_test,y_pred))\n",
    "print(\"SCORE:\",grid_search.best_estimator_.score(x_test[fts],y_test))"
   ]
  },
  {
   "cell_type": "code",
   "execution_count": null,
   "id": "6d38d017-b298-4ad5-b276-45f778a12e24",
   "metadata": {},
   "outputs": [],
   "source": []
  }
 ],
 "metadata": {
  "kernelspec": {
   "display_name": "Python 3 (ipykernel)",
   "language": "python",
   "name": "python3"
  },
  "language_info": {
   "codemirror_mode": {
    "name": "ipython",
    "version": 3
   },
   "file_extension": ".py",
   "mimetype": "text/x-python",
   "name": "python",
   "nbconvert_exporter": "python",
   "pygments_lexer": "ipython3",
   "version": "3.11.7"
  },
  "widgets": {
   "application/vnd.jupyter.widget-state+json": {
    "state": {},
    "version_major": 2,
    "version_minor": 0
   }
  }
 },
 "nbformat": 4,
 "nbformat_minor": 5
}
