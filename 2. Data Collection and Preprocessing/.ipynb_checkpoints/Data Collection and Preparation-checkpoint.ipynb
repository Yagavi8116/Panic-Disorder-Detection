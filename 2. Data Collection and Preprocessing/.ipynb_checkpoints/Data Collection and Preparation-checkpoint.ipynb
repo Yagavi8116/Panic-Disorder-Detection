{
 "cells": [
  {
   "cell_type": "code",
   "execution_count": null,
   "id": "771123d1-5b8a-4884-8a01-dbdfbce230d4",
   "metadata": {},
   "outputs": [],
   "source": [
    "import pandas as pd \n",
    "import numpy as np \n",
    "import matplotlib.pyplot as plt \n",
    "import seaborn as sns \n",
    "from sklearn.feature_selection import chi2\n",
    "from sklearn.ensemble import RandomForestClassifier, ExtraTreesClassifier \n",
    "from sklearn.neighbors import KNeighborsClassifier\n",
    "from sklearn.metrics import confusion_matrix, classification_report \n",
    "from sklearn.tree import DecisionTreeClassifier \n",
    "import xgboost\n",
    "import pickle as pkl\n",
    "from sklearn.model_selection import cross_val_score\n",
    "import warnings\n",
    "warnings.filterwarnings (\"ignore\")"
   ]
  },
  {
   "cell_type": "code",
   "execution_count": null,
   "id": "0d974c70-aea6-4280-92bb-98d01fb3d881",
   "metadata": {},
   "outputs": [],
   "source": [
    "train = pd.read_csv('panic_disorder_dataset_training.csv')\n",
    "train.head()"
   ]
  },
  {
   "cell_type": "code",
   "execution_count": null,
   "id": "35d33e49-6e05-4bb5-b69e-653b0a925eaa",
   "metadata": {},
   "outputs": [],
   "source": [
    "test = pd.read_csv('panic_disorder_dataset_testing.csv')\n",
    "test.head()"
   ]
  },
  {
   "cell_type": "code",
   "execution_count": null,
   "id": "48d2bcda-4386-4827-ac06-674b85d35a25",
   "metadata": {},
   "outputs": [],
   "source": [
    "print('Train data shape:', train.shape)\n",
    "print('Test data shape:', test.shape)"
   ]
  },
  {
   "cell_type": "code",
   "execution_count": null,
   "id": "5bf8ca1a-c625-4e50-8404-3f532cbb1cb2",
   "metadata": {},
   "outputs": [],
   "source": [
    "train.info()"
   ]
  },
  {
   "cell_type": "code",
   "execution_count": null,
   "id": "1918b4ae-ccdb-4560-b13c-4a823f01af89",
   "metadata": {},
   "outputs": [],
   "source": [
    "test.info()"
   ]
  },
  {
   "cell_type": "markdown",
   "id": "40799061-7a75-4d06-8c6e-c5347c065bec",
   "metadata": {},
   "source": [
    "# Check null values"
   ]
  },
  {
   "cell_type": "code",
   "execution_count": null,
   "id": "c5a9f777-c215-4645-aa76-8e3ada5aa5b5",
   "metadata": {},
   "outputs": [],
   "source": [
    "train.isnull().sum()"
   ]
  },
  {
   "cell_type": "code",
   "execution_count": null,
   "id": "bf1e0e5f-6c10-43f5-a577-e7a407d19e66",
   "metadata": {},
   "outputs": [],
   "source": [
    "test.isnull().sum()"
   ]
  },
  {
   "cell_type": "code",
   "execution_count": null,
   "id": "5095eb0e-04d6-435a-9be6-adb0a570c60f",
   "metadata": {},
   "outputs": [],
   "source": [
    "train.isnull().any()"
   ]
  },
  {
   "cell_type": "code",
   "execution_count": null,
   "id": "f88203a6-351e-4c52-90b1-403f4929dba8",
   "metadata": {},
   "outputs": [],
   "source": [
    "test.isnull().any()"
   ]
  },
  {
   "cell_type": "code",
   "execution_count": null,
   "id": "2549c54c-372e-461f-b027-217f7978b7f6",
   "metadata": {},
   "outputs": [],
   "source": [
    "train[\"Medical History\"].unique()"
   ]
  },
  {
   "cell_type": "code",
   "execution_count": null,
   "id": "9f3f204e-cb22-4d24-959c-3fbc88deb181",
   "metadata": {},
   "outputs": [],
   "source": [
    "train[\"Psychiatric History\"].unique()"
   ]
  },
  {
   "cell_type": "code",
   "execution_count": null,
   "id": "e4f56afe-a837-4f81-83e4-3aa5f8176f75",
   "metadata": {},
   "outputs": [],
   "source": [
    "train[\"Substance Use\"].unique()"
   ]
  },
  {
   "cell_type": "code",
   "execution_count": null,
   "id": "819187b7-3b2a-47d5-b160-6803123c2285",
   "metadata": {},
   "outputs": [],
   "source": [
    "test[\"Medical History\"].unique()"
   ]
  },
  {
   "cell_type": "code",
   "execution_count": null,
   "id": "0859daab-924b-4794-a31c-f62ad95ef68b",
   "metadata": {},
   "outputs": [],
   "source": [
    "test[\"Psychiatric History\"].unique()"
   ]
  },
  {
   "cell_type": "code",
   "execution_count": null,
   "id": "dd061552-cf8d-4def-871d-ca4653c489d3",
   "metadata": {},
   "outputs": [],
   "source": [
    "test[\"Substance Use\"].unique()"
   ]
  },
  {
   "cell_type": "markdown",
   "id": "e25bd605-356e-4a93-9789-f79569bcf87b",
   "metadata": {},
   "source": [
    "# Fill null values"
   ]
  },
  {
   "cell_type": "code",
   "execution_count": null,
   "id": "8f3683cc-7133-4b98-85d3-c154155a53a1",
   "metadata": {},
   "outputs": [],
   "source": [
    "train[\"Medical History\"].fillna(\"none\", inplace=True)\n",
    "train[\"Medical History\"].unique()"
   ]
  },
  {
   "cell_type": "code",
   "execution_count": null,
   "id": "3122ad51-d03a-4152-b115-b6fd62c274c4",
   "metadata": {},
   "outputs": [],
   "source": [
    "train[\"Psychiatric History\"].fillna(\"none\", inplace=True)\n",
    "train[\"Psychiatric History\"].unique()"
   ]
  },
  {
   "cell_type": "code",
   "execution_count": null,
   "id": "bbca9b77-e8ed-4f7f-942c-ef01723b3c26",
   "metadata": {},
   "outputs": [],
   "source": [
    "train[\"Substance Use\"].fillna(\"none\", inplace=True)\n",
    "train[\"Substance Use\"].unique()"
   ]
  },
  {
   "cell_type": "code",
   "execution_count": null,
   "id": "50ff0af1-87b1-4974-bc58-0d09cbdf5552",
   "metadata": {},
   "outputs": [],
   "source": [
    "test[\"Medical History\"].fillna(\"none\", inplace=True)\n",
    "test[\"Medical History\"].unique()"
   ]
  },
  {
   "cell_type": "code",
   "execution_count": null,
   "id": "ed83e340-f10a-4f08-b95a-87ed3b1069b1",
   "metadata": {},
   "outputs": [],
   "source": [
    "test[\"Psychiatric History\"].fillna(\"none\", inplace=True)\n",
    "test[\"Psychiatric History\"].unique()"
   ]
  },
  {
   "cell_type": "code",
   "execution_count": null,
   "id": "e1840c15-3785-4d0d-8b7b-a3a99fe056a4",
   "metadata": {},
   "outputs": [],
   "source": [
    "test[\"Substance Use\"].fillna(\"none\", inplace=True)\n",
    "test[\"Substance Use\"].unique()"
   ]
  },
  {
   "cell_type": "code",
   "execution_count": null,
   "id": "1d60711c-242f-4a3c-aaed-75afbc4a5eb3",
   "metadata": {},
   "outputs": [],
   "source": [
    "#categorical values\n",
    "cat_cols=[]\n",
    "for i in train.columns:\n",
    "    if train[i].dtype=='object':\n",
    "        cat_cols.append(i)\n",
    "cat_cols"
   ]
  },
  {
   "cell_type": "code",
   "execution_count": null,
   "id": "2e8b5559-1eb9-4d2e-97d1-398820a817b7",
   "metadata": {},
   "outputs": [],
   "source": [
    "#Label Encoding\n",
    "le={}\n",
    "for column in train.columns:\n",
    "    if train[column].dtype== object:\n",
    "        le[column]={}\n",
    "        c=0\n",
    "        \n",
    "        for i in train[column].unique():\n",
    "            le[column][i]=c\n",
    "            c+=1\n",
    "        train[column]=train[column].map(le[column])\n",
    "\n",
    "le={}\n",
    "for column in test.columns:\n",
    "    if test[column].dtype== object:\n",
    "        le[column]={}\n",
    "        c=0\n",
    "        \n",
    "        for i in test[column].unique():\n",
    "            le[column][i]=c\n",
    "            c+=1\n",
    "        test[column]=test[column].map(le[column])"
   ]
  },
  {
   "cell_type": "code",
   "execution_count": null,
   "id": "97d31cd4-0c92-4687-b6e5-525a2e687a89",
   "metadata": {},
   "outputs": [],
   "source": [
    "indices = np.random.choice(x_train[y_train['Panic Disorder Diagnosis']==0].index,\n",
    "                           size=x_train[y_train['Panic Disorder Diagnosis']==1].shape[0],\n",
    "                           replace=False)\n",
    "temp_x = x_train[y_train['Panic Disorder Diagnosis']==0].loc[indices]\n",
    "temp_x = temp_x.append(x_train[y_train['Panic Disorder Diagnosis']==1])\n",
    "temp_y = y_train[y_train['Panic Disorder Diagnosis']==0].loc[indices]\n",
    "temp_y = temp_y.append(y_train[y_train['Panic Disorder Diagnosis']==1])\n",
    "print(x_train.shape, y_train.shape)\n",
    "print(\"Before balancing\", Counter(y_train['Panic Disorder Diagnosis']))\n",
    "print(temp_x.shape, temp_y.shape)\n",
    "print(\"After balancing\", Counter(temp_y['Panic Disorder Diagnosis']))\n",
    "                           "
   ]
  },
  {
   "cell_type": "code",
   "execution_count": null,
   "id": "99b1b27b-8425-4d69-9e2e-9806c9d133e1",
   "metadata": {},
   "outputs": [],
   "source": []
  }
 ],
 "metadata": {
  "kernelspec": {
   "display_name": "Python 3 (ipykernel)",
   "language": "python",
   "name": "python3"
  },
  "language_info": {
   "codemirror_mode": {
    "name": "ipython",
    "version": 3
   },
   "file_extension": ".py",
   "mimetype": "text/x-python",
   "name": "python",
   "nbconvert_exporter": "python",
   "pygments_lexer": "ipython3",
   "version": "3.11.7"
  },
  "widgets": {
   "application/vnd.jupyter.widget-state+json": {
    "state": {},
    "version_major": 2,
    "version_minor": 0
   }
  }
 },
 "nbformat": 4,
 "nbformat_minor": 5
}
