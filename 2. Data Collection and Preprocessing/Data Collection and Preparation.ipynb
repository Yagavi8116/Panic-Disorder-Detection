{
 "cells": [
  {
   "cell_type": "markdown",
   "id": "85b57af2-2eb4-43e2-a11f-a7ee2b2ae98a",
   "metadata": {},
   "source": [
    "# Import libraries and Data"
   ]
  },
  {
   "cell_type": "code",
   "execution_count": 2,
   "id": "771123d1-5b8a-4884-8a01-dbdfbce230d4",
   "metadata": {},
   "outputs": [],
   "source": [
    "import pandas as pd \n",
    "import numpy as np \n",
    "import matplotlib.pyplot as plt \n",
    "import seaborn as sns \n",
    "from sklearn.feature_selection import chi2\n",
    "from sklearn.ensemble import RandomForestClassifier, ExtraTreesClassifier \n",
    "from sklearn.neighbors import KNeighborsClassifier\n",
    "from sklearn.metrics import confusion_matrix, classification_report \n",
    "from sklearn.tree import DecisionTreeClassifier \n",
    "import xgboost\n",
    "import pickle as pkl\n",
    "from sklearn.model_selection import cross_val_score\n",
    "import warnings\n",
    "warnings.filterwarnings (\"ignore\")"
   ]
  },
  {
   "cell_type": "code",
   "execution_count": 3,
   "id": "0d974c70-aea6-4280-92bb-98d01fb3d881",
   "metadata": {},
   "outputs": [
    {
     "data": {
      "text/html": [
       "<div>\n",
       "<style scoped>\n",
       "    .dataframe tbody tr th:only-of-type {\n",
       "        vertical-align: middle;\n",
       "    }\n",
       "\n",
       "    .dataframe tbody tr th {\n",
       "        vertical-align: top;\n",
       "    }\n",
       "\n",
       "    .dataframe thead th {\n",
       "        text-align: right;\n",
       "    }\n",
       "</style>\n",
       "<table border=\"1\" class=\"dataframe\">\n",
       "  <thead>\n",
       "    <tr style=\"text-align: right;\">\n",
       "      <th></th>\n",
       "      <th>Participant ID</th>\n",
       "      <th>Age</th>\n",
       "      <th>Gender</th>\n",
       "      <th>Family History</th>\n",
       "      <th>Personal History</th>\n",
       "      <th>Current Stressors</th>\n",
       "      <th>Symptoms</th>\n",
       "      <th>Severity</th>\n",
       "      <th>Impact on Life</th>\n",
       "      <th>Demographics</th>\n",
       "      <th>Medical History</th>\n",
       "      <th>Psychiatric History</th>\n",
       "      <th>Substance Use</th>\n",
       "      <th>Coping Mechanisms</th>\n",
       "      <th>Social Support</th>\n",
       "      <th>Lifestyle Factors</th>\n",
       "      <th>Panic Disorder Diagnosis</th>\n",
       "    </tr>\n",
       "  </thead>\n",
       "  <tbody>\n",
       "    <tr>\n",
       "      <th>0</th>\n",
       "      <td>1</td>\n",
       "      <td>38</td>\n",
       "      <td>Male</td>\n",
       "      <td>No</td>\n",
       "      <td>Yes</td>\n",
       "      <td>Moderate</td>\n",
       "      <td>Shortness of breath</td>\n",
       "      <td>Mild</td>\n",
       "      <td>Mild</td>\n",
       "      <td>Rural</td>\n",
       "      <td>Diabetes</td>\n",
       "      <td>Bipolar disorder</td>\n",
       "      <td>NaN</td>\n",
       "      <td>Socializing</td>\n",
       "      <td>High</td>\n",
       "      <td>Sleep quality</td>\n",
       "      <td>0</td>\n",
       "    </tr>\n",
       "    <tr>\n",
       "      <th>1</th>\n",
       "      <td>2</td>\n",
       "      <td>51</td>\n",
       "      <td>Male</td>\n",
       "      <td>No</td>\n",
       "      <td>No</td>\n",
       "      <td>High</td>\n",
       "      <td>Panic attacks</td>\n",
       "      <td>Mild</td>\n",
       "      <td>Mild</td>\n",
       "      <td>Urban</td>\n",
       "      <td>Asthma</td>\n",
       "      <td>Anxiety disorder</td>\n",
       "      <td>Drugs</td>\n",
       "      <td>Exercise</td>\n",
       "      <td>High</td>\n",
       "      <td>Sleep quality</td>\n",
       "      <td>0</td>\n",
       "    </tr>\n",
       "    <tr>\n",
       "      <th>2</th>\n",
       "      <td>3</td>\n",
       "      <td>32</td>\n",
       "      <td>Female</td>\n",
       "      <td>Yes</td>\n",
       "      <td>No</td>\n",
       "      <td>High</td>\n",
       "      <td>Panic attacks</td>\n",
       "      <td>Mild</td>\n",
       "      <td>Significant</td>\n",
       "      <td>Urban</td>\n",
       "      <td>Diabetes</td>\n",
       "      <td>Depressive disorder</td>\n",
       "      <td>NaN</td>\n",
       "      <td>Seeking therapy</td>\n",
       "      <td>Moderate</td>\n",
       "      <td>Exercise</td>\n",
       "      <td>0</td>\n",
       "    </tr>\n",
       "    <tr>\n",
       "      <th>3</th>\n",
       "      <td>4</td>\n",
       "      <td>64</td>\n",
       "      <td>Female</td>\n",
       "      <td>No</td>\n",
       "      <td>No</td>\n",
       "      <td>Moderate</td>\n",
       "      <td>Chest pain</td>\n",
       "      <td>Moderate</td>\n",
       "      <td>Moderate</td>\n",
       "      <td>Rural</td>\n",
       "      <td>Diabetes</td>\n",
       "      <td>NaN</td>\n",
       "      <td>NaN</td>\n",
       "      <td>Meditation</td>\n",
       "      <td>High</td>\n",
       "      <td>Exercise</td>\n",
       "      <td>0</td>\n",
       "    </tr>\n",
       "    <tr>\n",
       "      <th>4</th>\n",
       "      <td>5</td>\n",
       "      <td>31</td>\n",
       "      <td>Male</td>\n",
       "      <td>Yes</td>\n",
       "      <td>No</td>\n",
       "      <td>Moderate</td>\n",
       "      <td>Panic attacks</td>\n",
       "      <td>Mild</td>\n",
       "      <td>Moderate</td>\n",
       "      <td>Rural</td>\n",
       "      <td>Asthma</td>\n",
       "      <td>NaN</td>\n",
       "      <td>Drugs</td>\n",
       "      <td>Seeking therapy</td>\n",
       "      <td>Low</td>\n",
       "      <td>Sleep quality</td>\n",
       "      <td>0</td>\n",
       "    </tr>\n",
       "  </tbody>\n",
       "</table>\n",
       "</div>"
      ],
      "text/plain": [
       "   Participant ID  Age  Gender Family History Personal History  \\\n",
       "0               1   38    Male             No              Yes   \n",
       "1               2   51    Male             No               No   \n",
       "2               3   32  Female            Yes               No   \n",
       "3               4   64  Female             No               No   \n",
       "4               5   31    Male            Yes               No   \n",
       "\n",
       "  Current Stressors             Symptoms  Severity Impact on Life  \\\n",
       "0          Moderate  Shortness of breath      Mild           Mild   \n",
       "1              High        Panic attacks      Mild           Mild   \n",
       "2              High        Panic attacks      Mild    Significant   \n",
       "3          Moderate           Chest pain  Moderate       Moderate   \n",
       "4          Moderate        Panic attacks      Mild       Moderate   \n",
       "\n",
       "  Demographics Medical History  Psychiatric History Substance Use  \\\n",
       "0        Rural        Diabetes     Bipolar disorder           NaN   \n",
       "1        Urban          Asthma     Anxiety disorder         Drugs   \n",
       "2        Urban        Diabetes  Depressive disorder           NaN   \n",
       "3        Rural        Diabetes                  NaN           NaN   \n",
       "4        Rural          Asthma                  NaN         Drugs   \n",
       "\n",
       "  Coping Mechanisms Social Support Lifestyle Factors  Panic Disorder Diagnosis  \n",
       "0       Socializing           High     Sleep quality                         0  \n",
       "1          Exercise           High     Sleep quality                         0  \n",
       "2   Seeking therapy       Moderate          Exercise                         0  \n",
       "3        Meditation           High          Exercise                         0  \n",
       "4   Seeking therapy            Low     Sleep quality                         0  "
      ]
     },
     "execution_count": 3,
     "metadata": {},
     "output_type": "execute_result"
    }
   ],
   "source": [
    "train = pd.read_csv('panic_disorder_dataset_training.csv')\n",
    "train.head()"
   ]
  },
  {
   "cell_type": "code",
   "execution_count": 4,
   "id": "35d33e49-6e05-4bb5-b69e-653b0a925eaa",
   "metadata": {},
   "outputs": [
    {
     "data": {
      "text/html": [
       "<div>\n",
       "<style scoped>\n",
       "    .dataframe tbody tr th:only-of-type {\n",
       "        vertical-align: middle;\n",
       "    }\n",
       "\n",
       "    .dataframe tbody tr th {\n",
       "        vertical-align: top;\n",
       "    }\n",
       "\n",
       "    .dataframe thead th {\n",
       "        text-align: right;\n",
       "    }\n",
       "</style>\n",
       "<table border=\"1\" class=\"dataframe\">\n",
       "  <thead>\n",
       "    <tr style=\"text-align: right;\">\n",
       "      <th></th>\n",
       "      <th>Participant ID</th>\n",
       "      <th>Age</th>\n",
       "      <th>Gender</th>\n",
       "      <th>Family History</th>\n",
       "      <th>Personal History</th>\n",
       "      <th>Current Stressors</th>\n",
       "      <th>Symptoms</th>\n",
       "      <th>Severity</th>\n",
       "      <th>Impact on Life</th>\n",
       "      <th>Demographics</th>\n",
       "      <th>Medical History</th>\n",
       "      <th>Psychiatric History</th>\n",
       "      <th>Substance Use</th>\n",
       "      <th>Coping Mechanisms</th>\n",
       "      <th>Social Support</th>\n",
       "      <th>Lifestyle Factors</th>\n",
       "      <th>Panic Disorder Diagnosis</th>\n",
       "    </tr>\n",
       "  </thead>\n",
       "  <tbody>\n",
       "    <tr>\n",
       "      <th>0</th>\n",
       "      <td>1</td>\n",
       "      <td>41</td>\n",
       "      <td>Male</td>\n",
       "      <td>Yes</td>\n",
       "      <td>No</td>\n",
       "      <td>High</td>\n",
       "      <td>Shortness of breath</td>\n",
       "      <td>Mild</td>\n",
       "      <td>Mild</td>\n",
       "      <td>Urban</td>\n",
       "      <td>Diabetes</td>\n",
       "      <td>Bipolar disorder</td>\n",
       "      <td>Alcohol</td>\n",
       "      <td>Seeking therapy</td>\n",
       "      <td>Low</td>\n",
       "      <td>Exercise</td>\n",
       "      <td>0</td>\n",
       "    </tr>\n",
       "    <tr>\n",
       "      <th>1</th>\n",
       "      <td>2</td>\n",
       "      <td>20</td>\n",
       "      <td>Female</td>\n",
       "      <td>Yes</td>\n",
       "      <td>No</td>\n",
       "      <td>Low</td>\n",
       "      <td>Shortness of breath</td>\n",
       "      <td>Mild</td>\n",
       "      <td>Significant</td>\n",
       "      <td>Urban</td>\n",
       "      <td>Asthma</td>\n",
       "      <td>Anxiety disorder</td>\n",
       "      <td>Drugs</td>\n",
       "      <td>Exercise</td>\n",
       "      <td>High</td>\n",
       "      <td>Diet</td>\n",
       "      <td>0</td>\n",
       "    </tr>\n",
       "    <tr>\n",
       "      <th>2</th>\n",
       "      <td>3</td>\n",
       "      <td>32</td>\n",
       "      <td>Male</td>\n",
       "      <td>Yes</td>\n",
       "      <td>Yes</td>\n",
       "      <td>High</td>\n",
       "      <td>Panic attacks</td>\n",
       "      <td>Severe</td>\n",
       "      <td>Mild</td>\n",
       "      <td>Rural</td>\n",
       "      <td>Heart disease</td>\n",
       "      <td>Bipolar disorder</td>\n",
       "      <td>Drugs</td>\n",
       "      <td>Meditation</td>\n",
       "      <td>Moderate</td>\n",
       "      <td>Exercise</td>\n",
       "      <td>0</td>\n",
       "    </tr>\n",
       "    <tr>\n",
       "      <th>3</th>\n",
       "      <td>4</td>\n",
       "      <td>41</td>\n",
       "      <td>Female</td>\n",
       "      <td>Yes</td>\n",
       "      <td>Yes</td>\n",
       "      <td>Moderate</td>\n",
       "      <td>Shortness of breath</td>\n",
       "      <td>Moderate</td>\n",
       "      <td>Significant</td>\n",
       "      <td>Urban</td>\n",
       "      <td>Heart disease</td>\n",
       "      <td>Anxiety disorder</td>\n",
       "      <td>NaN</td>\n",
       "      <td>Exercise</td>\n",
       "      <td>High</td>\n",
       "      <td>Sleep quality</td>\n",
       "      <td>0</td>\n",
       "    </tr>\n",
       "    <tr>\n",
       "      <th>4</th>\n",
       "      <td>5</td>\n",
       "      <td>36</td>\n",
       "      <td>Female</td>\n",
       "      <td>Yes</td>\n",
       "      <td>No</td>\n",
       "      <td>High</td>\n",
       "      <td>Chest pain</td>\n",
       "      <td>Severe</td>\n",
       "      <td>Significant</td>\n",
       "      <td>Rural</td>\n",
       "      <td>Asthma</td>\n",
       "      <td>Depressive disorder</td>\n",
       "      <td>NaN</td>\n",
       "      <td>Seeking therapy</td>\n",
       "      <td>Low</td>\n",
       "      <td>Exercise</td>\n",
       "      <td>0</td>\n",
       "    </tr>\n",
       "  </tbody>\n",
       "</table>\n",
       "</div>"
      ],
      "text/plain": [
       "   Participant ID  Age  Gender Family History Personal History  \\\n",
       "0               1   41    Male            Yes               No   \n",
       "1               2   20  Female            Yes               No   \n",
       "2               3   32    Male            Yes              Yes   \n",
       "3               4   41  Female            Yes              Yes   \n",
       "4               5   36  Female            Yes               No   \n",
       "\n",
       "  Current Stressors             Symptoms  Severity Impact on Life  \\\n",
       "0              High  Shortness of breath      Mild           Mild   \n",
       "1               Low  Shortness of breath      Mild    Significant   \n",
       "2              High        Panic attacks    Severe           Mild   \n",
       "3          Moderate  Shortness of breath  Moderate    Significant   \n",
       "4              High           Chest pain    Severe    Significant   \n",
       "\n",
       "  Demographics Medical History  Psychiatric History Substance Use  \\\n",
       "0        Urban        Diabetes     Bipolar disorder       Alcohol   \n",
       "1        Urban          Asthma     Anxiety disorder         Drugs   \n",
       "2        Rural   Heart disease     Bipolar disorder         Drugs   \n",
       "3        Urban   Heart disease     Anxiety disorder           NaN   \n",
       "4        Rural          Asthma  Depressive disorder           NaN   \n",
       "\n",
       "  Coping Mechanisms Social Support Lifestyle Factors  Panic Disorder Diagnosis  \n",
       "0   Seeking therapy            Low          Exercise                         0  \n",
       "1          Exercise           High              Diet                         0  \n",
       "2        Meditation       Moderate          Exercise                         0  \n",
       "3          Exercise           High     Sleep quality                         0  \n",
       "4   Seeking therapy            Low          Exercise                         0  "
      ]
     },
     "execution_count": 4,
     "metadata": {},
     "output_type": "execute_result"
    }
   ],
   "source": [
    "test = pd.read_csv('panic_disorder_dataset_testing.csv')\n",
    "test.head()"
   ]
  },
  {
   "cell_type": "code",
   "execution_count": 5,
   "id": "48d2bcda-4386-4827-ac06-674b85d35a25",
   "metadata": {},
   "outputs": [
    {
     "name": "stdout",
     "output_type": "stream",
     "text": [
      "Train data shape: (100000, 17)\n",
      "Test data shape: (20000, 17)\n"
     ]
    }
   ],
   "source": [
    "print('Train data shape:', train.shape)\n",
    "print('Test data shape:', test.shape)"
   ]
  },
  {
   "cell_type": "code",
   "execution_count": 6,
   "id": "5bf8ca1a-c625-4e50-8404-3f532cbb1cb2",
   "metadata": {},
   "outputs": [
    {
     "name": "stdout",
     "output_type": "stream",
     "text": [
      "<class 'pandas.core.frame.DataFrame'>\n",
      "RangeIndex: 100000 entries, 0 to 99999\n",
      "Data columns (total 17 columns):\n",
      " #   Column                    Non-Null Count   Dtype \n",
      "---  ------                    --------------   ----- \n",
      " 0   Participant ID            100000 non-null  int64 \n",
      " 1   Age                       100000 non-null  int64 \n",
      " 2   Gender                    100000 non-null  object\n",
      " 3   Family History            100000 non-null  object\n",
      " 4   Personal History          100000 non-null  object\n",
      " 5   Current Stressors         100000 non-null  object\n",
      " 6   Symptoms                  100000 non-null  object\n",
      " 7   Severity                  100000 non-null  object\n",
      " 8   Impact on Life            100000 non-null  object\n",
      " 9   Demographics              100000 non-null  object\n",
      " 10  Medical History           74827 non-null   object\n",
      " 11  Psychiatric History       75079 non-null   object\n",
      " 12  Substance Use             66626 non-null   object\n",
      " 13  Coping Mechanisms         100000 non-null  object\n",
      " 14  Social Support            100000 non-null  object\n",
      " 15  Lifestyle Factors         100000 non-null  object\n",
      " 16  Panic Disorder Diagnosis  100000 non-null  int64 \n",
      "dtypes: int64(3), object(14)\n",
      "memory usage: 13.0+ MB\n"
     ]
    }
   ],
   "source": [
    "train.info()"
   ]
  },
  {
   "cell_type": "code",
   "execution_count": 7,
   "id": "1918b4ae-ccdb-4560-b13c-4a823f01af89",
   "metadata": {},
   "outputs": [
    {
     "name": "stdout",
     "output_type": "stream",
     "text": [
      "<class 'pandas.core.frame.DataFrame'>\n",
      "RangeIndex: 20000 entries, 0 to 19999\n",
      "Data columns (total 17 columns):\n",
      " #   Column                    Non-Null Count  Dtype \n",
      "---  ------                    --------------  ----- \n",
      " 0   Participant ID            20000 non-null  int64 \n",
      " 1   Age                       20000 non-null  int64 \n",
      " 2   Gender                    20000 non-null  object\n",
      " 3   Family History            20000 non-null  object\n",
      " 4   Personal History          20000 non-null  object\n",
      " 5   Current Stressors         20000 non-null  object\n",
      " 6   Symptoms                  20000 non-null  object\n",
      " 7   Severity                  20000 non-null  object\n",
      " 8   Impact on Life            20000 non-null  object\n",
      " 9   Demographics              20000 non-null  object\n",
      " 10  Medical History           14999 non-null  object\n",
      " 11  Psychiatric History       15011 non-null  object\n",
      " 12  Substance Use             13383 non-null  object\n",
      " 13  Coping Mechanisms         20000 non-null  object\n",
      " 14  Social Support            20000 non-null  object\n",
      " 15  Lifestyle Factors         20000 non-null  object\n",
      " 16  Panic Disorder Diagnosis  20000 non-null  int64 \n",
      "dtypes: int64(3), object(14)\n",
      "memory usage: 2.6+ MB\n"
     ]
    }
   ],
   "source": [
    "test.info()"
   ]
  },
  {
   "cell_type": "markdown",
   "id": "40799061-7a75-4d06-8c6e-c5347c065bec",
   "metadata": {},
   "source": [
    "# Check null values"
   ]
  },
  {
   "cell_type": "code",
   "execution_count": 9,
   "id": "c5a9f777-c215-4645-aa76-8e3ada5aa5b5",
   "metadata": {},
   "outputs": [
    {
     "data": {
      "text/plain": [
       "Participant ID                  0\n",
       "Age                             0\n",
       "Gender                          0\n",
       "Family History                  0\n",
       "Personal History                0\n",
       "Current Stressors               0\n",
       "Symptoms                        0\n",
       "Severity                        0\n",
       "Impact on Life                  0\n",
       "Demographics                    0\n",
       "Medical History             25173\n",
       "Psychiatric History         24921\n",
       "Substance Use               33374\n",
       "Coping Mechanisms               0\n",
       "Social Support                  0\n",
       "Lifestyle Factors               0\n",
       "Panic Disorder Diagnosis        0\n",
       "dtype: int64"
      ]
     },
     "execution_count": 9,
     "metadata": {},
     "output_type": "execute_result"
    }
   ],
   "source": [
    "train.isnull().sum()"
   ]
  },
  {
   "cell_type": "code",
   "execution_count": 10,
   "id": "bf1e0e5f-6c10-43f5-a577-e7a407d19e66",
   "metadata": {},
   "outputs": [
    {
     "data": {
      "text/plain": [
       "Participant ID                 0\n",
       "Age                            0\n",
       "Gender                         0\n",
       "Family History                 0\n",
       "Personal History               0\n",
       "Current Stressors              0\n",
       "Symptoms                       0\n",
       "Severity                       0\n",
       "Impact on Life                 0\n",
       "Demographics                   0\n",
       "Medical History             5001\n",
       "Psychiatric History         4989\n",
       "Substance Use               6617\n",
       "Coping Mechanisms              0\n",
       "Social Support                 0\n",
       "Lifestyle Factors              0\n",
       "Panic Disorder Diagnosis       0\n",
       "dtype: int64"
      ]
     },
     "execution_count": 10,
     "metadata": {},
     "output_type": "execute_result"
    }
   ],
   "source": [
    "test.isnull().sum()"
   ]
  },
  {
   "cell_type": "code",
   "execution_count": 11,
   "id": "5095eb0e-04d6-435a-9be6-adb0a570c60f",
   "metadata": {},
   "outputs": [
    {
     "data": {
      "text/plain": [
       "Participant ID              False\n",
       "Age                         False\n",
       "Gender                      False\n",
       "Family History              False\n",
       "Personal History            False\n",
       "Current Stressors           False\n",
       "Symptoms                    False\n",
       "Severity                    False\n",
       "Impact on Life              False\n",
       "Demographics                False\n",
       "Medical History              True\n",
       "Psychiatric History          True\n",
       "Substance Use                True\n",
       "Coping Mechanisms           False\n",
       "Social Support              False\n",
       "Lifestyle Factors           False\n",
       "Panic Disorder Diagnosis    False\n",
       "dtype: bool"
      ]
     },
     "execution_count": 11,
     "metadata": {},
     "output_type": "execute_result"
    }
   ],
   "source": [
    "train.isnull().any()"
   ]
  },
  {
   "cell_type": "code",
   "execution_count": 12,
   "id": "f88203a6-351e-4c52-90b1-403f4929dba8",
   "metadata": {},
   "outputs": [
    {
     "data": {
      "text/plain": [
       "Participant ID              False\n",
       "Age                         False\n",
       "Gender                      False\n",
       "Family History              False\n",
       "Personal History            False\n",
       "Current Stressors           False\n",
       "Symptoms                    False\n",
       "Severity                    False\n",
       "Impact on Life              False\n",
       "Demographics                False\n",
       "Medical History              True\n",
       "Psychiatric History          True\n",
       "Substance Use                True\n",
       "Coping Mechanisms           False\n",
       "Social Support              False\n",
       "Lifestyle Factors           False\n",
       "Panic Disorder Diagnosis    False\n",
       "dtype: bool"
      ]
     },
     "execution_count": 12,
     "metadata": {},
     "output_type": "execute_result"
    }
   ],
   "source": [
    "test.isnull().any()"
   ]
  },
  {
   "cell_type": "code",
   "execution_count": 13,
   "id": "2549c54c-372e-461f-b027-217f7978b7f6",
   "metadata": {},
   "outputs": [
    {
     "data": {
      "text/plain": [
       "array(['Diabetes', 'Asthma', nan, 'Heart disease'], dtype=object)"
      ]
     },
     "execution_count": 13,
     "metadata": {},
     "output_type": "execute_result"
    }
   ],
   "source": [
    "train[\"Medical History\"].unique()"
   ]
  },
  {
   "cell_type": "code",
   "execution_count": 14,
   "id": "9f3f204e-cb22-4d24-959c-3fbc88deb181",
   "metadata": {},
   "outputs": [
    {
     "data": {
      "text/plain": [
       "array(['Bipolar disorder', 'Anxiety disorder', 'Depressive disorder', nan],\n",
       "      dtype=object)"
      ]
     },
     "execution_count": 14,
     "metadata": {},
     "output_type": "execute_result"
    }
   ],
   "source": [
    "train[\"Psychiatric History\"].unique()"
   ]
  },
  {
   "cell_type": "code",
   "execution_count": 15,
   "id": "e4f56afe-a837-4f81-83e4-3aa5f8176f75",
   "metadata": {},
   "outputs": [
    {
     "data": {
      "text/plain": [
       "array([nan, 'Drugs', 'Alcohol'], dtype=object)"
      ]
     },
     "execution_count": 15,
     "metadata": {},
     "output_type": "execute_result"
    }
   ],
   "source": [
    "train[\"Substance Use\"].unique()"
   ]
  },
  {
   "cell_type": "code",
   "execution_count": 16,
   "id": "819187b7-3b2a-47d5-b160-6803123c2285",
   "metadata": {},
   "outputs": [
    {
     "data": {
      "text/plain": [
       "array(['Diabetes', 'Asthma', 'Heart disease', nan], dtype=object)"
      ]
     },
     "execution_count": 16,
     "metadata": {},
     "output_type": "execute_result"
    }
   ],
   "source": [
    "test[\"Medical History\"].unique()"
   ]
  },
  {
   "cell_type": "code",
   "execution_count": 17,
   "id": "0859daab-924b-4794-a31c-f62ad95ef68b",
   "metadata": {},
   "outputs": [
    {
     "data": {
      "text/plain": [
       "array(['Bipolar disorder', 'Anxiety disorder', 'Depressive disorder', nan],\n",
       "      dtype=object)"
      ]
     },
     "execution_count": 17,
     "metadata": {},
     "output_type": "execute_result"
    }
   ],
   "source": [
    "test[\"Psychiatric History\"].unique()"
   ]
  },
  {
   "cell_type": "code",
   "execution_count": 18,
   "id": "dd061552-cf8d-4def-871d-ca4653c489d3",
   "metadata": {},
   "outputs": [
    {
     "data": {
      "text/plain": [
       "array(['Alcohol', 'Drugs', nan], dtype=object)"
      ]
     },
     "execution_count": 18,
     "metadata": {},
     "output_type": "execute_result"
    }
   ],
   "source": [
    "test[\"Substance Use\"].unique()"
   ]
  },
  {
   "cell_type": "markdown",
   "id": "e25bd605-356e-4a93-9789-f79569bcf87b",
   "metadata": {},
   "source": [
    "# Fill null values"
   ]
  },
  {
   "cell_type": "code",
   "execution_count": 20,
   "id": "8f3683cc-7133-4b98-85d3-c154155a53a1",
   "metadata": {},
   "outputs": [
    {
     "data": {
      "text/plain": [
       "array(['Diabetes', 'Asthma', 'none', 'Heart disease'], dtype=object)"
      ]
     },
     "execution_count": 20,
     "metadata": {},
     "output_type": "execute_result"
    }
   ],
   "source": [
    "train[\"Medical History\"].fillna(\"none\", inplace=True)\n",
    "train[\"Medical History\"].unique()"
   ]
  },
  {
   "cell_type": "code",
   "execution_count": 21,
   "id": "3122ad51-d03a-4152-b115-b6fd62c274c4",
   "metadata": {},
   "outputs": [
    {
     "data": {
      "text/plain": [
       "array(['Bipolar disorder', 'Anxiety disorder', 'Depressive disorder',\n",
       "       'none'], dtype=object)"
      ]
     },
     "execution_count": 21,
     "metadata": {},
     "output_type": "execute_result"
    }
   ],
   "source": [
    "train[\"Psychiatric History\"].fillna(\"none\", inplace=True)\n",
    "train[\"Psychiatric History\"].unique()"
   ]
  },
  {
   "cell_type": "code",
   "execution_count": 22,
   "id": "bbca9b77-e8ed-4f7f-942c-ef01723b3c26",
   "metadata": {},
   "outputs": [
    {
     "data": {
      "text/plain": [
       "array(['none', 'Drugs', 'Alcohol'], dtype=object)"
      ]
     },
     "execution_count": 22,
     "metadata": {},
     "output_type": "execute_result"
    }
   ],
   "source": [
    "train[\"Substance Use\"].fillna(\"none\", inplace=True)\n",
    "train[\"Substance Use\"].unique()"
   ]
  },
  {
   "cell_type": "code",
   "execution_count": 23,
   "id": "50ff0af1-87b1-4974-bc58-0d09cbdf5552",
   "metadata": {},
   "outputs": [
    {
     "data": {
      "text/plain": [
       "array(['Diabetes', 'Asthma', 'Heart disease', 'none'], dtype=object)"
      ]
     },
     "execution_count": 23,
     "metadata": {},
     "output_type": "execute_result"
    }
   ],
   "source": [
    "test[\"Medical History\"].fillna(\"none\", inplace=True)\n",
    "test[\"Medical History\"].unique()"
   ]
  },
  {
   "cell_type": "code",
   "execution_count": 24,
   "id": "ed83e340-f10a-4f08-b95a-87ed3b1069b1",
   "metadata": {},
   "outputs": [
    {
     "data": {
      "text/plain": [
       "array(['Bipolar disorder', 'Anxiety disorder', 'Depressive disorder',\n",
       "       'none'], dtype=object)"
      ]
     },
     "execution_count": 24,
     "metadata": {},
     "output_type": "execute_result"
    }
   ],
   "source": [
    "test[\"Psychiatric History\"].fillna(\"none\", inplace=True)\n",
    "test[\"Psychiatric History\"].unique()"
   ]
  },
  {
   "cell_type": "code",
   "execution_count": 25,
   "id": "e1840c15-3785-4d0d-8b7b-a3a99fe056a4",
   "metadata": {},
   "outputs": [
    {
     "data": {
      "text/plain": [
       "array(['Alcohol', 'Drugs', 'none'], dtype=object)"
      ]
     },
     "execution_count": 25,
     "metadata": {},
     "output_type": "execute_result"
    }
   ],
   "source": [
    "test[\"Substance Use\"].fillna(\"none\", inplace=True)\n",
    "test[\"Substance Use\"].unique()"
   ]
  },
  {
   "cell_type": "markdown",
   "id": "87c9cf58-0722-4cb6-9b15-af01fa291fb3",
   "metadata": {},
   "source": [
    "# Check null values again"
   ]
  },
  {
   "cell_type": "code",
   "execution_count": 27,
   "id": "dc4817b6-d73a-49ce-9b51-4c3764fc4265",
   "metadata": {},
   "outputs": [
    {
     "data": {
      "text/plain": [
       "Participant ID              False\n",
       "Age                         False\n",
       "Gender                      False\n",
       "Family History              False\n",
       "Personal History            False\n",
       "Current Stressors           False\n",
       "Symptoms                    False\n",
       "Severity                    False\n",
       "Impact on Life              False\n",
       "Demographics                False\n",
       "Medical History             False\n",
       "Psychiatric History         False\n",
       "Substance Use               False\n",
       "Coping Mechanisms           False\n",
       "Social Support              False\n",
       "Lifestyle Factors           False\n",
       "Panic Disorder Diagnosis    False\n",
       "dtype: bool"
      ]
     },
     "execution_count": 27,
     "metadata": {},
     "output_type": "execute_result"
    }
   ],
   "source": [
    "train.isnull().any()"
   ]
  },
  {
   "cell_type": "code",
   "execution_count": 28,
   "id": "bcc87688-e995-42ad-83c9-7d20b14cf5c8",
   "metadata": {},
   "outputs": [
    {
     "data": {
      "text/plain": [
       "Participant ID              False\n",
       "Age                         False\n",
       "Gender                      False\n",
       "Family History              False\n",
       "Personal History            False\n",
       "Current Stressors           False\n",
       "Symptoms                    False\n",
       "Severity                    False\n",
       "Impact on Life              False\n",
       "Demographics                False\n",
       "Medical History             False\n",
       "Psychiatric History         False\n",
       "Substance Use               False\n",
       "Coping Mechanisms           False\n",
       "Social Support              False\n",
       "Lifestyle Factors           False\n",
       "Panic Disorder Diagnosis    False\n",
       "dtype: bool"
      ]
     },
     "execution_count": 28,
     "metadata": {},
     "output_type": "execute_result"
    }
   ],
   "source": [
    "test.isnull().any()"
   ]
  },
  {
   "cell_type": "markdown",
   "id": "19a28150-7788-46a7-8d82-b9a7ad4920f5",
   "metadata": {},
   "source": [
    "# Label Encoding"
   ]
  },
  {
   "cell_type": "code",
   "execution_count": 30,
   "id": "1d60711c-242f-4a3c-aaed-75afbc4a5eb3",
   "metadata": {},
   "outputs": [
    {
     "data": {
      "text/plain": [
       "['Gender',\n",
       " 'Family History',\n",
       " 'Personal History',\n",
       " 'Current Stressors',\n",
       " 'Symptoms',\n",
       " 'Severity',\n",
       " 'Impact on Life',\n",
       " 'Demographics',\n",
       " 'Medical History',\n",
       " 'Psychiatric History',\n",
       " 'Substance Use',\n",
       " 'Coping Mechanisms',\n",
       " 'Social Support',\n",
       " 'Lifestyle Factors']"
      ]
     },
     "execution_count": 30,
     "metadata": {},
     "output_type": "execute_result"
    }
   ],
   "source": [
    "#categorical values\n",
    "cat_cols=[]\n",
    "for i in train.columns:\n",
    "    if train[i].dtype=='object':\n",
    "        cat_cols.append(i)\n",
    "cat_cols"
   ]
  },
  {
   "cell_type": "code",
   "execution_count": 31,
   "id": "2e8b5559-1eb9-4d2e-97d1-398820a817b7",
   "metadata": {},
   "outputs": [],
   "source": [
    "#Label Encoding\n",
    "le={}\n",
    "for column in train.columns:\n",
    "    if train[column].dtype== object:\n",
    "        le[column]={}\n",
    "        c=0\n",
    "        \n",
    "        for i in train[column].unique():\n",
    "            le[column][i]=c\n",
    "            c+=1\n",
    "        train[column]=train[column].map(le[column])\n",
    "\n",
    "le={}\n",
    "for column in test.columns:\n",
    "    if test[column].dtype== object:\n",
    "        le[column]={}\n",
    "        c=0\n",
    "        \n",
    "        for i in test[column].unique():\n",
    "            le[column][i]=c\n",
    "            c+=1\n",
    "        test[column]=test[column].map(le[column])"
   ]
  },
  {
   "cell_type": "markdown",
   "id": "6084e224-367a-499d-bd82-64160f0c96cf",
   "metadata": {},
   "source": [
    "# SMOTE on Panic Disorder Diagnosis|"
   ]
  },
  {
   "cell_type": "code",
   "execution_count": 33,
   "id": "c7973ee4-1aab-4987-9ea7-e536435533fd",
   "metadata": {},
   "outputs": [
    {
     "data": {
      "text/plain": [
       "Panic Disorder Diagnosis\n",
       "0    95715\n",
       "1     4285\n",
       "Name: count, dtype: int64"
      ]
     },
     "execution_count": 33,
     "metadata": {},
     "output_type": "execute_result"
    }
   ],
   "source": [
    "train[\"Panic Disorder Diagnosis\"].value_counts()"
   ]
  },
  {
   "cell_type": "code",
   "execution_count": 34,
   "id": "f51d8769-28b8-418c-9de0-873ba52fde8f",
   "metadata": {},
   "outputs": [],
   "source": [
    "from imblearn.over_sampling import SMOTE\n",
    "smote=SMOTE()"
   ]
  },
  {
   "cell_type": "code",
   "execution_count": 35,
   "id": "04480126-7212-4786-81bc-21b1fc47def2",
   "metadata": {},
   "outputs": [],
   "source": [
    "y = train[\"Panic Disorder Diagnosis\"]\n",
    "x = train.drop(columns=['Participant ID','Panic Disorder Diagnosis'],axis=1)"
   ]
  },
  {
   "cell_type": "code",
   "execution_count": 36,
   "id": "aafd4c83-c081-4087-a9f6-592c62eb425f",
   "metadata": {},
   "outputs": [],
   "source": [
    "x_res,y_res = smote.fit_resample(x,y)"
   ]
  },
  {
   "cell_type": "code",
   "execution_count": 37,
   "id": "2bf0fb43-dc4d-43f8-8418-e6985561e49d",
   "metadata": {},
   "outputs": [
    {
     "name": "stdout",
     "output_type": "stream",
     "text": [
      "Panic Disorder Diagnosis\n",
      "0    95715\n",
      "1     4285\n",
      "Name: count, dtype: int64\n",
      "Panic Disorder Diagnosis\n",
      "0    95715\n",
      "1    95715\n",
      "Name: count, dtype: int64\n"
     ]
    }
   ],
   "source": [
    "print(y.value_counts())\n",
    "print(y_res.value_counts())"
   ]
  },
  {
   "cell_type": "code",
   "execution_count": 38,
   "id": "244d2b31-ec4c-495c-a9e8-acfdc628da2a",
   "metadata": {},
   "outputs": [
    {
     "data": {
      "text/html": [
       "<div>\n",
       "<style scoped>\n",
       "    .dataframe tbody tr th:only-of-type {\n",
       "        vertical-align: middle;\n",
       "    }\n",
       "\n",
       "    .dataframe tbody tr th {\n",
       "        vertical-align: top;\n",
       "    }\n",
       "\n",
       "    .dataframe thead th {\n",
       "        text-align: right;\n",
       "    }\n",
       "</style>\n",
       "<table border=\"1\" class=\"dataframe\">\n",
       "  <thead>\n",
       "    <tr style=\"text-align: right;\">\n",
       "      <th></th>\n",
       "      <th>Age</th>\n",
       "      <th>Gender</th>\n",
       "      <th>Family History</th>\n",
       "      <th>Personal History</th>\n",
       "      <th>Current Stressors</th>\n",
       "      <th>Symptoms</th>\n",
       "      <th>Severity</th>\n",
       "      <th>Impact on Life</th>\n",
       "      <th>Demographics</th>\n",
       "      <th>Medical History</th>\n",
       "      <th>Psychiatric History</th>\n",
       "      <th>Substance Use</th>\n",
       "      <th>Coping Mechanisms</th>\n",
       "      <th>Social Support</th>\n",
       "      <th>Lifestyle Factors</th>\n",
       "    </tr>\n",
       "  </thead>\n",
       "  <tbody>\n",
       "    <tr>\n",
       "      <th>0</th>\n",
       "      <td>38</td>\n",
       "      <td>0</td>\n",
       "      <td>0</td>\n",
       "      <td>0</td>\n",
       "      <td>0</td>\n",
       "      <td>0</td>\n",
       "      <td>0</td>\n",
       "      <td>0</td>\n",
       "      <td>0</td>\n",
       "      <td>0</td>\n",
       "      <td>0</td>\n",
       "      <td>0</td>\n",
       "      <td>0</td>\n",
       "      <td>0</td>\n",
       "      <td>0</td>\n",
       "    </tr>\n",
       "    <tr>\n",
       "      <th>1</th>\n",
       "      <td>51</td>\n",
       "      <td>0</td>\n",
       "      <td>0</td>\n",
       "      <td>1</td>\n",
       "      <td>1</td>\n",
       "      <td>1</td>\n",
       "      <td>0</td>\n",
       "      <td>0</td>\n",
       "      <td>1</td>\n",
       "      <td>1</td>\n",
       "      <td>1</td>\n",
       "      <td>1</td>\n",
       "      <td>1</td>\n",
       "      <td>0</td>\n",
       "      <td>0</td>\n",
       "    </tr>\n",
       "    <tr>\n",
       "      <th>2</th>\n",
       "      <td>32</td>\n",
       "      <td>1</td>\n",
       "      <td>1</td>\n",
       "      <td>1</td>\n",
       "      <td>1</td>\n",
       "      <td>1</td>\n",
       "      <td>0</td>\n",
       "      <td>1</td>\n",
       "      <td>1</td>\n",
       "      <td>0</td>\n",
       "      <td>2</td>\n",
       "      <td>0</td>\n",
       "      <td>2</td>\n",
       "      <td>1</td>\n",
       "      <td>1</td>\n",
       "    </tr>\n",
       "    <tr>\n",
       "      <th>3</th>\n",
       "      <td>64</td>\n",
       "      <td>1</td>\n",
       "      <td>0</td>\n",
       "      <td>1</td>\n",
       "      <td>0</td>\n",
       "      <td>2</td>\n",
       "      <td>1</td>\n",
       "      <td>2</td>\n",
       "      <td>0</td>\n",
       "      <td>0</td>\n",
       "      <td>3</td>\n",
       "      <td>0</td>\n",
       "      <td>3</td>\n",
       "      <td>0</td>\n",
       "      <td>1</td>\n",
       "    </tr>\n",
       "    <tr>\n",
       "      <th>4</th>\n",
       "      <td>31</td>\n",
       "      <td>0</td>\n",
       "      <td>1</td>\n",
       "      <td>1</td>\n",
       "      <td>0</td>\n",
       "      <td>1</td>\n",
       "      <td>0</td>\n",
       "      <td>2</td>\n",
       "      <td>0</td>\n",
       "      <td>1</td>\n",
       "      <td>3</td>\n",
       "      <td>1</td>\n",
       "      <td>2</td>\n",
       "      <td>2</td>\n",
       "      <td>0</td>\n",
       "    </tr>\n",
       "    <tr>\n",
       "      <th>...</th>\n",
       "      <td>...</td>\n",
       "      <td>...</td>\n",
       "      <td>...</td>\n",
       "      <td>...</td>\n",
       "      <td>...</td>\n",
       "      <td>...</td>\n",
       "      <td>...</td>\n",
       "      <td>...</td>\n",
       "      <td>...</td>\n",
       "      <td>...</td>\n",
       "      <td>...</td>\n",
       "      <td>...</td>\n",
       "      <td>...</td>\n",
       "      <td>...</td>\n",
       "      <td>...</td>\n",
       "    </tr>\n",
       "    <tr>\n",
       "      <th>191425</th>\n",
       "      <td>52</td>\n",
       "      <td>0</td>\n",
       "      <td>1</td>\n",
       "      <td>0</td>\n",
       "      <td>1</td>\n",
       "      <td>2</td>\n",
       "      <td>2</td>\n",
       "      <td>1</td>\n",
       "      <td>0</td>\n",
       "      <td>2</td>\n",
       "      <td>1</td>\n",
       "      <td>1</td>\n",
       "      <td>2</td>\n",
       "      <td>0</td>\n",
       "      <td>0</td>\n",
       "    </tr>\n",
       "    <tr>\n",
       "      <th>191426</th>\n",
       "      <td>34</td>\n",
       "      <td>0</td>\n",
       "      <td>1</td>\n",
       "      <td>0</td>\n",
       "      <td>0</td>\n",
       "      <td>1</td>\n",
       "      <td>1</td>\n",
       "      <td>1</td>\n",
       "      <td>0</td>\n",
       "      <td>0</td>\n",
       "      <td>2</td>\n",
       "      <td>1</td>\n",
       "      <td>0</td>\n",
       "      <td>0</td>\n",
       "      <td>0</td>\n",
       "    </tr>\n",
       "    <tr>\n",
       "      <th>191427</th>\n",
       "      <td>54</td>\n",
       "      <td>1</td>\n",
       "      <td>0</td>\n",
       "      <td>0</td>\n",
       "      <td>1</td>\n",
       "      <td>1</td>\n",
       "      <td>2</td>\n",
       "      <td>2</td>\n",
       "      <td>0</td>\n",
       "      <td>2</td>\n",
       "      <td>2</td>\n",
       "      <td>2</td>\n",
       "      <td>0</td>\n",
       "      <td>0</td>\n",
       "      <td>0</td>\n",
       "    </tr>\n",
       "    <tr>\n",
       "      <th>191428</th>\n",
       "      <td>47</td>\n",
       "      <td>0</td>\n",
       "      <td>0</td>\n",
       "      <td>0</td>\n",
       "      <td>1</td>\n",
       "      <td>1</td>\n",
       "      <td>2</td>\n",
       "      <td>0</td>\n",
       "      <td>0</td>\n",
       "      <td>3</td>\n",
       "      <td>0</td>\n",
       "      <td>2</td>\n",
       "      <td>1</td>\n",
       "      <td>2</td>\n",
       "      <td>0</td>\n",
       "    </tr>\n",
       "    <tr>\n",
       "      <th>191429</th>\n",
       "      <td>24</td>\n",
       "      <td>1</td>\n",
       "      <td>1</td>\n",
       "      <td>1</td>\n",
       "      <td>1</td>\n",
       "      <td>0</td>\n",
       "      <td>2</td>\n",
       "      <td>0</td>\n",
       "      <td>1</td>\n",
       "      <td>1</td>\n",
       "      <td>2</td>\n",
       "      <td>1</td>\n",
       "      <td>3</td>\n",
       "      <td>2</td>\n",
       "      <td>0</td>\n",
       "    </tr>\n",
       "  </tbody>\n",
       "</table>\n",
       "<p>191430 rows × 15 columns</p>\n",
       "</div>"
      ],
      "text/plain": [
       "        Age  Gender  Family History  Personal History  Current Stressors  \\\n",
       "0        38       0               0                 0                  0   \n",
       "1        51       0               0                 1                  1   \n",
       "2        32       1               1                 1                  1   \n",
       "3        64       1               0                 1                  0   \n",
       "4        31       0               1                 1                  0   \n",
       "...     ...     ...             ...               ...                ...   \n",
       "191425   52       0               1                 0                  1   \n",
       "191426   34       0               1                 0                  0   \n",
       "191427   54       1               0                 0                  1   \n",
       "191428   47       0               0                 0                  1   \n",
       "191429   24       1               1                 1                  1   \n",
       "\n",
       "        Symptoms  Severity  Impact on Life  Demographics  Medical History  \\\n",
       "0              0         0               0             0                0   \n",
       "1              1         0               0             1                1   \n",
       "2              1         0               1             1                0   \n",
       "3              2         1               2             0                0   \n",
       "4              1         0               2             0                1   \n",
       "...          ...       ...             ...           ...              ...   \n",
       "191425         2         2               1             0                2   \n",
       "191426         1         1               1             0                0   \n",
       "191427         1         2               2             0                2   \n",
       "191428         1         2               0             0                3   \n",
       "191429         0         2               0             1                1   \n",
       "\n",
       "        Psychiatric History  Substance Use  Coping Mechanisms  Social Support  \\\n",
       "0                         0              0                  0               0   \n",
       "1                         1              1                  1               0   \n",
       "2                         2              0                  2               1   \n",
       "3                         3              0                  3               0   \n",
       "4                         3              1                  2               2   \n",
       "...                     ...            ...                ...             ...   \n",
       "191425                    1              1                  2               0   \n",
       "191426                    2              1                  0               0   \n",
       "191427                    2              2                  0               0   \n",
       "191428                    0              2                  1               2   \n",
       "191429                    2              1                  3               2   \n",
       "\n",
       "        Lifestyle Factors  \n",
       "0                       0  \n",
       "1                       0  \n",
       "2                       1  \n",
       "3                       1  \n",
       "4                       0  \n",
       "...                   ...  \n",
       "191425                  0  \n",
       "191426                  0  \n",
       "191427                  0  \n",
       "191428                  0  \n",
       "191429                  0  \n",
       "\n",
       "[191430 rows x 15 columns]"
      ]
     },
     "execution_count": 38,
     "metadata": {},
     "output_type": "execute_result"
    }
   ],
   "source": [
    "x_res"
   ]
  },
  {
   "cell_type": "code",
   "execution_count": 39,
   "id": "82b0eff9-ac63-4cb8-95a7-c685ad958fd5",
   "metadata": {},
   "outputs": [
    {
     "data": {
      "text/plain": [
       "0         0\n",
       "1         0\n",
       "2         0\n",
       "3         0\n",
       "4         0\n",
       "         ..\n",
       "191425    1\n",
       "191426    1\n",
       "191427    1\n",
       "191428    1\n",
       "191429    1\n",
       "Name: Panic Disorder Diagnosis, Length: 191430, dtype: int64"
      ]
     },
     "execution_count": 39,
     "metadata": {},
     "output_type": "execute_result"
    }
   ],
   "source": [
    "y_res"
   ]
  },
  {
   "cell_type": "code",
   "execution_count": 40,
   "id": "0517bc27-d4da-473b-b95a-2dd83acd37ee",
   "metadata": {},
   "outputs": [
    {
     "data": {
      "text/html": [
       "<div>\n",
       "<style scoped>\n",
       "    .dataframe tbody tr th:only-of-type {\n",
       "        vertical-align: middle;\n",
       "    }\n",
       "\n",
       "    .dataframe tbody tr th {\n",
       "        vertical-align: top;\n",
       "    }\n",
       "\n",
       "    .dataframe thead th {\n",
       "        text-align: right;\n",
       "    }\n",
       "</style>\n",
       "<table border=\"1\" class=\"dataframe\">\n",
       "  <thead>\n",
       "    <tr style=\"text-align: right;\">\n",
       "      <th></th>\n",
       "      <th>Age</th>\n",
       "      <th>Gender</th>\n",
       "      <th>Family History</th>\n",
       "      <th>Personal History</th>\n",
       "      <th>Current Stressors</th>\n",
       "      <th>Symptoms</th>\n",
       "      <th>Severity</th>\n",
       "      <th>Impact on Life</th>\n",
       "      <th>Demographics</th>\n",
       "      <th>Medical History</th>\n",
       "      <th>Psychiatric History</th>\n",
       "      <th>Substance Use</th>\n",
       "      <th>Coping Mechanisms</th>\n",
       "      <th>Social Support</th>\n",
       "      <th>Lifestyle Factors</th>\n",
       "    </tr>\n",
       "  </thead>\n",
       "  <tbody>\n",
       "    <tr>\n",
       "      <th>0</th>\n",
       "      <td>38</td>\n",
       "      <td>0</td>\n",
       "      <td>0</td>\n",
       "      <td>0</td>\n",
       "      <td>0</td>\n",
       "      <td>0</td>\n",
       "      <td>0</td>\n",
       "      <td>0</td>\n",
       "      <td>0</td>\n",
       "      <td>0</td>\n",
       "      <td>0</td>\n",
       "      <td>0</td>\n",
       "      <td>0</td>\n",
       "      <td>0</td>\n",
       "      <td>0</td>\n",
       "    </tr>\n",
       "    <tr>\n",
       "      <th>1</th>\n",
       "      <td>51</td>\n",
       "      <td>0</td>\n",
       "      <td>0</td>\n",
       "      <td>1</td>\n",
       "      <td>1</td>\n",
       "      <td>1</td>\n",
       "      <td>0</td>\n",
       "      <td>0</td>\n",
       "      <td>1</td>\n",
       "      <td>1</td>\n",
       "      <td>1</td>\n",
       "      <td>1</td>\n",
       "      <td>1</td>\n",
       "      <td>0</td>\n",
       "      <td>0</td>\n",
       "    </tr>\n",
       "    <tr>\n",
       "      <th>2</th>\n",
       "      <td>32</td>\n",
       "      <td>1</td>\n",
       "      <td>1</td>\n",
       "      <td>1</td>\n",
       "      <td>1</td>\n",
       "      <td>1</td>\n",
       "      <td>0</td>\n",
       "      <td>1</td>\n",
       "      <td>1</td>\n",
       "      <td>0</td>\n",
       "      <td>2</td>\n",
       "      <td>0</td>\n",
       "      <td>2</td>\n",
       "      <td>1</td>\n",
       "      <td>1</td>\n",
       "    </tr>\n",
       "    <tr>\n",
       "      <th>3</th>\n",
       "      <td>64</td>\n",
       "      <td>1</td>\n",
       "      <td>0</td>\n",
       "      <td>1</td>\n",
       "      <td>0</td>\n",
       "      <td>2</td>\n",
       "      <td>1</td>\n",
       "      <td>2</td>\n",
       "      <td>0</td>\n",
       "      <td>0</td>\n",
       "      <td>3</td>\n",
       "      <td>0</td>\n",
       "      <td>3</td>\n",
       "      <td>0</td>\n",
       "      <td>1</td>\n",
       "    </tr>\n",
       "    <tr>\n",
       "      <th>4</th>\n",
       "      <td>31</td>\n",
       "      <td>0</td>\n",
       "      <td>1</td>\n",
       "      <td>1</td>\n",
       "      <td>0</td>\n",
       "      <td>1</td>\n",
       "      <td>0</td>\n",
       "      <td>2</td>\n",
       "      <td>0</td>\n",
       "      <td>1</td>\n",
       "      <td>3</td>\n",
       "      <td>1</td>\n",
       "      <td>2</td>\n",
       "      <td>2</td>\n",
       "      <td>0</td>\n",
       "    </tr>\n",
       "    <tr>\n",
       "      <th>...</th>\n",
       "      <td>...</td>\n",
       "      <td>...</td>\n",
       "      <td>...</td>\n",
       "      <td>...</td>\n",
       "      <td>...</td>\n",
       "      <td>...</td>\n",
       "      <td>...</td>\n",
       "      <td>...</td>\n",
       "      <td>...</td>\n",
       "      <td>...</td>\n",
       "      <td>...</td>\n",
       "      <td>...</td>\n",
       "      <td>...</td>\n",
       "      <td>...</td>\n",
       "      <td>...</td>\n",
       "    </tr>\n",
       "    <tr>\n",
       "      <th>99995</th>\n",
       "      <td>22</td>\n",
       "      <td>0</td>\n",
       "      <td>1</td>\n",
       "      <td>1</td>\n",
       "      <td>1</td>\n",
       "      <td>2</td>\n",
       "      <td>0</td>\n",
       "      <td>0</td>\n",
       "      <td>0</td>\n",
       "      <td>3</td>\n",
       "      <td>3</td>\n",
       "      <td>0</td>\n",
       "      <td>0</td>\n",
       "      <td>2</td>\n",
       "      <td>2</td>\n",
       "    </tr>\n",
       "    <tr>\n",
       "      <th>99996</th>\n",
       "      <td>57</td>\n",
       "      <td>1</td>\n",
       "      <td>0</td>\n",
       "      <td>0</td>\n",
       "      <td>2</td>\n",
       "      <td>1</td>\n",
       "      <td>2</td>\n",
       "      <td>0</td>\n",
       "      <td>0</td>\n",
       "      <td>3</td>\n",
       "      <td>2</td>\n",
       "      <td>0</td>\n",
       "      <td>3</td>\n",
       "      <td>0</td>\n",
       "      <td>2</td>\n",
       "    </tr>\n",
       "    <tr>\n",
       "      <th>99997</th>\n",
       "      <td>20</td>\n",
       "      <td>0</td>\n",
       "      <td>1</td>\n",
       "      <td>1</td>\n",
       "      <td>0</td>\n",
       "      <td>1</td>\n",
       "      <td>2</td>\n",
       "      <td>2</td>\n",
       "      <td>0</td>\n",
       "      <td>3</td>\n",
       "      <td>0</td>\n",
       "      <td>0</td>\n",
       "      <td>2</td>\n",
       "      <td>2</td>\n",
       "      <td>1</td>\n",
       "    </tr>\n",
       "    <tr>\n",
       "      <th>99998</th>\n",
       "      <td>56</td>\n",
       "      <td>1</td>\n",
       "      <td>1</td>\n",
       "      <td>0</td>\n",
       "      <td>1</td>\n",
       "      <td>2</td>\n",
       "      <td>2</td>\n",
       "      <td>0</td>\n",
       "      <td>0</td>\n",
       "      <td>0</td>\n",
       "      <td>1</td>\n",
       "      <td>1</td>\n",
       "      <td>0</td>\n",
       "      <td>0</td>\n",
       "      <td>0</td>\n",
       "    </tr>\n",
       "    <tr>\n",
       "      <th>99999</th>\n",
       "      <td>18</td>\n",
       "      <td>0</td>\n",
       "      <td>0</td>\n",
       "      <td>1</td>\n",
       "      <td>2</td>\n",
       "      <td>1</td>\n",
       "      <td>2</td>\n",
       "      <td>0</td>\n",
       "      <td>0</td>\n",
       "      <td>0</td>\n",
       "      <td>3</td>\n",
       "      <td>0</td>\n",
       "      <td>3</td>\n",
       "      <td>1</td>\n",
       "      <td>1</td>\n",
       "    </tr>\n",
       "  </tbody>\n",
       "</table>\n",
       "<p>100000 rows × 15 columns</p>\n",
       "</div>"
      ],
      "text/plain": [
       "       Age  Gender  Family History  Personal History  Current Stressors  \\\n",
       "0       38       0               0                 0                  0   \n",
       "1       51       0               0                 1                  1   \n",
       "2       32       1               1                 1                  1   \n",
       "3       64       1               0                 1                  0   \n",
       "4       31       0               1                 1                  0   \n",
       "...    ...     ...             ...               ...                ...   \n",
       "99995   22       0               1                 1                  1   \n",
       "99996   57       1               0                 0                  2   \n",
       "99997   20       0               1                 1                  0   \n",
       "99998   56       1               1                 0                  1   \n",
       "99999   18       0               0                 1                  2   \n",
       "\n",
       "       Symptoms  Severity  Impact on Life  Demographics  Medical History  \\\n",
       "0             0         0               0             0                0   \n",
       "1             1         0               0             1                1   \n",
       "2             1         0               1             1                0   \n",
       "3             2         1               2             0                0   \n",
       "4             1         0               2             0                1   \n",
       "...         ...       ...             ...           ...              ...   \n",
       "99995         2         0               0             0                3   \n",
       "99996         1         2               0             0                3   \n",
       "99997         1         2               2             0                3   \n",
       "99998         2         2               0             0                0   \n",
       "99999         1         2               0             0                0   \n",
       "\n",
       "       Psychiatric History  Substance Use  Coping Mechanisms  Social Support  \\\n",
       "0                        0              0                  0               0   \n",
       "1                        1              1                  1               0   \n",
       "2                        2              0                  2               1   \n",
       "3                        3              0                  3               0   \n",
       "4                        3              1                  2               2   \n",
       "...                    ...            ...                ...             ...   \n",
       "99995                    3              0                  0               2   \n",
       "99996                    2              0                  3               0   \n",
       "99997                    0              0                  2               2   \n",
       "99998                    1              1                  0               0   \n",
       "99999                    3              0                  3               1   \n",
       "\n",
       "       Lifestyle Factors  \n",
       "0                      0  \n",
       "1                      0  \n",
       "2                      1  \n",
       "3                      1  \n",
       "4                      0  \n",
       "...                  ...  \n",
       "99995                  2  \n",
       "99996                  2  \n",
       "99997                  1  \n",
       "99998                  0  \n",
       "99999                  1  \n",
       "\n",
       "[100000 rows x 15 columns]"
      ]
     },
     "execution_count": 40,
     "metadata": {},
     "output_type": "execute_result"
    }
   ],
   "source": [
    "x"
   ]
  },
  {
   "cell_type": "code",
   "execution_count": 41,
   "id": "d9450c61-08e3-46a0-8b37-991aa4c24119",
   "metadata": {},
   "outputs": [
    {
     "data": {
      "text/plain": [
       "0        0\n",
       "1        0\n",
       "2        0\n",
       "3        0\n",
       "4        0\n",
       "        ..\n",
       "99995    0\n",
       "99996    0\n",
       "99997    0\n",
       "99998    1\n",
       "99999    0\n",
       "Name: Panic Disorder Diagnosis, Length: 100000, dtype: int64"
      ]
     },
     "execution_count": 41,
     "metadata": {},
     "output_type": "execute_result"
    }
   ],
   "source": [
    "y"
   ]
  },
  {
   "cell_type": "code",
   "execution_count": 42,
   "id": "97d31cd4-0c92-4687-b6e5-525a2e687a89",
   "metadata": {},
   "outputs": [
    {
     "data": {
      "text/plain": [
       "'\\nindices = np.random.choice(x_train[y_train[\\'Panic Disorder Diagnosis\\']==0].index,\\n                           size=x_train[y_train[\\'Panic Disorder Diagnosis\\']==1].shape[0],\\n                           replace=False)\\ntemp_x = x_train[y_train[\\'Panic Disorder Diagnosis\\']==0].loc[indices]\\ntemp_x = temp_x.append(x_train[y_train[\\'Panic Disorder Diagnosis\\']==1])\\ntemp_y = y_train[y_train[\\'Panic Disorder Diagnosis\\']==0].loc[indices]\\ntemp_y = temp_y.append(y_train[y_train[\\'Panic Disorder Diagnosis\\']==1])\\nprint(x_train.shape, y_train.shape)\\nprint(\"Before balancing\", Counter(y_train[\\'Panic Disorder Diagnosis\\']))\\nprint(temp_x.shape, temp_y.shape)\\nprint(\"After balancing\", Counter(temp_y[\\'Panic Disorder Diagnosis\\']))\\n'"
      ]
     },
     "execution_count": 42,
     "metadata": {},
     "output_type": "execute_result"
    }
   ],
   "source": [
    "\"\"\"\n",
    "indices = np.random.choice(x_train[y_train['Panic Disorder Diagnosis']==0].index,\n",
    "                           size=x_train[y_train['Panic Disorder Diagnosis']==1].shape[0],\n",
    "                           replace=False)\n",
    "temp_x = x_train[y_train['Panic Disorder Diagnosis']==0].loc[indices]\n",
    "temp_x = temp_x.append(x_train[y_train['Panic Disorder Diagnosis']==1])\n",
    "temp_y = y_train[y_train['Panic Disorder Diagnosis']==0].loc[indices]\n",
    "temp_y = temp_y.append(y_train[y_train['Panic Disorder Diagnosis']==1])\n",
    "print(x_train.shape, y_train.shape)\n",
    "print(\"Before balancing\", Counter(y_train['Panic Disorder Diagnosis']))\n",
    "print(temp_x.shape, temp_y.shape)\n",
    "print(\"After balancing\", Counter(temp_y['Panic Disorder Diagnosis']))\n",
    "\"\"\""
   ]
  },
  {
   "cell_type": "code",
   "execution_count": null,
   "id": "99b1b27b-8425-4d69-9e2e-9806c9d133e1",
   "metadata": {},
   "outputs": [],
   "source": []
  }
 ],
 "metadata": {
  "kernelspec": {
   "display_name": "Python 3 (ipykernel)",
   "language": "python",
   "name": "python3"
  },
  "language_info": {
   "codemirror_mode": {
    "name": "ipython",
    "version": 3
   },
   "file_extension": ".py",
   "mimetype": "text/x-python",
   "name": "python",
   "nbconvert_exporter": "python",
   "pygments_lexer": "ipython3",
   "version": "3.11.7"
  },
  "widgets": {
   "application/vnd.jupyter.widget-state+json": {
    "state": {},
    "version_major": 2,
    "version_minor": 0
   }
  }
 },
 "nbformat": 4,
 "nbformat_minor": 5
}
